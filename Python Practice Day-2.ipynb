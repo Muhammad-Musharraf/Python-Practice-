{
 "cells": [
  {
   "cell_type": "code",
   "execution_count": 6,
   "id": "4d9c8afe-c5a6-49c2-b7cc-55a35c07059c",
   "metadata": {},
   "outputs": [
    {
     "name": "stdout",
     "output_type": "stream",
     "text": [
      "PYTHON\n"
     ]
    }
   ],
   "source": [
    "#Q11:Converting a list of string inti String\n",
    "string=[\"P\",\"Y\",\"T\",\"H\",\"O\",\"N\"]\n",
    "word =\"\".join(string)\n",
    "print(word)\n"
   ]
  },
  {
   "cell_type": "code",
   "execution_count": 15,
   "id": "78472c77-7fa1-4015-9845-5f23f53361da",
   "metadata": {},
   "outputs": [
    {
     "name": "stdin",
     "output_type": "stream",
     "text": [
      "Enter the Range (n,n-1) of string  10\n",
      "Enter the string of word to store in list U\n",
      "Enter the string of word to store in list M\n",
      "Enter the string of word to store in list M\n",
      "Enter the string of word to store in list U\n",
      "Enter the string of word to store in list L\n",
      "Enter the string of word to store in list \n",
      "Enter the string of word to store in list W\n",
      "Enter the string of word to store in list A\n",
      "Enter the string of word to store in list R\n",
      "Enter the string of word to store in list A\n"
     ]
    },
    {
     "name": "stdout",
     "output_type": "stream",
     "text": [
      "['U', 'M', 'M', 'U', 'L', '', 'W', 'A', 'R', 'A']\n",
      "\n",
      "List of given String: ['U', 'M', 'M', 'U', 'L', '', 'W', 'A', 'R', 'A']\n",
      "Word you write in String: UMMULWARA\n",
      "length of a Word is : 10\n"
     ]
    }
   ],
   "source": [
    "#Q11:Converting a list of string inti String (Modified)\n",
    "\n",
    "n=int(input(\"Enter the Range (n,n-1) of string \"))\n",
    "list_string=[]\n",
    "\n",
    "for i in range(n):\n",
    "    store=input(\"Enter the string of word to store in list\")\n",
    "    list_string.append(str(store))\n",
    "    \n",
    "print(list_string)\n",
    "word=\"\".join(list_string)\n",
    "\n",
    "print(f\"\"\"\n",
    "List of given String: {list_string}\n",
    "Word you write in String: {word}\n",
    "length of a Word is : {len(list_string)}\"\"\")\n",
    "\n",
    "    \n",
    "    "
   ]
  },
  {
   "cell_type": "code",
   "execution_count": 16,
   "id": "31113210-4b2c-4c38-b198-93cc551df98c",
   "metadata": {},
   "outputs": [
    {
     "name": "stdout",
     "output_type": "stream",
     "text": [
      "[7, 9, 11, 13, 15]\n"
     ]
    }
   ],
   "source": [
    "# Q12: Adding two list of element Together\n",
    "list1=[1,2,3,4,5]\n",
    "list2=[6,7,8,9,10]\n",
    "rest_list=[]\n",
    "for i in range(0,len(list1)):\n",
    "    rest_list.append(list1[i]+list2[i])\n",
    "\n",
    "print(rest_list)\n",
    "    \n",
    "    "
   ]
  },
  {
   "cell_type": "code",
   "execution_count": 29,
   "id": "3f2d3fd4-2f33-4d0f-b403-85dc7db5630a",
   "metadata": {},
   "outputs": [
    {
     "name": "stdout",
     "output_type": "stream",
     "text": [
      "LISTEN\n",
      "True\n"
     ]
    }
   ],
   "source": [
    "# Q13: Comparing Two strings for ANAGRAMS\n",
    "\n",
    "str1=\"Listen\"\n",
    "str2=\"silent\"\n",
    "\n",
    "str1=str1.replace(\" \",\"\").upper()\n",
    "str2=str2.replace(\" \",\"\").upper()\n",
    "if sorted(str1)==sorted(str2):\n",
    "    print(\"True\")\n",
    "else:\n",
    "    print(\"False\")\n",
    "\n"
   ]
  },
  {
   "cell_type": "code",
   "execution_count": 1,
   "id": "3413da33-403c-4069-a1f6-9cd7dc3b05cd",
   "metadata": {},
   "outputs": [
    {
     "name": "stdin",
     "output_type": "stream",
     "text": [
      "Enter The ANAGRAM Words Race\n",
      "Enter The ANAGRAM Words Care\n"
     ]
    },
    {
     "name": "stdout",
     "output_type": "stream",
     "text": [
      "True\n"
     ]
    }
   ],
   "source": [
    "\n",
    "# Q13: Comparing Two strings for ANAGRAMS\n",
    "\n",
    "str1=input(\"Enter The ANAGRAM Words\")\n",
    "str2=input(\"Enter The ANAGRAM Words\")\n",
    "\n",
    "str1=str1.replace(\" \",\"\").upper()\n",
    "str2=str2.replace(\" \",\"\").upper()\n",
    "if sorted(str1)==sorted(str2):\n",
    "    print(\"True\")\n",
    "else:\n",
    "    print(\"False\")\n",
    "\n"
   ]
  },
  {
   "cell_type": "code",
   "execution_count": 31,
   "id": "684611c6-7a64-4af9-aef4-5bf8d2680c6e",
   "metadata": {},
   "outputs": [
    {
     "name": "stdout",
     "output_type": "stream",
     "text": [
      "True\n"
     ]
    }
   ],
   "source": [
    "# Q14: Checking for palindome for Extended Slicing Technique\n",
    "word=\"Civic\".lower()\n",
    "if word==word[::-1]:\n",
    "    print(\"True\")\n",
    "\n",
    "else:\n",
    "    print(\"False\")\n",
    "    "
   ]
  },
  {
   "cell_type": "code",
   "execution_count": 35,
   "id": "ae74e7a9-79d5-4cbb-ba20-f0c0426dbdc9",
   "metadata": {},
   "outputs": [
    {
     "name": "stdin",
     "output_type": "stream",
     "text": [
      "Enter the palindrome words kayak\n"
     ]
    },
    {
     "name": "stdout",
     "output_type": "stream",
     "text": [
      "True\n"
     ]
    }
   ],
   "source": [
    "# Q14: Checking for palindome for Extended Slicing Technique (Modified)\n",
    "word=input(\"Enter the palindrome words\")\n",
    "word.lower()\n",
    "if word==word[::-1]:\n",
    "    print(\"True\")\n",
    "\n",
    "else:\n",
    "    print(\"False\")"
   ]
  },
  {
   "cell_type": "code",
   "execution_count": 40,
   "id": "5b178564-94cb-46dd-b410-f0514a97b820",
   "metadata": {},
   "outputs": [
    {
     "name": "stdout",
     "output_type": "stream",
     "text": [
      "P A K I S T A N\n",
      "7\n"
     ]
    }
   ],
   "source": [
    "# Q15: Counting White Space in the String\n",
    "count_space=\"P A K I S T A N\"\n",
    "print(count_space)\n",
    "print(count_Space.count(\" \"))\n"
   ]
  },
  {
   "cell_type": "code",
   "execution_count": 43,
   "id": "36ca0cbf-bfe9-4c22-9feb-c7f0fd9338c1",
   "metadata": {},
   "outputs": [
    {
     "name": "stdout",
     "output_type": "stream",
     "text": [
      "1\n",
      "8\n",
      "2\n"
     ]
    }
   ],
   "source": [
    "# Q16: Counting digit,letter,and Spaces in the String\n",
    "\n",
    "# import regular expression\n",
    "import re\n",
    "\n",
    "name=\"Python is 1\"\n",
    "digitcount=re.sub(\"[^0-9]\",\"\",name)\n",
    "lettercount=re.sub(\"[^a-zA-Z]\",\"\",name)\n",
    "spacecount=re.findall(\"[\\s]\",name)\n",
    "\n",
    "print(len(digitcount))\n",
    "print(len(lettercount))\n",
    "print(len(spacecount))"
   ]
  },
  {
   "cell_type": "code",
   "execution_count": 58,
   "id": "d1550090-3048-4c30-adf6-2cdd92902bee",
   "metadata": {},
   "outputs": [
    {
     "name": "stdout",
     "output_type": "stream",
     "text": [
      "11\n"
     ]
    }
   ],
   "source": [
    "# Q17: Counting Special Character in the String\n",
    "def sp_count(string):\n",
    "    sap_char=\"@!#$%^&*~|\\:></?\"\n",
    "    count=0\n",
    "    for i in string:\n",
    "        if i in sap_char:\n",
    "            count+=1\n",
    "    return count\n",
    "\n",
    "txt=\"Hello!!! saleem #how are you****$$$\"\n",
    "result=sp_count(txt)\n",
    "print(result)\n",
    "\n",
    "    "
   ]
  },
  {
   "cell_type": "code",
   "execution_count": 65,
   "id": "8d84e43c-91d8-4bf6-ac13-9cf76823930d",
   "metadata": {},
   "outputs": [
    {
     "name": "stdout",
     "output_type": "stream",
     "text": [
      "CODE\n"
     ]
    }
   ],
   "source": [
    "# Q18: Removing All White Space in the String\n",
    "import re\n",
    "string=\" C O D E \"\n",
    "space = re.compile(r'\\s+')\n",
    "result= re.sub(space,\"\",string)\n",
    "print(result)"
   ]
  },
  {
   "cell_type": "code",
   "execution_count": 67,
   "id": "46ef84b6-5bf8-4556-b3be-8fe5f6856e62",
   "metadata": {},
   "outputs": [
    {
     "name": "stdout",
     "output_type": "stream",
     "text": [
      "CODE\n"
     ]
    }
   ],
   "source": [
    "string=\" C O D E \"\n",
    "merge=\"\".join(char for char in string if char!=\" \")\n",
    "print(merge)\n"
   ]
  },
  {
   "cell_type": "code",
   "execution_count": 69,
   "id": "a02c1d2d-33b6-450f-b74a-8a5115df0f2e",
   "metadata": {},
   "outputs": [
    {
     "name": "stdout",
     "output_type": "stream",
     "text": [
      "CODE\n"
     ]
    }
   ],
   "source": [
    "string=\" C O D E \"\n",
    "merge=string.replace(\" \",\"\")\n",
    "print(merge)"
   ]
  },
  {
   "cell_type": "code",
   "execution_count": 77,
   "id": "2f093031-4740-4290-bd51-8895b95e3641",
   "metadata": {},
   "outputs": [
    {
     "name": "stdout",
     "output_type": "stream",
     "text": [
      "['ubl', 'kaleem', 'ERUM', 'python']\n"
     ]
    }
   ],
   "source": [
    "# Q19: Randimizing Items on the String\n",
    "from random import shuffle\n",
    "lst=[\"python\",\"ubl\",\"ERUM\", \"kaleem\"]\n",
    "shuffle(lst)\n",
    "print(lst)\n",
    "\n"
   ]
  },
  {
   "cell_type": "code",
   "execution_count": 88,
   "id": "398d8d87-5bb2-41b8-adc3-32528a83a7a9",
   "metadata": {},
   "outputs": [
    {
     "name": "stdout",
     "output_type": "stream",
     "text": [
      "     *\n",
      "    ***\n",
      "   *****\n",
      "  *******\n",
      " *********\n"
     ]
    }
   ],
   "source": [
    "# Q20: Buiding a Pyramids in Python.\n",
    "\n",
    "def pyramid(n):\n",
    "    for i in range(n):\n",
    "        for j in range(i,n):\n",
    "            print(\" \",end=\"\")\n",
    "        for j in range(i+1):\n",
    "            print(\"*\",end=\"\")\n",
    "        for j in range(i):\n",
    "            print(\"*\",end=\"\")\n",
    "        print(\"\")\n",
    "\n",
    "pyramid(5)\n",
    "            "
   ]
  },
  {
   "cell_type": "code",
   "execution_count": 97,
   "id": "3c5d4b25-41be-47da-a7d8-6b0551747187",
   "metadata": {},
   "outputs": [
    {
     "name": "stdin",
     "output_type": "stream",
     "text": [
      "Enter the odd number 9\n"
     ]
    },
    {
     "name": "stdout",
     "output_type": "stream",
     "text": [
      "    *\n",
      "   ***\n",
      "  *****\n",
      " *******\n",
      "*********\n",
      " *******\n",
      "  *****\n",
      "   ***\n",
      "    *\n"
     ]
    }
   ],
   "source": [
    "num=int(input(\"Enter the odd number\"))\n",
    "cnt=num//2\n",
    "snt=1\n",
    "for i in range(cnt+1):\n",
    "    print(cnt*\" \"+\"*\"*snt)\n",
    "    cnt=cnt-1\n",
    "    snt=snt+2\n",
    "snt=num-2\n",
    "cnt=1\n",
    "for i in range(num//2):\n",
    "    print(cnt*\" \"+\"*\"*snt)\n",
    "    cnt=cnt+1\n",
    "    snt=snt-2\n",
    "\n",
    "    "
   ]
  },
  {
   "cell_type": "code",
   "execution_count": null,
   "id": "7277d4da-7bab-4bd0-b82e-adee961cb9e7",
   "metadata": {},
   "outputs": [],
   "source": []
  },
  {
   "cell_type": "code",
   "execution_count": null,
   "id": "fd4e5d43-24e8-456b-99bf-a3fdf88422f9",
   "metadata": {},
   "outputs": [],
   "source": []
  }
 ],
 "metadata": {
  "kernelspec": {
   "display_name": "Python 3 (ipykernel)",
   "language": "python",
   "name": "python3"
  },
  "language_info": {
   "codemirror_mode": {
    "name": "ipython",
    "version": 3
   },
   "file_extension": ".py",
   "mimetype": "text/x-python",
   "name": "python",
   "nbconvert_exporter": "python",
   "pygments_lexer": "ipython3",
   "version": "3.13.5"
  }
 },
 "nbformat": 4,
 "nbformat_minor": 5
}
