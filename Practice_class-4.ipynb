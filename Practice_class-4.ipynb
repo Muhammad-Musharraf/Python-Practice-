{
 "cells": [
  {
   "cell_type": "markdown",
   "id": "6d923092-d28d-4a55-bcbd-6b81cc1974cb",
   "metadata": {},
   "source": [
    "# Loop\n",
    "Loop is the method of programming which is used for the work that you want to repeat again and again.\n",
    "\n",
    "2 type of loops in python\n",
    "* While Loop\n",
    "* for loop\n",
    "\n"
   ]
  },
  {
   "cell_type": "code",
   "execution_count": null,
   "id": "dfc11e06-b9ab-4266-8a93-6229a73d2d07",
   "metadata": {},
   "outputs": [],
   "source": [
    "\"\"\"\n",
    "syntax\n",
    "while condition:\n",
    "    code\n",
    "\"\"\"    "
   ]
  },
  {
   "cell_type": "code",
   "execution_count": 1,
   "id": "cc46b681-57ce-4126-b37c-eeebe7a440a2",
   "metadata": {},
   "outputs": [
    {
     "name": "stdout",
     "output_type": "stream",
     "text": [
      "1\n",
      "2\n",
      "3\n",
      "4\n",
      "5\n",
      "6\n",
      "7\n",
      "8\n",
      "9\n",
      "10\n"
     ]
    }
   ],
   "source": [
    "i =1\n",
    "while i<=10:\n",
    "    print(i)\n",
    "    i+=1"
   ]
  },
  {
   "cell_type": "code",
   "execution_count": 2,
   "id": "cecc7a4e-da7c-4a0c-bc77-81dd4724a3b0",
   "metadata": {},
   "outputs": [
    {
     "name": "stdout",
     "output_type": "stream",
     "text": [
      "Muhammad Musharraf\n",
      "Muhammad Musharraf\n",
      "Muhammad Musharraf\n",
      "Muhammad Musharraf\n",
      "Muhammad Musharraf\n",
      "Muhammad Musharraf\n",
      "Muhammad Musharraf\n",
      "Muhammad Musharraf\n",
      "Muhammad Musharraf\n",
      "Muhammad Musharraf\n"
     ]
    }
   ],
   "source": [
    "name=\"Muhammad Musharraf\"\n",
    "i =1\n",
    "while i<=10:\n",
    "    print(name)\n",
    "    i+=1"
   ]
  },
  {
   "cell_type": "code",
   "execution_count": 4,
   "id": "c3cca6ab-eb37-49f4-a7c4-a98fc000e747",
   "metadata": {},
   "outputs": [
    {
     "name": "stdin",
     "output_type": "stream",
     "text": [
      "enter a Table: 6\n"
     ]
    },
    {
     "name": "stdout",
     "output_type": "stream",
     "text": [
      "6\n",
      "12\n",
      "18\n",
      "24\n",
      "30\n",
      "36\n",
      "42\n",
      "48\n",
      "54\n",
      "60\n"
     ]
    }
   ],
   "source": [
    "num=int(input(\"enter a Table:\"))\n",
    "i=1\n",
    "while i<=10:\n",
    "    print(i*num)\n",
    "    i+=1"
   ]
  },
  {
   "cell_type": "code",
   "execution_count": 2,
   "id": "55b7969a-dccf-4aa5-a70a-ea1716f5eee7",
   "metadata": {},
   "outputs": [
    {
     "name": "stdin",
     "output_type": "stream",
     "text": [
      "enter a table:  6\n",
      "enter a range:  20\n"
     ]
    },
    {
     "name": "stdout",
     "output_type": "stream",
     "text": [
      "6 X 1= 6\n",
      "6 X 2= 12\n",
      "6 X 3= 18\n",
      "6 X 4= 24\n",
      "6 X 5= 30\n",
      "6 X 6= 36\n",
      "6 X 7= 42\n",
      "6 X 8= 48\n",
      "6 X 9= 54\n",
      "6 X 10= 60\n",
      "6 X 11= 66\n",
      "6 X 12= 72\n",
      "6 X 13= 78\n",
      "6 X 14= 84\n",
      "6 X 15= 90\n",
      "6 X 16= 96\n",
      "6 X 17= 102\n",
      "6 X 18= 108\n",
      "6 X 19= 114\n",
      "6 X 20= 120\n"
     ]
    }
   ],
   "source": [
    "table=int(input(\"enter a table: \"))\n",
    "rang=int(input(\"enter a range: \"))     \n",
    "i=1\n",
    "while i<=rang:\n",
    "    print(f\"{table} X {i}=\",table*i)\n",
    "    i+=1"
   ]
  },
  {
   "cell_type": "code",
   "execution_count": 3,
   "id": "29e51364-5ba5-4105-bba6-1d0b9059777c",
   "metadata": {},
   "outputs": [
    {
     "name": "stdout",
     "output_type": "stream",
     "text": [
      "1\n",
      "2\n",
      "3\n",
      "4\n",
      "5\n",
      "6\n",
      "7\n",
      "8\n",
      "9\n",
      "10\n",
      "i is no longer less than 10\n"
     ]
    }
   ],
   "source": [
    "# while loop with condition\n",
    "i=1\n",
    "while i<=10:\n",
    "    print(i)\n",
    "    i+=1\n",
    "    \n",
    "else:\n",
    "    print(\"i is no longer less than 10\" )\n",
    "\n",
    "\n"
   ]
  },
  {
   "cell_type": "code",
   "execution_count": null,
   "id": "2f242d8d-603d-4644-9c3b-f34aae47f207",
   "metadata": {},
   "outputs": [],
   "source": [
    "# Backward loop\n",
    "i=10\n",
    "while i>=1:\n",
    "    print(i)\n",
    "    i-=1\n",
    "    "
   ]
  },
  {
   "cell_type": "code",
   "execution_count": 7,
   "id": "50e5f333-b330-4388-b2d9-b23f185f01b2",
   "metadata": {},
   "outputs": [
    {
     "name": "stdout",
     "output_type": "stream",
     "text": [
      "Table With a range \n"
     ]
    },
    {
     "name": "stdin",
     "output_type": "stream",
     "text": [
      "enter a table: 4\n",
      "enter a range of a table: 20\n"
     ]
    },
    {
     "name": "stdout",
     "output_type": "stream",
     "text": [
      "4 X 20= 80\n",
      "4 X 19= 76\n",
      "4 X 18= 72\n",
      "4 X 17= 68\n",
      "4 X 16= 64\n",
      "4 X 15= 60\n",
      "4 X 14= 56\n",
      "4 X 13= 52\n",
      "4 X 12= 48\n",
      "4 X 11= 44\n",
      "4 X 10= 40\n",
      "4 X 9= 36\n",
      "4 X 8= 32\n",
      "4 X 7= 28\n",
      "4 X 6= 24\n",
      "4 X 5= 20\n",
      "4 X 4= 16\n",
      "4 X 3= 12\n",
      "4 X 2= 8\n",
      "4 X 1= 4\n"
     ]
    }
   ],
   "source": [
    "#Task for students\n",
    "''' Write a program of table using while loop in backward direction'''\n",
    "i=1\n",
    "print(\"Table With a range \")\n",
    "num=int(input(\"enter a table:\"))\n",
    "rang=int(input(\"enter a range of a table:\"))\n",
    "while rang>=i:\n",
    "    print(f\"{num} X {rang}=\", num*rang)\n",
    "    rang-=1\n",
    "        \n",
    "\n",
    "\n",
    "\n",
    "\n"
   ]
  },
  {
   "cell_type": "code",
   "execution_count": 5,
   "id": "6da13794-936c-4696-98bf-c0caa81724b0",
   "metadata": {},
   "outputs": [
    {
     "name": "stdout",
     "output_type": "stream",
     "text": [
      "Table without range\n"
     ]
    },
    {
     "name": "stdin",
     "output_type": "stream",
     "text": [
      "enter a table: 8\n"
     ]
    },
    {
     "name": "stdout",
     "output_type": "stream",
     "text": [
      "8 X 10= 80\n",
      "8 X 9= 72\n",
      "8 X 8= 64\n",
      "8 X 7= 56\n",
      "8 X 6= 48\n",
      "8 X 5= 40\n",
      "8 X 4= 32\n",
      "8 X 3= 24\n",
      "8 X 2= 16\n",
      "8 X 1= 8\n"
     ]
    }
   ],
   "source": [
    "#Task for students\n",
    "''' Write a program of table using while loop in backward direction'''\n",
    "print(\"Table without range\")\n",
    "i=10\n",
    "num=int(input(\"enter a table:\"))\n",
    "#rang=int(input(\"enter a range of a table:\"))\n",
    "while i>=1:\n",
    "    print(f\"{num} X {i}=\", num*i)\n",
    "    i-=1\n",
    "        "
   ]
  },
  {
   "cell_type": "raw",
   "id": "02a2f9c9-cd63-479d-b37d-bca4b77e49ee",
   "metadata": {},
   "source": [
    "While loop with conditions"
   ]
  },
  {
   "cell_type": "code",
   "execution_count": 10,
   "id": "45606c13-76e8-4d8c-8b86-6fff73397941",
   "metadata": {},
   "outputs": [
    {
     "name": "stdout",
     "output_type": "stream",
     "text": [
      "even number\n",
      "0\n",
      "2\n",
      "4\n",
      "6\n",
      "8\n",
      "10\n",
      "12\n",
      "14\n",
      "16\n",
      "18\n",
      "20\n",
      "22\n",
      "24\n",
      "26\n",
      "28\n",
      "30\n"
     ]
    }
   ],
   "source": [
    "print(\"even number\")\n",
    "count=0\n",
    "while count<=30:\n",
    "    \n",
    "    if count%2==0:\n",
    "        print(count)\n",
    "    count+=1    \n",
    "      "
   ]
  },
  {
   "cell_type": "code",
   "execution_count": 12,
   "id": "acbe9eda-2067-4f7d-ad32-5b90a9aee745",
   "metadata": {},
   "outputs": [
    {
     "name": "stdout",
     "output_type": "stream",
     "text": [
      "1\n",
      "3\n",
      "5\n",
      "7\n",
      "9\n",
      "11\n",
      "13\n",
      "15\n",
      "17\n",
      "19\n"
     ]
    }
   ],
   "source": [
    "# Odd numbers\n",
    "count=0\n",
    "while count<=20:\n",
    "    \n",
    "    if count%2!=0:\n",
    "        print(count)\n",
    "    count+=1 \n"
   ]
  },
  {
   "cell_type": "code",
   "execution_count": 13,
   "id": "01d0afd8-d672-4ff1-8261-8dfead8423f5",
   "metadata": {},
   "outputs": [
    {
     "name": "stdout",
     "output_type": "stream",
     "text": [
      "1\n",
      "3\n",
      "5\n",
      "7\n",
      "9\n",
      "11\n",
      "13\n",
      "15\n",
      "17\n",
      "19\n"
     ]
    }
   ],
   "source": [
    "# Odd numbers\n",
    "count=0\n",
    "while count<=20:\n",
    "    \n",
    "    if count%2==1:\n",
    "        print(count)\n",
    "    count+=1 "
   ]
  },
  {
   "cell_type": "code",
   "execution_count": 2,
   "id": "366d6504-14b1-460c-8ece-5eb90600cd69",
   "metadata": {},
   "outputs": [],
   "source": [
    "import random"
   ]
  },
  {
   "cell_type": "code",
   "execution_count": 3,
   "id": "9e271c59-b275-4ea9-bb47-9d5d100d7590",
   "metadata": {},
   "outputs": [
    {
     "name": "stdout",
     "output_type": "stream",
     "text": [
      "29\n"
     ]
    }
   ],
   "source": [
    "jackpot= random.randint(1,100)\n",
    "print(jackpot)"
   ]
  },
  {
   "cell_type": "code",
   "execution_count": 4,
   "id": "361c496b-9d61-4e0b-a155-a9c7c3653a0f",
   "metadata": {},
   "outputs": [
    {
     "name": "stdin",
     "output_type": "stream",
     "text": [
      "enter the number you can guess 1 to 100 50\n"
     ]
    },
    {
     "name": "stdout",
     "output_type": "stream",
     "text": [
      "guess Lower\n"
     ]
    },
    {
     "name": "stdin",
     "output_type": "stream",
     "text": [
      "guess Again... 45\n"
     ]
    },
    {
     "name": "stdout",
     "output_type": "stream",
     "text": [
      "guess Lower\n"
     ]
    },
    {
     "name": "stdin",
     "output_type": "stream",
     "text": [
      "guess Again... 40\n"
     ]
    },
    {
     "name": "stdout",
     "output_type": "stream",
     "text": [
      "guess Lower\n"
     ]
    },
    {
     "name": "stdin",
     "output_type": "stream",
     "text": [
      "guess Again... 36\n"
     ]
    },
    {
     "name": "stdout",
     "output_type": "stream",
     "text": [
      "guess Lower\n"
     ]
    },
    {
     "name": "stdin",
     "output_type": "stream",
     "text": [
      "guess Again... 30\n"
     ]
    },
    {
     "name": "stdout",
     "output_type": "stream",
     "text": [
      "guess Lower\n"
     ]
    },
    {
     "name": "stdin",
     "output_type": "stream",
     "text": [
      "guess Again... 20\n"
     ]
    },
    {
     "name": "stdout",
     "output_type": "stream",
     "text": [
      "guess Higher\n"
     ]
    },
    {
     "name": "stdin",
     "output_type": "stream",
     "text": [
      "guess Again... 25\n"
     ]
    },
    {
     "name": "stdout",
     "output_type": "stream",
     "text": [
      "guess Higher\n"
     ]
    },
    {
     "name": "stdin",
     "output_type": "stream",
     "text": [
      "guess Again... 28\n"
     ]
    },
    {
     "name": "stdout",
     "output_type": "stream",
     "text": [
      "guess Higher\n"
     ]
    },
    {
     "name": "stdin",
     "output_type": "stream",
     "text": [
      "guess Again... 29\n"
     ]
    },
    {
     "name": "stdout",
     "output_type": "stream",
     "text": [
      "write Answer\n",
      "Total Attempt: 9 \n"
     ]
    }
   ],
   "source": [
    "guess= int(input(\"enter the number you can guess 1 to 100\"))\n",
    "count=1\n",
    "while guess!=jackpot:\n",
    "    \n",
    "    if guess<jackpot:\n",
    "        print(\"guess Higher\")\n",
    "    else:\n",
    "        print(\"guess Lower\")\n",
    "    guess= int(input(\"guess Again...\"))\n",
    "    count+=1          \n",
    "print(\"write Answer\")\n",
    "print(f\"Total Attempt: {count} \" )\n"
   ]
  },
  {
   "cell_type": "code",
   "execution_count": 5,
   "id": "ca60ff4b-be49-41ac-8270-4ea32822b117",
   "metadata": {},
   "outputs": [
    {
     "data": {
      "text/plain": [
       "range(1, 12)"
      ]
     },
     "execution_count": 5,
     "metadata": {},
     "output_type": "execute_result"
    }
   ],
   "source": [
    "#range -------> Built in Function of for loop (0,n-1)\n",
    "range(1,12)"
   ]
  },
  {
   "cell_type": "code",
   "execution_count": 9,
   "id": "78a8a943-58cc-4ecc-90d8-5fb38d27ae50",
   "metadata": {},
   "outputs": [
    {
     "data": {
      "text/plain": [
       "[0, 1, 2, 3, 4, 5, 6, 7, 8, 9, 10, 11]"
      ]
     },
     "execution_count": 9,
     "metadata": {},
     "output_type": "execute_result"
    }
   ],
   "source": [
    "list(range(0,12))"
   ]
  },
  {
   "cell_type": "code",
   "execution_count": 10,
   "id": "69f34cb8-a29b-41f3-8ff6-2d45f80da089",
   "metadata": {},
   "outputs": [
    {
     "data": {
      "text/plain": [
       "[0, 1, 2, 3, 4]"
      ]
     },
     "execution_count": 10,
     "metadata": {},
     "output_type": "execute_result"
    }
   ],
   "source": [
    "list(range(5))"
   ]
  },
  {
   "cell_type": "code",
   "execution_count": 12,
   "id": "b1bf7841-677d-492c-89af-82659baf0f13",
   "metadata": {},
   "outputs": [
    {
     "data": {
      "text/plain": [
       "[1, 3, 5, 7, 9]"
      ]
     },
     "execution_count": 12,
     "metadata": {},
     "output_type": "execute_result"
    }
   ],
   "source": [
    "#range(start,stop,step)\n",
    "list(range(1,10,2))"
   ]
  },
  {
   "cell_type": "code",
   "execution_count": 22,
   "id": "f5b4bb94-e3e5-4b4f-83ca-64b6163282a0",
   "metadata": {},
   "outputs": [
    {
     "data": {
      "text/plain": [
       "[10, 9, 8, 7, 6, 5, 4, 3, 2, 1]"
      ]
     },
     "execution_count": 22,
     "metadata": {},
     "output_type": "execute_result"
    }
   ],
   "source": [
    "#Backward\n",
    "list(range(10,0,-1))"
   ]
  },
  {
   "cell_type": "markdown",
   "id": "d2c5b29e-5d24-4f16-a548-17f5232595cf",
   "metadata": {},
   "source": [
    "# For Loop"
   ]
  },
  {
   "cell_type": "code",
   "execution_count": 23,
   "id": "ebb2a2e3-cf94-4fb9-8e8b-025995f7e4e0",
   "metadata": {},
   "outputs": [
    {
     "name": "stdout",
     "output_type": "stream",
     "text": [
      "0\n",
      "1\n",
      "2\n",
      "3\n",
      "4\n",
      "5\n",
      "6\n",
      "7\n",
      "8\n",
      "9\n"
     ]
    }
   ],
   "source": [
    "#for (0,n-1)\n",
    "for i in range(0,10):\n",
    "    print(i)"
   ]
  },
  {
   "cell_type": "code",
   "execution_count": 24,
   "id": "330d094c-d417-484b-8e4b-d111deef5323",
   "metadata": {},
   "outputs": [
    {
     "name": "stdout",
     "output_type": "stream",
     "text": [
      "10\n",
      "9\n",
      "8\n",
      "7\n",
      "6\n",
      "5\n",
      "4\n",
      "3\n",
      "2\n",
      "1\n"
     ]
    }
   ],
   "source": [
    "for i in range(10,0,-1):\n",
    "    print(i)"
   ]
  },
  {
   "cell_type": "code",
   "execution_count": 26,
   "id": "81dfee7b-eb80-45c2-bca6-4b80137bdf12",
   "metadata": {},
   "outputs": [
    {
     "name": "stdin",
     "output_type": "stream",
     "text": [
      "enter a Table: 5\n"
     ]
    },
    {
     "name": "stdout",
     "output_type": "stream",
     "text": [
      "5\n",
      "10\n",
      "15\n",
      "20\n",
      "25\n",
      "30\n",
      "35\n",
      "40\n",
      "45\n",
      "50\n"
     ]
    }
   ],
   "source": [
    "# Write a table using for loop\n",
    "num=int(input(\"enter a Table:\"))\n",
    "for i in range(1,11):\n",
    "        print(i*num)\n",
    "\n"
   ]
  },
  {
   "cell_type": "code",
   "execution_count": 30,
   "id": "b052c0d4-6490-4179-bbef-d55ff1505f8d",
   "metadata": {},
   "outputs": [
    {
     "name": "stdin",
     "output_type": "stream",
     "text": [
      "enter a Table: 5\n"
     ]
    },
    {
     "name": "stdout",
     "output_type": "stream",
     "text": [
      "5 X 10 = 50\n",
      "5 X 9 = 45\n",
      "5 X 8 = 40\n",
      "5 X 7 = 35\n",
      "5 X 6 = 30\n",
      "5 X 5 = 25\n",
      "5 X 4 = 20\n",
      "5 X 3 = 15\n",
      "5 X 2 = 10\n",
      "5 X 1 = 5\n"
     ]
    }
   ],
   "source": [
    "# Write a backward  table using for loop\n",
    "num=int(input(\"enter a Table:\"))\n",
    "for i in range(10,0,-1):\n",
    "        print(f\"{num} X {i} =\",i*num)\n"
   ]
  },
  {
   "cell_type": "code",
   "execution_count": 31,
   "id": "05edcff5-0042-47e4-9a0e-642a460bdfd9",
   "metadata": {},
   "outputs": [
    {
     "name": "stdout",
     "output_type": "stream",
     "text": [
      "L\n",
      "a\n",
      "h\n",
      "o\n",
      "r\n",
      "e\n"
     ]
    }
   ],
   "source": [
    "#Sequence ------> use for forloop iteration in sequence using membership operator\n",
    "for i in \"Lahore\":\n",
    "    print(i)"
   ]
  },
  {
   "cell_type": "code",
   "execution_count": 32,
   "id": "be879a70-6b9f-4a9b-9f9f-cba273153215",
   "metadata": {},
   "outputs": [
    {
     "name": "stdout",
     "output_type": "stream",
     "text": [
      "Karachi"
     ]
    }
   ],
   "source": [
    "for i in \"Karachi\":\n",
    "    print(i,end=\"\")"
   ]
  },
  {
   "cell_type": "code",
   "execution_count": 37,
   "id": "4663933b-7542-4059-9890-c4d331e134fe",
   "metadata": {},
   "outputs": [
    {
     "name": "stdout",
     "output_type": "stream",
     "text": [
      "0\n",
      "2\n",
      "4\n",
      "6\n",
      "8\n",
      "10\n",
      "12\n",
      "14\n",
      "16\n",
      "18\n"
     ]
    }
   ],
   "source": [
    "for i in range(0,20,2):\n",
    "    print(i)\n",
    "\n",
    " "
   ]
  },
  {
   "cell_type": "raw",
   "id": "6750d031-4b15-4d18-bfc7-be376d3eb558",
   "metadata": {},
   "source": [
    "Note: When you know that how timesthe loop continue then use for loop, and if don't know use while loop\n",
    "\n",
    "Ex: We make guessing game and use while loop where we don't know how much time the loop run   "
   ]
  },
  {
   "cell_type": "raw",
   "id": "8497ee4a-d359-4614-aee1-4dcf653db9e3",
   "metadata": {},
   "source": [
    "Break & Continue\n",
    "\n",
    "*Break -----> Terminate (stop) the loop\n",
    "*Continue ------> Skip the particular iteration\n",
    "*Pass ------> the point here you unsure about adding the code you give pass"
   ]
  },
  {
   "cell_type": "code",
   "execution_count": 16,
   "id": "da995c68-cc16-4d66-9e16-2cbb71d56c42",
   "metadata": {},
   "outputs": [
    {
     "name": "stdout",
     "output_type": "stream",
     "text": [
      "1\n",
      "2\n",
      "3\n",
      "4\n",
      "5\n"
     ]
    }
   ],
   "source": [
    "# Break\n",
    "for i in range (1,10):\n",
    "    if i==6:\n",
    "        break\n",
    "    print(i)\n",
    "\n",
    "\n"
   ]
  },
  {
   "cell_type": "code",
   "execution_count": 9,
   "id": "e2053820-c67e-4c98-9935-d3bca2c67375",
   "metadata": {},
   "outputs": [
    {
     "name": "stdout",
     "output_type": "stream",
     "text": [
      "1\n",
      "2\n",
      "3\n",
      "4\n",
      "5\n",
      "6\n",
      "8\n",
      "9\n",
      "10\n"
     ]
    }
   ],
   "source": [
    "#continue\n",
    "for i in range(1,11):\n",
    "    if i==7:\n",
    "        continue\n",
    "    print(i)"
   ]
  },
  {
   "cell_type": "code",
   "execution_count": 11,
   "id": "79b086fd-08d8-494c-b1a5-1d7747326022",
   "metadata": {},
   "outputs": [],
   "source": [
    "# pass\n",
    "for i in range(10,2,-1):\n",
    "    pass"
   ]
  },
  {
   "cell_type": "code",
   "execution_count": 13,
   "id": "a76d160b-76b9-4e0b-8c49-01d733ec0c5b",
   "metadata": {},
   "outputs": [
    {
     "name": "stdout",
     "output_type": "stream",
     "text": [
      "0\n",
      "2\n",
      "4\n",
      "6\n",
      "8\n",
      "10\n",
      "12\n",
      "14\n",
      "16\n",
      "18\n"
     ]
    }
   ],
   "source": [
    "# For loop with if-else\n",
    "for i in range(0,20):\n",
    "    if i%2==0:\n",
    "        print(i)\n",
    "\n",
    "\n"
   ]
  },
  {
   "cell_type": "code",
   "execution_count": 18,
   "id": "b212427c-9abb-4e79-996c-8ab8dab8bc98",
   "metadata": {},
   "outputs": [
    {
     "name": "stdout",
     "output_type": "stream",
     "text": [
      "K\n",
      "r\n",
      "c\n",
      "h\n",
      "i\n"
     ]
    }
   ],
   "source": [
    "for i in \"Karachi\":\n",
    "    if i==\"a\":\n",
    "        continue\n",
    "    print(i)"
   ]
  },
  {
   "cell_type": "code",
   "execution_count": 24,
   "id": "0d80840c-ba92-4667-82b5-25c5850dbe0c",
   "metadata": {},
   "outputs": [
    {
     "name": "stdout",
     "output_type": "stream",
     "text": [
      "1\n",
      "2\n",
      "3\n",
      "4\n",
      "5\n",
      "6\n",
      "7\n",
      "8\n",
      "9\n",
      "10 is multiple of 10\n"
     ]
    }
   ],
   "source": [
    "for i in range(1,21):\n",
    "    if i%10==0:\n",
    "        print(f\"{i} is multiple of 10\")\n",
    "        break\n",
    "    else:\n",
    "        print(i)"
   ]
  },
  {
   "cell_type": "markdown",
   "id": "1ef3af8a-456b-43c3-b0c6-4f3aa6614bb9",
   "metadata": {},
   "source": [
    "# Strings Sequence of characters\n",
    "\n",
    "In python specifically, strings are the sequence of unicode characters\n",
    "\n",
    "* Creating Strings\n",
    "* Accessing Strings\n",
    "* Operations On Strings\n",
    "* String Functions"
   ]
  },
  {
   "cell_type": "code",
   "execution_count": 25,
   "id": "54132b90-c11f-44d3-b30f-6e860763ed02",
   "metadata": {},
   "outputs": [
    {
     "name": "stdout",
     "output_type": "stream",
     "text": [
      "Aliyan\n",
      "Wasay\n",
      "Usman\n"
     ]
    }
   ],
   "source": [
    "# Creating Strings\n",
    "name_1=\"Aliyan\"\n",
    "name_2=\"Wasay\"\n",
    "name_3=\"Usman\"\n",
    "print(name_1)\n",
    "print(name_2)\n",
    "print(name_3)"
   ]
  },
  {
   "cell_type": "markdown",
   "id": "16f2d597-592d-4649-8636-876ed09baafd",
   "metadata": {},
   "source": [
    "# Accessing Strings"
   ]
  },
  {
   "cell_type": "markdown",
   "id": "62bdd1c8-fc69-449a-a4bd-b06cffee3101",
   "metadata": {},
   "source": [
    "####Accessing Strings\n",
    "\n",
    "Indexing: concept use to access the string through index\n",
    "\n",
    "* Positive Indexing -----> Left to Right (Positive)\n",
    "* Negative Indexing -----> Right to Left (Negative)\n",
    "* Slicing: Return the string in the given range"
   ]
  },
  {
   "cell_type": "code",
   "execution_count": null,
   "id": "8c9b5f01-c270-467a-8d9e-2b074c9001d9",
   "metadata": {},
   "outputs": [],
   "source": [
    "#Positive:  0  1  2  3  4  5  6  7  8  9  10\n",
    "#           H  e  l  l  o     W  o  r  l  d\n",
    "\n",
    "#Negative: -11 -10 -9 -8 -7 -6 -5 -4 -3 -2  -1\n",
    "#           H   e   l  l  o     W  o  r  l   d"
   ]
  },
  {
   "cell_type": "code",
   "execution_count": 37,
   "id": "dfb50a99-5d8b-47a0-96c6-05b0c89ae6b8",
   "metadata": {},
   "outputs": [
    {
     "name": "stdout",
     "output_type": "stream",
     "text": [
      "H\n",
      "e\n",
      "l\n",
      "o\n",
      "Hello\n",
      "Hello\n",
      "olleH\n"
     ]
    }
   ],
   "source": [
    "# indexing\n",
    "# positive indexing\n",
    "\n",
    "a=\"Hello\"\n",
    "print(a[0])\n",
    "print(a[1])\n",
    "print(a[3])\n",
    "\n",
    "print(a[4])\n",
    "#print(a[:])\n",
    "#print(a[:5])\n",
    "#print(a[::-1])\n",
    "\n",
    "\n"
   ]
  },
  {
   "cell_type": "code",
   "execution_count": 31,
   "id": "ca85543e-3897-4801-b610-543456c3df3d",
   "metadata": {},
   "outputs": [
    {
     "ename": "IndexError",
     "evalue": "string index out of range",
     "output_type": "error",
     "traceback": [
      "\u001b[1;31m---------------------------------------------------------------------------\u001b[0m",
      "\u001b[1;31mIndexError\u001b[0m                                Traceback (most recent call last)",
      "Cell \u001b[1;32mIn[31], line 1\u001b[0m\n\u001b[1;32m----> 1\u001b[0m \u001b[38;5;28mprint\u001b[39m(a[\u001b[38;5;241m5\u001b[39m])\n",
      "\u001b[1;31mIndexError\u001b[0m: string index out of range"
     ]
    }
   ],
   "source": [
    "print(a[5])# index range error"
   ]
  },
  {
   "cell_type": "code",
   "execution_count": 39,
   "id": "547a0d69-d9f4-4fdd-bf16-eab34c1b2457",
   "metadata": {},
   "outputs": [
    {
     "name": "stdout",
     "output_type": "stream",
     "text": [
      "o\n",
      "l\n",
      "l\n",
      "e\n",
      "H\n"
     ]
    }
   ],
   "source": [
    "# negative indexing\n",
    "print(a[-1])\n",
    "print(a[-2])\n",
    "print(a[-3])\n",
    "print(a[-4])\n",
    "print(a[-5])\n"
   ]
  },
  {
   "cell_type": "code",
   "execution_count": 53,
   "id": "ac13f172-ecec-483a-a890-9c1ef0338be9",
   "metadata": {},
   "outputs": [
    {
     "name": "stdout",
     "output_type": "stream",
     "text": [
      "Mush\n",
      "usharraf\n",
      "Musharraf\n",
      "Musharr\n",
      "Msarf\n"
     ]
    }
   ],
   "source": [
    "#Slicing -----> string[start:end:step]\n",
    "# (0,n-1)\n",
    "b=\"Musharraf\"\n",
    "# positive sciling\n",
    "print(b[0:4])\n",
    "\n",
    "print(b[1:])\n",
    "print(b[:])\n",
    "print(b[0:7])\n",
    "print(b[::2])\n",
    "\n"
   ]
  },
  {
   "cell_type": "code",
   "execution_count": 61,
   "id": "3f5abeeb-45cd-46e8-b753-5d56314c9459",
   "metadata": {},
   "outputs": [
    {
     "name": "stdout",
     "output_type": "stream",
     "text": [
      "farrahsuM\n",
      "arra\n",
      "rra\n",
      "ar\n",
      "\n"
     ]
    }
   ],
   "source": [
    "#Negative\n",
    "print(b[::-1])# reverse\n",
    "print(b[-5:-1])\n",
    "print(b[-4:-1])\n",
    "print(b[-2:-6:-2])\n",
    "print(b[-1:-10])\n"
   ]
  },
  {
   "cell_type": "markdown",
   "id": "512b42ff-b0e1-4572-93d8-4680ee6deac1",
   "metadata": {},
   "source": [
    "####Operations On Strings\n",
    "\n",
    "* Arthematic Oerators\n",
    "* Comparison Operators\n",
    "* Logical Operators\n",
    "* Membership Operators\n",
    "* Loops On Strings"
   ]
  },
  {
   "cell_type": "code",
   "execution_count": 63,
   "id": "7742cfcc-52a7-48f6-9e44-4f8e7f7fb3b3",
   "metadata": {},
   "outputs": [
    {
     "name": "stdout",
     "output_type": "stream",
     "text": [
      "hello World\n",
      "hello hello hello hello hello \n"
     ]
    }
   ],
   "source": [
    "#Arthematic\n",
    "#Add\n",
    "print(\"hello\"+ \" World\")\n",
    "#product\n",
    "print(\"hello \"*5)\n"
   ]
  },
  {
   "cell_type": "code",
   "execution_count": 70,
   "id": "1172740c-66ea-4933-b13a-3e5d4d956612",
   "metadata": {},
   "outputs": [
    {
     "name": "stdout",
     "output_type": "stream",
     "text": [
      "True\n",
      "False\n",
      "True\n",
      "True\n",
      "True\n",
      "False\n",
      "True\n",
      "True\n",
      "True\n",
      "False\n",
      "False\n",
      "True\n"
     ]
    }
   ],
   "source": [
    "# comparison \n",
    "#Equal-Equal-to\n",
    "\n",
    "print(\"Hello\"==\"Hello\")\n",
    "print(\"hello\"==\"Hello\")\n",
    "print(\"hello\"!=\"Hello\")\n",
    "\n",
    "# not-equal-to\n",
    "print(\"hello\"!=\"world\")\n",
    "\n",
    "#Greater-Than & Less Than : Follows Lexiographical comparison -----> dictionary-order based on Unicode (ASCII) code point values of characters.\n",
    "\n",
    "print(\"Hello\"<\"World\")\n",
    "print(\"Hello\">\"World\")\n",
    "print(\"pakistan\">\"India\")\n",
    "print(\"Pak\">\"PAK\")\n",
    "\n",
    "# #Greater-Than-Equal-to & Less-Than-Equal-to :Also Follows exiograhical comparison\n",
    "print(\"Hello\"<=\"World\")\n",
    "print(\"Hello\">=\"World\")\n",
    "print(\"Hello\">\"hello\")\n",
    "print(\"PAK\">=\"PAK\")\n",
    "\n",
    "\n",
    "\n"
   ]
  },
  {
   "cell_type": "code",
   "execution_count": 71,
   "id": "6b7dbd86-3d87-4d9e-8792-3d747bd8cf38",
   "metadata": {},
   "outputs": [
    {
     "name": "stdout",
     "output_type": "stream",
     "text": [
      "True\n",
      "False\n"
     ]
    }
   ],
   "source": [
    "print(\"hello\">=\"Hello\")\n",
    "print(\"hello\"<=\"Hello\")"
   ]
  },
  {
   "cell_type": "markdown",
   "id": "6303505b-106b-4d14-a090-926a64980e36",
   "metadata": {},
   "source": [
    "* Ord() use to find the unicode of the chracter\n",
    "* chr() use to convert unicode to character"
   ]
  },
  {
   "cell_type": "code",
   "execution_count": 75,
   "id": "9b517acb-7f22-435e-9d91-ba98bd8507dd",
   "metadata": {},
   "outputs": [
    {
     "name": "stdout",
     "output_type": "stream",
     "text": [
      "112\n",
      "119\n",
      "111\n",
      "112\n"
     ]
    }
   ],
   "source": [
    "# chr to unicode)\n",
    "print(ord(\"p\"))\n",
    "print(ord(\"w\"))\n",
    "print(ord(\"o\"))\n",
    "print(ord(\"p\"))\n",
    "\n"
   ]
  },
  {
   "cell_type": "code",
   "execution_count": 78,
   "id": "4787683b-aaa1-4146-af0c-701e7a7df9d3",
   "metadata": {},
   "outputs": [
    {
     "name": "stdout",
     "output_type": "stream",
     "text": [
      "p\n",
      "H\n",
      "o\n"
     ]
    }
   ],
   "source": [
    "# unocode to char\n",
    "print(chr(112))\n",
    "print(chr(72))\n",
    "print(chr(111))"
   ]
  },
  {
   "cell_type": "code",
   "execution_count": null,
   "id": "be659a68-a4a4-4375-95ef-3cf0bab387ff",
   "metadata": {},
   "outputs": [],
   "source": []
  },
  {
   "cell_type": "code",
   "execution_count": null,
   "id": "4797f38c-b7cd-46cc-9ab4-b50a3db26af0",
   "metadata": {},
   "outputs": [],
   "source": []
  }
 ],
 "metadata": {
  "kernelspec": {
   "display_name": "Python 3 (ipykernel)",
   "language": "python",
   "name": "python3"
  },
  "language_info": {
   "codemirror_mode": {
    "name": "ipython",
    "version": 3
   },
   "file_extension": ".py",
   "mimetype": "text/x-python",
   "name": "python",
   "nbconvert_exporter": "python",
   "pygments_lexer": "ipython3",
   "version": "3.13.5"
  }
 },
 "nbformat": 4,
 "nbformat_minor": 5
}
