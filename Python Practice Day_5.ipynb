{
 "cells": [
  {
   "cell_type": "code",
   "execution_count": 16,
   "id": "a27cd5dd-4b80-4324-818d-502378701431",
   "metadata": {},
   "outputs": [
    {
     "name": "stdout",
     "output_type": "stream",
     "text": [
      "100 200\n"
     ]
    },
    {
     "data": {
      "text/plain": [
       "200"
      ]
     },
     "execution_count": 16,
     "metadata": {},
     "output_type": "execute_result"
    }
   ],
   "source": [
    "# Q # 41 What is init function??\n",
    "class test:\n",
    "    def __init__(self):\n",
    "        self.a=100\n",
    "        self.b=200\n",
    "\n",
    "t1=test()\n",
    "print(t1.a, t1.b)\n",
    "t1.a\n",
    "t1.b"
   ]
  },
  {
   "cell_type": "code",
   "execution_count": 1,
   "id": "8bcf07f5-a26c-4ba2-831b-d082ba3863a2",
   "metadata": {},
   "outputs": [
    {
     "name": "stdout",
     "output_type": "stream",
     "text": [
      "10\n"
     ]
    }
   ],
   "source": [
    "# Q 42 What are the Deafault Arguments in Function???\n",
    "\n",
    "def add(a,b,c=5): # c is a Deafault Aguments\n",
    "    return (a+b+c)\n",
    "\n",
    "Sum=add(2,3)\n",
    "print(Sum)\n"
   ]
  },
  {
   "cell_type": "code",
   "execution_count": 14,
   "id": "1e601a94-189a-47da-80a2-544e6f5379ba",
   "metadata": {},
   "outputs": [
    {
     "name": "stdout",
     "output_type": "stream",
     "text": [
      "[23, True, False, 34, 78, 99, 100, 10000]\n"
     ]
    }
   ],
   "source": [
    "# Q 43 Extract the int type in Hertrogenous list\n",
    "lst=[23,\"Hello\",True,14.33,\"Ali\",False,34,78,99,100,10000,\"World\"]\n",
    "int_list=[]\n",
    "\n",
    "for item in lst:\n",
    "    if isinstance(item,int):\n",
    "        int_list.append(item)\n",
    "        \n",
    "print(int_list) # isinstance check type and print True & False is int\n",
    "\n",
    "        \n",
    "\n",
    "\n",
    "\n",
    "\n"
   ]
  },
  {
   "cell_type": "code",
   "execution_count": 22,
   "id": "03a3a0da-cdd8-4089-a396-836b18db98d2",
   "metadata": {},
   "outputs": [
    {
     "name": "stdout",
     "output_type": "stream",
     "text": [
      "[23, 34, 78, 99, 100, 10000]\n"
     ]
    }
   ],
   "source": [
    "# Q 43 Extract the int type in Hertrogenous list used 2nd Method\n",
    "List=[23,\"Hello\",True,14.33,\"Ali\",False,34,78,99,100,10000,\"World\",\"c\",\"A\"]\n",
    "int_List=[]\n",
    "\n",
    "for item in List:\n",
    "    if type(item)==int:\n",
    "    \n",
    "        int_List.append(item)\n",
    "        \n",
    "print(int_List)"
   ]
  },
  {
   "cell_type": "code",
   "execution_count": 23,
   "id": "98cfad6e-8eb1-428b-8394-787e21181fe1",
   "metadata": {},
   "outputs": [
    {
     "name": "stdout",
     "output_type": "stream",
     "text": [
      "class of A\n",
      "Class of B\n",
      "Class of C\n"
     ]
    }
   ],
   "source": [
    "# Q:44 Does Python Support Multiple Inheritence???\n",
    "# yes Python Support Multiple Inheritance\n",
    "class A:\n",
    "    print(\"class of A\")\n",
    "\n",
    "class B:\n",
    "    print(\"Class of B\")\n",
    "class C(A,B):\n",
    "    print(\"Class of C\")\n",
    "\n"
   ]
  },
  {
   "cell_type": "code",
   "execution_count": 81,
   "id": "bbcac601-90fe-424b-8da7-9eb7c5fb6ab8",
   "metadata": {},
   "outputs": [
    {
     "name": "stdout",
     "output_type": "stream",
     "text": [
      "Before the Monkey Patching\n",
      "\n",
      "Send code to fetch data in database\n",
      "Send code to fetch data in database\n",
      "After patching monkey\n",
      "\n",
      "Send code to fetch data in database\n",
      "Send code to fetch data in database\n"
     ]
    }
   ],
   "source": [
    "# Q:45 Monkey Paching\n",
    "class test:\n",
    "    def __init__(self,x):\n",
    "        self.x= x\n",
    "\n",
    "    def get_data(self):\n",
    "        print(\"Send code to fetch data in database\")\n",
    "\n",
    "    def f1(self):\n",
    "        self.get_data()\n",
    "\n",
    "    def f2(self):\n",
    "        self.get_data()\n",
    "\n",
    "t1=test(44)\n",
    "print(\"Before the Monkey Patching\\n\")\n",
    "t1.f1()\n",
    "t1.f2()\n",
    "def get_newdata(self):\n",
    "    print(\"some code send from test data\")\n",
    "test.get_newdata=test.get_data\n",
    "\n",
    "print(\"After patching monkey\\n\")\n",
    "t1.f1()\n",
    "t1.f2()\n",
    "\n",
    "\n",
    "\n",
    "\n",
    "\n",
    "\n",
    "\n"
   ]
  },
  {
   "cell_type": "code",
   "execution_count": 10,
   "id": "040ac84f-8155-4b93-a721-ccccde4fcaa8",
   "metadata": {},
   "outputs": [
    {
     "name": "stdin",
     "output_type": "stream",
     "text": [
      "Enter the number to check it is prime or not:-..... 7\n"
     ]
    },
    {
     "name": "stdout",
     "output_type": "stream",
     "text": [
      "Prime Number\n"
     ]
    }
   ],
   "source": [
    "# Q:46 Check Wheather it is prime is or not\n",
    "num=int(input(\"Enter the number to check it is prime or not:-.....\"))\n",
    "\n",
    "for i in range(2,num):\n",
    "    if num%i==0:\n",
    "        print(\"Not Prime Number\")\n",
    "        break\n",
    "    \n",
    "else:\n",
    "    print(\"Prime Number\")\n",
    "    \n",
    "\n",
    "    \n",
    "    \n",
    "\n"
   ]
  },
  {
   "cell_type": "code",
   "execution_count": 48,
   "id": "5f80a2b1-2179-4fb4-8bdd-16261209e4d8",
   "metadata": {},
   "outputs": [
    {
     "name": "stdin",
     "output_type": "stream",
     "text": [
      "Enter The Number 5\n"
     ]
    },
    {
     "name": "stdout",
     "output_type": "stream",
     "text": [
      "Enter of Number 5 is Odd \n"
     ]
    }
   ],
   "source": [
    "# Q:47 Check Wheather it is Even or not\n",
    "s=int(input(\"Enter The Number to find Even or Odd\"))\n",
    "if s%2==0:\n",
    "    print(f\"Enter of Number {s} is Even  \")\n",
    "else:\n",
    "    print(f\"Enter of Number {s} is Odd \")\n",
    "\n",
    "    "
   ]
  },
  {
   "cell_type": "code",
   "execution_count": 58,
   "id": "50c7155f-b3bc-4468-9931-328496f85160",
   "metadata": {},
   "outputs": [
    {
     "name": "stdin",
     "output_type": "stream",
     "text": [
      "Enter The Number to find Positive OR Negative or Zero ^\n"
     ]
    },
    {
     "name": "stdout",
     "output_type": "stream",
     "text": [
      "Syntax invalid\n"
     ]
    }
   ],
   "source": [
    "# Q:48 Check Wheather it is positive or Negative\n",
    "try:\n",
    "    num1=int(input(\"Enter The Number to find Positive OR Negative or Zero\"))\n",
    "\n",
    "    if num1>0:\n",
    "        print(f\"{num1} Number is Positive\")\n",
    "    elif num1==0:\n",
    "        print(f\"{num1} Number is Zero\")\n",
    "    elif num1<0:\n",
    "        print(f\"{num1} Number is Negative\")\n",
    "    else:\n",
    "        print(f\"{num1} is Invalid Syntax\")\n",
    "except ValueError:\n",
    "    print(\"Syntax invalid\")\n",
    "    \n",
    "\n",
    "    \n",
    "    \n",
    "    \n",
    "    \n"
   ]
  },
  {
   "cell_type": "code",
   "execution_count": 61,
   "id": "d46f6aee-46b0-4954-8c6f-9781b837a33a",
   "metadata": {},
   "outputs": [
    {
     "name": "stdin",
     "output_type": "stream",
     "text": [
      "Enter the number1 :  230\n",
      "Enter the number2 :  270\n"
     ]
    },
    {
     "name": "stdout",
     "output_type": "stream",
     "text": [
      "The sum of 230 & 270 is 500\n"
     ]
    }
   ],
   "source": [
    "# Q:49 Write a Program to find sum of two nmber\n",
    "num1=int(input(\"Enter the number1 : \"))\n",
    "num2=int(input(\"Enter the number2 : \"))\n",
    "\n",
    "print(f\"The sum of {num1} & {num2} is {num1+num2}\")\n",
    "\n"
   ]
  },
  {
   "cell_type": "code",
   "execution_count": 66,
   "id": "2b6e3696-7b6a-4a34-a9ea-f2b7159c155e",
   "metadata": {},
   "outputs": [
    {
     "name": "stdin",
     "output_type": "stream",
     "text": [
      "Enter the number1 :  9\n",
      "Enter the number2 :  0\n"
     ]
    },
    {
     "data": {
      "text/plain": [
       "9"
      ]
     },
     "execution_count": 66,
     "metadata": {},
     "output_type": "execute_result"
    }
   ],
   "source": [
    "# Q:50 write a program to find GCD of two number\n",
    "num1=int(input(\"Enter the number1 : \"))\n",
    "num2=int(input(\"Enter the number2 : \"))\n",
    "def gcd(a,b):\n",
    "    if a==0 or a==b:\n",
    "        return b\n",
    "    elif b==0:\n",
    "        return a\n",
    "    elif a>b:\n",
    "        return (a-b,b)\n",
    "    return (a,b-a)\n",
    "\n",
    "gcd(num1,num2)"
   ]
  },
  {
   "cell_type": "code",
   "execution_count": 91,
   "id": "2d7d86d2-5a46-4da7-9fe2-58206c145327",
   "metadata": {},
   "outputs": [
    {
     "name": "stdin",
     "output_type": "stream",
     "text": [
      "Enter the number1 :  12\n",
      "Enter the number2 :  8\n"
     ]
    },
    {
     "name": "stdout",
     "output_type": "stream",
     "text": [
      "The GCD is 4\n",
      "The LCM is 24.0\n"
     ]
    }
   ],
   "source": [
    "# Find GCD\n",
    "a=int(input(\"Enter the number1 : \"))\n",
    "b=int(input(\"Enter the number2 : \"))\n",
    "t1,t2=a,b\n",
    "\n",
    "while b>0:\n",
    "    r=a%b\n",
    "    a = b\n",
    "    b = r\n",
    "gcd = a\n",
    "LCM=(t1*t2)/gcd\n",
    "\n",
    "print(\"The GCD is\",gcd)\n",
    "print(\"The LCM is\",LCM)"
   ]
  },
  {
   "cell_type": "code",
   "execution_count": 7,
   "id": "e51ffda8-2da5-4254-b11b-7477e2312fcf",
   "metadata": {},
   "outputs": [
    {
     "name": "stdin",
     "output_type": "stream",
     "text": [
      "Enter The Year 1800\n"
     ]
    },
    {
     "name": "stdout",
     "output_type": "stream",
     "text": [
      "1800 is  not a leap year\n"
     ]
    }
   ],
   "source": [
    "# Check the Leap year or Not\n",
    "year=int(input(\"Enter The Year\"))\n",
    "if year%4==0:\n",
    "    if year%100==0:\n",
    "        if year%400==0:\n",
    "            print(f\"{year} is a leap year\")\n",
    "\n",
    "        else:\n",
    "            print(f\"{year} is  not a leap year\")\n",
    "    else:\n",
    "        print(f\"{year} is a leap year\")    \n",
    "else:\n",
    "    print(f\"{year} is  not a leap year\")\n",
    "    "
   ]
  },
  {
   "cell_type": "code",
   "execution_count": 8,
   "id": "f2a95542-4049-4d9d-8bd4-5922e8b1bd89",
   "metadata": {},
   "outputs": [
    {
     "name": "stdin",
     "output_type": "stream",
     "text": [
      "Enter the number to check it is prime or not 7\n"
     ]
    },
    {
     "name": "stdout",
     "output_type": "stream",
     "text": [
      "2\n",
      "3\n",
      "4\n",
      "5\n",
      "6\n"
     ]
    }
   ],
   "source": [
    "num=int(input(\"Enter the number to check it is prime or not\"))\n",
    "\n",
    "for i in range(2,num):\n",
    "    print(i)"
   ]
  },
  {
   "cell_type": "code",
   "execution_count": null,
   "id": "ab6790e2-324f-4269-bcd6-5ab5744049db",
   "metadata": {},
   "outputs": [],
   "source": []
  }
 ],
 "metadata": {
  "kernelspec": {
   "display_name": "Python 3 (ipykernel)",
   "language": "python",
   "name": "python3"
  },
  "language_info": {
   "codemirror_mode": {
    "name": "ipython",
    "version": 3
   },
   "file_extension": ".py",
   "mimetype": "text/x-python",
   "name": "python",
   "nbconvert_exporter": "python",
   "pygments_lexer": "ipython3",
   "version": "3.13.5"
  }
 },
 "nbformat": 4,
 "nbformat_minor": 5
}
