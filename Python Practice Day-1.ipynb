{
 "cells": [
  {
   "cell_type": "code",
   "execution_count": 9,
   "id": "33ca1cbc-06c6-4b7c-843c-c8ef45482c98",
   "metadata": {},
   "outputs": [],
   "source": [
    "# Q1: Converting an integer into an decimal\n",
    "import decimal"
   ]
  },
  {
   "cell_type": "code",
   "execution_count": 10,
   "id": "e0901faa-6980-43a6-8689-9c4e96513bd9",
   "metadata": {},
   "outputs": [
    {
     "name": "stdout",
     "output_type": "stream",
     "text": [
      "12\n",
      "<class 'decimal.Decimal'>\n"
     ]
    }
   ],
   "source": [
    "integer=12\n",
    "print(decimal.Decimal(integer))\n",
    "print(type(decimal.Decimal(integer)))"
   ]
  },
  {
   "cell_type": "code",
   "execution_count": 12,
   "id": "1149a521-4bd6-493c-bb55-daea2138dc26",
   "metadata": {},
   "outputs": [
    {
     "name": "stdout",
     "output_type": "stream",
     "text": [
      "12345\n",
      "<class 'decimal.Decimal'>\n"
     ]
    }
   ],
   "source": [
    "# Q2: Converting an String of integer into an decimal\n",
    "\n",
    "string=\"12345\"\n",
    "print(decimal.Decimal(string))\n",
    "print(type(decimal.Decimal(string)))\n",
    "\n",
    "\n",
    "\n",
    "\n"
   ]
  },
  {
   "cell_type": "code",
   "execution_count": 17,
   "id": "74c97caf-a976-4a01-9eca-e34fb2e8f3e4",
   "metadata": {},
   "outputs": [
    {
     "name": "stdout",
     "output_type": "stream",
     "text": [
      "gnimmargorP nohtyP "
     ]
    }
   ],
   "source": [
    "# Q3: Reverse String through sciling\n",
    "String=\"Python Programming\"\n",
    "print(String[::-1])\n"
   ]
  },
  {
   "cell_type": "code",
   "execution_count": 22,
   "id": "20ee0484-2bf0-47e2-aa58-6e307f8a156c",
   "metadata": {},
   "outputs": [
    {
     "name": "stdout",
     "output_type": "stream",
     "text": [
      "3\n"
     ]
    }
   ],
   "source": [
    "#Q4: Counting Vowels in given words\n",
    "vowel=['a','e','i','o','u']\n",
    "word=\"Programming\"\n",
    "count=0\n",
    "for character in word:\n",
    "    if character in vowel:\n",
    "        count+=1\n",
    "\n",
    "print(count)\n",
    "        \n",
    "        "
   ]
  },
  {
   "cell_type": "code",
   "execution_count": 23,
   "id": "a5db6643-cbc9-4ade-916a-aaae006a1288",
   "metadata": {},
   "outputs": [
    {
     "name": "stdin",
     "output_type": "stream",
     "text": [
      "Enter any Word if you want to count Vowels Saleem Khan\n"
     ]
    },
    {
     "name": "stdout",
     "output_type": "stream",
     "text": [
      "4\n"
     ]
    }
   ],
   "source": [
    "#Q4: Counting Vowels in given words (modified)\n",
    "vowel=['a','e','i','o','u']\n",
    "word=input(\"Enter any Word if you want to count Vowels\")\n",
    "count=0 \n",
    "for character in word:\n",
    "    if character in vowel:\n",
    "        count+=1\n",
    "\n",
    "print(count)"
   ]
  },
  {
   "cell_type": "code",
   "execution_count": 26,
   "id": "86199332-aada-4f94-81a2-7a0d7e09be52",
   "metadata": {},
   "outputs": [
    {
     "name": "stdout",
     "output_type": "stream",
     "text": [
      "8\n",
      "11\n"
     ]
    }
   ],
   "source": [
    "#Q5: Counting Constants in given words\n",
    "vowel=['a','e','i','o','u']\n",
    "word=\"Programming\"\n",
    "count=0\n",
    "for character in word:\n",
    "    if character not in vowel:\n",
    "        count+=1\n",
    "\n",
    "print(count)\n",
    "print(len(word))"
   ]
  },
  {
   "cell_type": "code",
   "execution_count": 28,
   "id": "9999e99f-8859-4c80-af95-801ef20a139d",
   "metadata": {},
   "outputs": [
    {
     "name": "stdin",
     "output_type": "stream",
     "text": [
      "Enter the  Enter any Word if you want to count constants Pakistan\n"
     ]
    },
    {
     "name": "stdout",
     "output_type": "stream",
     "text": [
      "\n",
      "The count of constants in given words:5\n",
      "\n",
      "Total lenght of a words:8\n",
      "\n"
     ]
    }
   ],
   "source": [
    "#Q5: Counting Constants in given words (Modified)\n",
    "vowel=['a','e','i','o','u']\n",
    "word=input(\"Enter the  Enter any Word if you want to count constants\")\n",
    "count=0\n",
    "for character in word:\n",
    "    if character not in vowel:\n",
    "        count+=1\n",
    "\n",
    "print(f\"\"\"\n",
    "The count of constants in given words:{count}\n",
    "\n",
    "Total lenght of a words:{len(word)}\n",
    "\"\"\")"
   ]
  },
  {
   "cell_type": "code",
   "execution_count": 29,
   "id": "b6337f43-4857-4673-a66e-bf8798414343",
   "metadata": {},
   "outputs": [
    {
     "name": "stdout",
     "output_type": "stream",
     "text": [
      "2\n"
     ]
    }
   ],
   "source": [
    "#Q6: Counting the character of a occrance of a string\n",
    "word=\"Programming\"\n",
    "occurance=\"g\"\n",
    "count=0\n",
    "for i in word:\n",
    "    if i==occurance:\n",
    "        count+=1\n",
    "\n",
    "    \n",
    "\n",
    "print(count)\n"
   ]
  },
  {
   "cell_type": "code",
   "execution_count": 31,
   "id": "0f79c8b5-8d8a-44e5-a831-de52f1251e13",
   "metadata": {},
   "outputs": [
    {
     "name": "stdin",
     "output_type": "stream",
     "text": [
      "Enter the word to Check the occence of character  Saleem Khan\n",
      "write a character if word of charachter its  given occurance a\n"
     ]
    },
    {
     "name": "stdout",
     "output_type": "stream",
     "text": [
      "\n",
      "The count of occrance of Character in given words:2\n",
      "\n",
      "Total lenght of a words:11\n",
      "\n"
     ]
    }
   ],
   "source": [
    "#Q6: Counting the character of a occrance of a string (Modified)\n",
    "word=input(\"Enter the word to Check the occence of character \")\n",
    "occurance=input(\"write a character if word of charachter its  given occurance\")\n",
    "count=0\n",
    "for i in word:\n",
    "    if i==occurance:\n",
    "        count+=1\n",
    "\n",
    "    \n",
    "\n",
    "print(f\"\"\"\n",
    "The count of occrance of Character in given words:{count}\n",
    "\n",
    "Total lenght of a words:{len(word)}\n",
    "\"\"\")"
   ]
  },
  {
   "cell_type": "code",
   "execution_count": 41,
   "id": "a20aada5-eb93-4980-b9e6-abeac4512bc7",
   "metadata": {},
   "outputs": [
    {
     "name": "stdout",
     "output_type": "stream",
     "text": [
      "0,1,1,2,3,5,8\n"
     ]
    }
   ],
   "source": [
    "#Q7: Fabanacii Series\n",
    "fib=[0,1]\n",
    "n=5\n",
    "for i in range(n):\n",
    "    fib.append(fib[-1]+fib[-2])\n",
    "\n",
    "print(\",\".join(str(e) for e in  fib))\n",
    "\n"
   ]
  },
  {
   "cell_type": "code",
   "execution_count": 52,
   "id": "c8e7bb89-42cf-4486-85a3-2976b677ac79",
   "metadata": {},
   "outputs": [
    {
     "name": "stdin",
     "output_type": "stream",
     "text": [
      "Enter the Range of of a number 4\n",
      "Enter the Range of of a number of a list 1\n"
     ]
    },
    {
     "name": "stdout",
     "output_type": "stream",
     "text": [
      "[1]\n"
     ]
    },
    {
     "name": "stdin",
     "output_type": "stream",
     "text": [
      "Enter the Range of of a number of a list 2\n"
     ]
    },
    {
     "name": "stdout",
     "output_type": "stream",
     "text": [
      "[1, 2]\n"
     ]
    },
    {
     "name": "stdin",
     "output_type": "stream",
     "text": [
      "Enter the Range of of a number of a list 3\n"
     ]
    },
    {
     "name": "stdout",
     "output_type": "stream",
     "text": [
      "[1, 2, 3]\n"
     ]
    },
    {
     "name": "stdin",
     "output_type": "stream",
     "text": [
      "Enter the Range of of a number of a list 4\n"
     ]
    },
    {
     "name": "stdout",
     "output_type": "stream",
     "text": [
      "[1, 2, 3, 4]\n",
      "1,2,3,4,7,11,18,29\n"
     ]
    }
   ],
   "source": [
    "#Q7: Fabanacii Series (Modified)\n",
    "n=int(input(\"Enter the Range of of a number\"))\n",
    "\n",
    "fib=[]\n",
    "for i in range(n):\n",
    "    num=int(input(\"Enter the Range of of a number of a list\"))\n",
    "    fib.append(num)\n",
    "    print(fib)\n",
    "    \n",
    "\n",
    "for i in range(n):\n",
    "    fib.append(fib[-1]+fib[-2])\n",
    "\n",
    "print(\",\".join(str(e) for e in  fib))"
   ]
  },
  {
   "cell_type": "code",
   "execution_count": 66,
   "id": "e55b89e4-a199-49ee-b2a0-0eaa6493e0c0",
   "metadata": {},
   "outputs": [
    {
     "name": "stdout",
     "output_type": "stream",
     "text": [
      "78\n"
     ]
    }
   ],
   "source": [
    "#Q8: Finding Maximum number in the list\n",
    "numberlist=[12,3,55,23,6,78,33,4]\n",
    "max=numberlist[0]\n",
    "\n",
    "for num in numberlist:\n",
    "    if max<num:\n",
    "        max=num\n",
    "\n",
    "print(max)\n"
   ]
  },
  {
   "cell_type": "code",
   "execution_count": null,
   "id": "1d5c1272-247e-4ebe-a972-7ea4b8af6ecd",
   "metadata": {},
   "outputs": [],
   "source": []
  },
  {
   "cell_type": "code",
   "execution_count": 67,
   "id": "883dd50f-354e-49a9-a51c-5efbec73ea0a",
   "metadata": {},
   "outputs": [
    {
     "name": "stdout",
     "output_type": "stream",
     "text": [
      "3\n"
     ]
    }
   ],
   "source": [
    "#Q9: minimim number from list\n",
    "numberlist=[12,3,55,23,6,78,33,4]\n",
    "min=numberlist[0]\n",
    "\n",
    "for num in numberlist:\n",
    "    if min>num:\n",
    "        min=num\n",
    "\n",
    "print(min)\n"
   ]
  },
  {
   "cell_type": "code",
   "execution_count": 77,
   "id": "dc844e07-3daa-481e-bf13-df846b3936e9",
   "metadata": {},
   "outputs": [
    {
     "name": "stdout",
     "output_type": "stream",
     "text": [
      "5\n"
     ]
    }
   ],
   "source": [
    "#Q10: middle element of list\n",
    "\n",
    "numlist=[12,3,55,23,5,10,11,78,33]\n",
    "midElement=int(len(numlist)/2)\n",
    "print(numlist[midElement])\n"
   ]
  },
  {
   "cell_type": "code",
   "execution_count": null,
   "id": "af87a2fe-c94f-476b-a439-51899f66f8b6",
   "metadata": {},
   "outputs": [],
   "source": []
  }
 ],
 "metadata": {
  "kernelspec": {
   "display_name": "Python 3 (ipykernel)",
   "language": "python",
   "name": "python3"
  },
  "language_info": {
   "codemirror_mode": {
    "name": "ipython",
    "version": 3
   },
   "file_extension": ".py",
   "mimetype": "text/x-python",
   "name": "python",
   "nbconvert_exporter": "python",
   "pygments_lexer": "ipython3",
   "version": "3.13.5"
  }
 },
 "nbformat": 4,
 "nbformat_minor": 5
}
