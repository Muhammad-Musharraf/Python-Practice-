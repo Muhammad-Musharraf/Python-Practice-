{
 "cells": [
  {
   "cell_type": "code",
   "execution_count": 1,
   "id": "a7e14871-7e2c-4243-87f8-1eee1a7c1d69",
   "metadata": {},
   "outputs": [
    {
     "name": "stdout",
     "output_type": "stream",
     "text": [
      "<class 'int'>\n",
      "<class 'str'>\n",
      "51234\n",
      "1239\n"
     ]
    }
   ],
   "source": [
    "# Q31 Type Conversion\n",
    "x=5\n",
    "print(type(x))\n",
    "\n",
    "s1=\"1234\"\n",
    "print(type(s1))\n",
    "print(str(x)+ s1)\n",
    "print(int(s1) + x )\n"
   ]
  },
  {
   "cell_type": "code",
   "execution_count": 39,
   "id": "cfb68ac8-ace5-4033-86f6-145629c27cf5",
   "metadata": {},
   "outputs": [
    {
     "name": "stdout",
     "output_type": "stream",
     "text": [
      "Before Using The Function\n",
      "Hello!!\n",
      "Thanks For Using this Function\n",
      "Before Using The Function\n",
      "5\n",
      "Thanks For Using this Function\n",
      "Before Using The Function\n",
      "10\n",
      "Thanks For Using this Function\n"
     ]
    }
   ],
   "source": [
    "# Q32 What is Python Decorators???\n",
    "#function Decorators\n",
    "def welcome(fx):\n",
    "    def mfx(*t,**d):\n",
    "        print(\"Before Using The Function\")\n",
    "        fx(*t,**d)\n",
    "        print(\"Thanks For Using this Function\")\n",
    "\n",
    "    return mfx\n",
    "\n",
    "@welcome\n",
    "def hello():\n",
    "    print(\"Hello!!\")\n",
    "\n",
    "\n",
    "@welcome\n",
    "def add(a,b):\n",
    "    print(a+b)\n",
    "\n",
    "@welcome\n",
    "def sub(a,b):\n",
    "    print(a-b)\n",
    "        \n",
    "        \n",
    "\n",
    "hello()\n",
    "add(2,3)\n",
    "sub(12,2)\n",
    "\n",
    "\n",
    "\n",
    "\n",
    "\n",
    "\n"
   ]
  },
  {
   "cell_type": "code",
   "execution_count": 39,
   "id": "30b2dd15-7488-4232-ba27-d9aa863a24d2",
   "metadata": {},
   "outputs": [
    {
     "name": "stdout",
     "output_type": "stream",
     "text": [
      "Before Using The Function\n",
      "Hello!!\n",
      "Thanks For Using this Function\n",
      "Before Using The Function\n",
      "5\n",
      "Thanks For Using this Function\n",
      "Before Using The Function\n",
      "10\n",
      "Thanks For Using this Function\n"
     ]
    }
   ],
   "source": [
    "# Q32 What is Python Decorators???\n",
    "#function Decorators\n",
    "def welcome(fx):\n",
    "    def mfx(*t,**d):\n",
    "        print(\"Before Using The Function\")\n",
    "        fx(*t,**d)\n",
    "        print(\"Thanks For Using this Function\")\n",
    "\n",
    "    return mfx\n",
    "\n",
    "@welcome\n",
    "def hello():\n",
    "    print(\"Hello!!\")\n",
    "\n",
    "\n",
    "@welcome\n",
    "def add(a,b):\n",
    "    print(a+b)\n",
    "\n",
    "@welcome\n",
    "def sub(a,b):\n",
    "    print(a-b)\n",
    "        \n",
    "        \n",
    "\n",
    "hello()\n",
    "add(2,3)\n",
    "sub(12,2)\n",
    "\n",
    "\n",
    "\n",
    "\n",
    "\n",
    "\n"
   ]
  },
  {
   "cell_type": "code",
   "execution_count": 42,
   "id": "39c8d53d-8fa7-4c42-ac46-c2afb798c798",
   "metadata": {},
   "outputs": [
    {
     "data": {
      "text/plain": [
       "900"
      ]
     },
     "execution_count": 42,
     "metadata": {},
     "output_type": "execute_result"
    }
   ],
   "source": [
    "#class Decorator\n",
    "class calculator:\n",
    "    def __init__(self,function):\n",
    "        self.function=function\n",
    "    def __call__(self,*t,**d):\n",
    "        result=self.function(*t,**d)\n",
    "        return result**2\n",
    "\n",
    "@calculator\n",
    "def add(a,b):\n",
    "    return a+b\n",
    "\n",
    "add(10,20)\n",
    "    \n",
    "\n",
    "\n",
    "\n",
    "\n"
   ]
  },
  {
   "cell_type": "code",
   "execution_count": 3,
   "id": "47f21c49-ad97-4597-b059-42b0e513a484",
   "metadata": {},
   "outputs": [
    {
     "name": "stdout",
     "output_type": "stream",
     "text": [
      "65\n",
      "44\n",
      "34\n",
      "26\n",
      "14\n",
      "29\n",
      "78\n",
      "69\n",
      "50\n"
     ]
    }
   ],
   "source": [
    "# Q33 What are iterators in Python???\n",
    "l1=[65,44,34,26,14,29,78,69,50]\n",
    "it=iter(l1)\n",
    "while True:\n",
    "    try:\n",
    "        print(next(it))\n",
    "    except StopIteration:\n",
    "        break"
   ]
  },
  {
   "cell_type": "code",
   "execution_count": 4,
   "id": "e6249df5-8f94-4fc1-87ab-bc8ef5bc9d37",
   "metadata": {},
   "outputs": [
    {
     "name": "stdout",
     "output_type": "stream",
     "text": [
      "[2, 4, 6, 8, 10, 12, 14, 16, 18, 20]\n"
     ]
    }
   ],
   "source": [
    "# Q34\n",
    "def evenNum(n):\n",
    "    i=1\n",
    "    while n:\n",
    "        yield 2*i\n",
    "        i+=1\n",
    "        n-=1\n",
    "it=evenNum(10)\n",
    "even_list=[]\n",
    "while True:\n",
    "    try:\n",
    "        even_list.append(next(it))\n",
    "    except StopIteration:\n",
    "        break\n",
    "print(even_list)\n",
    "    "
   ]
  },
  {
   "cell_type": "code",
   "execution_count": 6,
   "id": "352087f0-c9c8-4d34-b1da-9055319539db",
   "metadata": {},
   "outputs": [
    {
     "name": "stdout",
     "output_type": "stream",
     "text": [
      "Hello  Nick\n",
      "Hello  Noha\n",
      "Hi  Nikolas\n"
     ]
    }
   ],
   "source": [
    "# Q34 Is function Overloading is Allowed in Python\n",
    "def greet(name,greeting='Hello'):\n",
    "    return f\"{greeting}  {name}\"\n",
    "\n",
    "print(greet(\"Nick\"))\n",
    "print(greet(\"Noha\"))\n",
    "print(greet(\"Nikolas\",\"Hi\"))\n",
    "\n"
   ]
  },
  {
   "cell_type": "code",
   "execution_count": 9,
   "id": "ebcf6c3f-5e4c-479f-91ed-c364b00bda24",
   "metadata": {},
   "outputs": [
    {
     "name": "stdout",
     "output_type": "stream",
     "text": [
      "15\n",
      "11125\n"
     ]
    }
   ],
   "source": [
    "def add(*t):\n",
    "    return sum(t)\n",
    "print(add(1,2,3,4,5))\n",
    "print(add(1,2,3,4,5,10,100,1000,10000))"
   ]
  },
  {
   "cell_type": "code",
   "execution_count": null,
   "id": "af3290f3-907d-4ebb-99ec-079ecb410b19",
   "metadata": {},
   "outputs": [],
   "source": []
  },
  {
   "cell_type": "code",
   "execution_count": null,
   "id": "923a5707-64ed-4fee-89ef-ceb3343c69e7",
   "metadata": {},
   "outputs": [],
   "source": []
  },
  {
   "cell_type": "code",
   "execution_count": 8,
   "id": "e02714a5-c6f6-49b4-9e65-4cd7a200337c",
   "metadata": {},
   "outputs": [
    {
     "name": "stdout",
     "output_type": "stream",
     "text": [
      "a= 3 b= 2\n",
      "a= 30 b= 50\n",
      "a= 10 b= 20\n"
     ]
    }
   ],
   "source": [
    "# Q35 What are the Positional Arguments in Python\n",
    "def f1(a,b):\n",
    "    print(\"a=\",a,\"b=\",b)\n",
    "\n",
    "f1(3,2) # positional Arguments\n",
    "\n",
    "#f1(b=20,10) # error wrong input in positional arguments\n",
    "\n",
    "f1(30,b=50)\n",
    "\n",
    "f1(b=20,a=10) # keyword Arguments\n",
    "\n",
    "\n",
    "\n",
    "\n"
   ]
  },
  {
   "cell_type": "code",
   "execution_count": 14,
   "id": "ad302423-edb5-4f2e-ae7d-09467437c9b0",
   "metadata": {},
   "outputs": [
    {
     "name": "stdout",
     "output_type": "stream",
     "text": [
      "[5, 9, 11, 32, 34, 56, 64, 89]\n",
      "<class 'list'>\n",
      "[5, 9, 11, 22, 32, 34, 56, 64, 89]\n",
      "<class 'list'>\n"
     ]
    }
   ],
   "source": [
    "# Q36 Difference between sort and sorting Function\n",
    "t1=(34,64,5,56,89,32,11,9)\n",
    "#sorted\n",
    "s1=sorted(t1)\n",
    "print(s1)\n",
    "print(type(s1))\n",
    "\n",
    "#sort\n",
    "l1=[34,64,5,56,89,32,11,9,22]\n",
    "l1.sort()\n",
    "print(l1)\n",
    "print(type(l1))\n",
    "\n",
    "\n",
    "\n"
   ]
  },
  {
   "cell_type": "code",
   "execution_count": 21,
   "id": "f362c25e-8591-46bb-afca-f73ef73f6a18",
   "metadata": {},
   "outputs": [
    {
     "name": "stdout",
     "output_type": "stream",
     "text": [
      "[5, 9, 11, 22, 32, 34, 56, 64, 89, 45, 45, 45, 45, 45, 45, 45]\n",
      "SortedList([5, 9, 11, 22, 32, 34, 45, 45, 45, 45, 45, 45, 45, 45, 56, 64, 89])\n"
     ]
    }
   ],
   "source": [
    "# To add element in Sorted Manner\n",
    "l1.append(45)\n",
    "print(l1)\n",
    "\n",
    "from sortedcontainers import SortedList\n",
    "\n",
    "l3=SortedList(l1)\n",
    "l3.add(45)\n",
    "print(l3)\n"
   ]
  },
  {
   "cell_type": "code",
   "execution_count": 36,
   "id": "f4d5f65d-49d5-42d6-b6e0-4abf933c01be",
   "metadata": {},
   "outputs": [
    {
     "name": "stdout",
     "output_type": "stream",
     "text": [
      "5\n",
      "40\n",
      "50\n",
      "20\n",
      "20\n",
      "25\n",
      "25\n",
      "30\n",
      "30\n",
      "45\n",
      "45\n",
      "5\n",
      "40\n",
      "50\n"
     ]
    }
   ],
   "source": [
    "# Q37 How to Create static Member Variable in Class??\n",
    "class myclass:\n",
    "    a=5 #static Variable\n",
    "    def __init__(self): # instance variable can be used anywhere using self\n",
    "        self.x=10\n",
    "        y=15 #local Variable\n",
    "        myclass.b=40 #static Variable\n",
    "    def f1(self):\n",
    "        myclass.c=20 #static Variable\n",
    "\n",
    "    @staticmethod\n",
    "    def f2():\n",
    "        myclass.d=25 #static Variable\n",
    "\n",
    "    @classmethod\n",
    "    def f3(cls):\n",
    "        cls.e=30 #static Variable\n",
    "        myclass.f=45 #static Variable\n",
    "\n",
    "myclass.g=50 #static Variable\n",
    "\n",
    "#creating objects\n",
    "\n",
    "#call for class\n",
    "t1=myclass()\n",
    "print(myclass.a)\n",
    "print(myclass.b)\n",
    "print(myclass.g)\n",
    "\n",
    "t1.f1()\n",
    "print(myclass.c) #20\n",
    "print(t1.c) #20\n",
    "\n",
    "t1.f2()\n",
    "print(myclass.d) #25\n",
    "print(t1.d) #25\n",
    "\n",
    "t1.f3()\n",
    "print(myclass.e)\n",
    "print(t1.e)\n",
    "print(myclass.f)\n",
    "print(t1.f)\n",
    "\n",
    "\n",
    "\n",
    "\n",
    "\n",
    "# throght objects\n",
    "print(t1.a)\n",
    "print(t1.b)\n",
    "print(t1.g)\n",
    "\n",
    "\n"
   ]
  },
  {
   "cell_type": "code",
   "execution_count": 9,
   "id": "327d9ead-1319-45b3-8c11-1b72896bf2b6",
   "metadata": {},
   "outputs": [
    {
     "name": "stdout",
     "output_type": "stream",
     "text": [
      "1 2 3 4 5 6 "
     ]
    }
   ],
   "source": [
    "# Q38 How to use else in loop \n",
    "i=1\n",
    "while i<=10:\n",
    "    print(i , end=\" \")\n",
    "    if i==6:\n",
    "        break\n",
    "    i+=1\n",
    "else:\n",
    "    print(\"you are in Else\")\n",
    "\n",
    "\n"
   ]
  },
  {
   "cell_type": "code",
   "execution_count": 28,
   "id": "45f2039e-36fe-4070-b883-8e091e5a44a1",
   "metadata": {},
   "outputs": [
    {
     "name": "stdout",
     "output_type": "stream",
     "text": [
      "1 2 3 4 5 6 7 8 9 10 \n",
      " you are in Else\n"
     ]
    }
   ],
   "source": [
    "i=1\n",
    "while i<=10:\n",
    "    print(i , end=\" \")\n",
    "    if i==12:\n",
    "        break\n",
    "    i+=1\n",
    "else:\n",
    "    print(\"\\n you are in Else\")"
   ]
  },
  {
   "cell_type": "code",
   "execution_count": 30,
   "id": "4cefea0a-7edf-49c8-914d-bb9dd6b2b084",
   "metadata": {},
   "outputs": [
    {
     "name": "stdout",
     "output_type": "stream",
     "text": [
      "0 1 2 3 4 5 6 7 8 9  \n",
      " you are in Else\n"
     ]
    }
   ],
   "source": [
    "for i in range(10):\n",
    "    print(i , end=\" \")\n",
    "    if i==12:\n",
    "        break\n",
    "    i+=1\n",
    "else:\n",
    "    print(\" \\n you are in Else\")"
   ]
  },
  {
   "cell_type": "code",
   "execution_count": 39,
   "id": "e81c3d74-bce1-48f1-bb17-75f60d83f132",
   "metadata": {},
   "outputs": [
    {
     "name": "stdout",
     "output_type": "stream",
     "text": [
      "100\n",
      "20\n"
     ]
    }
   ],
   "source": [
    "#Q39 What is name Mangling in Python??\n",
    "class World:\n",
    "    x=100\n",
    "    __india=20\n",
    "print(World.x)\n",
    "print(World._World__india) # This Name mangling in python "
   ]
  },
  {
   "cell_type": "code",
   "execution_count": 37,
   "id": "0b79831d-ce6d-4d77-870b-f1a7711c7272",
   "metadata": {},
   "outputs": [
    {
     "name": "stdout",
     "output_type": "stream",
     "text": [
      "10\n",
      "(4,2)\n",
      "4\n",
      "2\n"
     ]
    }
   ],
   "source": [
    "# Q40 What is difference Between Class Objects And Instance Objects\n",
    "class test:\n",
    "    x=10\n",
    "    def __init__(self,a,b):\n",
    "        self.a=a #instance Member Arguments\n",
    "        self.b=b #instance Member Arguments\n",
    "    def f1(self):\n",
    "        print(f\"({self.a},{self.b})\")\n",
    "\n",
    "print(test.x) # Class objects\n",
    "t1=test(4,2) # Instance Objects\n",
    "t1.f1()\n",
    "\n",
    "#displaying Instance variable Directly\n",
    "print(t1.a)\n",
    "print(t1.b)"
   ]
  },
  {
   "cell_type": "code",
   "execution_count": null,
   "id": "c63c3196-c316-4baf-92cb-f219cb05cb50",
   "metadata": {},
   "outputs": [],
   "source": []
  }
 ],
 "metadata": {
  "kernelspec": {
   "display_name": "Python 3 (ipykernel)",
   "language": "python",
   "name": "python3"
  },
  "language_info": {
   "codemirror_mode": {
    "name": "ipython",
    "version": 3
   },
   "file_extension": ".py",
   "mimetype": "text/x-python",
   "name": "python",
   "nbconvert_exporter": "python",
   "pygments_lexer": "ipython3",
   "version": "3.13.5"
  }
 },
 "nbformat": 4,
 "nbformat_minor": 5
}
