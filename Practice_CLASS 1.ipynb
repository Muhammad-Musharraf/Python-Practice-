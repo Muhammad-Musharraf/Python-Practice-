{
 "cells": [
  {
   "cell_type": "code",
   "execution_count": 78,
   "id": "695d5411-9626-47c1-a63d-f4594c2e7cc6",
   "metadata": {},
   "outputs": [
    {
     "name": "stdout",
     "output_type": "stream",
     "text": [
      "hello world\n"
     ]
    }
   ],
   "source": [
    "print(\"hello world\")\n"
   ]
  },
  {
   "cell_type": "code",
   "execution_count": 2,
   "id": "2dc5fdc7-b617-4c1c-ba71-765a3fe10f7b",
   "metadata": {
    "scrolled": true
   },
   "outputs": [
    {
     "name": "stdout",
     "output_type": "stream",
     "text": [
      "123\n"
     ]
    }
   ],
   "source": [
    "print(123)\n"
   ]
  },
  {
   "cell_type": "code",
   "execution_count": 6,
   "id": "1287c94b-b716-44f0-a72d-b2a7f8514352",
   "metadata": {},
   "outputs": [
    {
     "name": "stdout",
     "output_type": "stream",
     "text": [
      "123\n"
     ]
    },
    {
     "data": {
      "text/plain": [
       "int"
      ]
     },
     "execution_count": 6,
     "metadata": {},
     "output_type": "execute_result"
    }
   ],
   "source": [
    "print(123)\n",
    "type(123)\n",
    "      "
   ]
  },
  {
   "cell_type": "code",
   "execution_count": 7,
   "id": "15318617-ee84-4f51-88c6-aa1eeae193f9",
   "metadata": {},
   "outputs": [
    {
     "name": "stdout",
     "output_type": "stream",
     "text": [
      "12.23322\n"
     ]
    }
   ],
   "source": [
    "print(12.23322)"
   ]
  },
  {
   "cell_type": "code",
   "execution_count": 8,
   "id": "f31db6a0-fec7-4059-b1af-47d4ac856d05",
   "metadata": {},
   "outputs": [
    {
     "name": "stdout",
     "output_type": "stream",
     "text": [
      "12.23322\n"
     ]
    },
    {
     "data": {
      "text/plain": [
       "float"
      ]
     },
     "execution_count": 8,
     "metadata": {},
     "output_type": "execute_result"
    }
   ],
   "source": [
    "print(12.23322)\n",
    "type(12.23322)"
   ]
  },
  {
   "cell_type": "code",
   "execution_count": 12,
   "id": "ab8e8bd9-1799-4735-862b-00133160854c",
   "metadata": {},
   "outputs": [
    {
     "name": "stdout",
     "output_type": "stream",
     "text": [
      "hello\n",
      "world\n"
     ]
    }
   ],
   "source": [
    "print(\"hello\\n\" \"world\")\n"
   ]
  },
  {
   "cell_type": "code",
   "execution_count": 16,
   "id": "cbb0e149-fc9d-44ad-85d6-5f135851940a",
   "metadata": {},
   "outputs": [
    {
     "name": "stdout",
     "output_type": "stream",
     "text": [
      "hello#world\n"
     ]
    }
   ],
   "source": [
    "print(\"hello\",\"world\",sep=\"#\")"
   ]
  },
  {
   "cell_type": "code",
   "execution_count": 21,
   "id": "a062ebcc-a39f-43d9-a19e-82d7da7902e9",
   "metadata": {},
   "outputs": [
    {
     "name": "stdout",
     "output_type": "stream",
     "text": [
      "hello student@\n",
      "hello@student\n"
     ]
    }
   ],
   "source": [
    "print(\"hello\", \"student\",end=\"@\") \n",
    "print(\"\\nhello\",\"student\",sep=\"@\") \n",
    "\n"
   ]
  },
  {
   "cell_type": "code",
   "execution_count": 23,
   "id": "325c51b3-d10d-420a-a3a7-9cd969deeb0b",
   "metadata": {},
   "outputs": [
    {
     "name": "stdout",
     "output_type": "stream",
     "text": [
      "hello student\n",
      "\n",
      "hello\n",
      "student\n"
     ]
    }
   ],
   "source": [
    "print(\"hello\",\"student\",end=\"\\n\") \n",
    "print(\"\\nhello\",\"student\",sep=\"\\n\") "
   ]
  },
  {
   "cell_type": "code",
   "execution_count": 24,
   "id": "fb03fc66-0ac4-4f37-9761-ee66a129450c",
   "metadata": {},
   "outputs": [
    {
     "name": "stdout",
     "output_type": "stream",
     "text": [
      "hello world 123\n"
     ]
    }
   ],
   "source": [
    "print(\"hello\",\"world\",123)"
   ]
  },
  {
   "cell_type": "code",
   "execution_count": 28,
   "id": "ba92b8e5-fa69-43d0-90a6-14ab2c595f68",
   "metadata": {},
   "outputs": [
    {
     "name": "stdout",
     "output_type": "stream",
     "text": [
      "hello\n",
      "world!\n",
      "123\n"
     ]
    }
   ],
   "source": [
    "print(\"hello\",end=\"\\n\") \n",
    "print(\"world!\",end=\"\\n\")\n",
    "print(123)"
   ]
  },
  {
   "cell_type": "code",
   "execution_count": 30,
   "id": "b4eab1e3-e633-40ee-a87d-ba8cb97c5b4d",
   "metadata": {},
   "outputs": [
    {
     "name": "stdout",
     "output_type": "stream",
     "text": [
      "(5+4j)\n"
     ]
    },
    {
     "data": {
      "text/plain": [
       "complex"
      ]
     },
     "execution_count": 30,
     "metadata": {},
     "output_type": "execute_result"
    }
   ],
   "source": [
    "print(5+4j)\n",
    "type(5+4j)"
   ]
  },
  {
   "cell_type": "code",
   "execution_count": 31,
   "id": "5379ef5c-56ec-43af-9724-7450efe9b84f",
   "metadata": {},
   "outputs": [
    {
     "name": "stdout",
     "output_type": "stream",
     "text": [
      "True\n"
     ]
    },
    {
     "data": {
      "text/plain": [
       "bool"
      ]
     },
     "execution_count": 31,
     "metadata": {},
     "output_type": "execute_result"
    }
   ],
   "source": [
    "print(True)\n",
    "type(True)"
   ]
  },
  {
   "cell_type": "code",
   "execution_count": null,
   "id": "055fbf3c-ffd1-43f5-b3e3-7a583ff9bc48",
   "metadata": {},
   "outputs": [],
   "source": [
    "###Data Types\n",
    "Basic Data types (integer,float_value,Boolen, String, Complex)\n",
    "container data types(List, Tuple, Sets, Dictionory)\n",
    "Unser Defined types(Class)"
   ]
  },
  {
   "cell_type": "code",
   "execution_count": 35,
   "id": "a443203d-a70f-4b5e-8761-e6f5ce2d92ca",
   "metadata": {},
   "outputs": [
    {
     "name": "stdout",
     "output_type": "stream",
     "text": [
      "[12345, True, 'wORLD', 'CODER']\n"
     ]
    },
    {
     "data": {
      "text/plain": [
       "list"
      ]
     },
     "execution_count": 35,
     "metadata": {},
     "output_type": "execute_result"
    }
   ],
   "source": [
    "print([12345,True,\"wORLD\",\"CODER\"]) \n",
    "type([12345,True,\"wORLD\",\"CODER\"]) "
   ]
  },
  {
   "cell_type": "code",
   "execution_count": 36,
   "id": "00032532-03d9-44a7-aa15-6cb6c92787d7",
   "metadata": {},
   "outputs": [
    {
     "name": "stdout",
     "output_type": "stream",
     "text": [
      "(123, 'white', 'gas')\n"
     ]
    },
    {
     "data": {
      "text/plain": [
       "tuple"
      ]
     },
     "execution_count": 36,
     "metadata": {},
     "output_type": "execute_result"
    }
   ],
   "source": [
    "print((123,\"white\",\"gas\")) \n",
    "type((123,\"white\",\"gas\"))"
   ]
  },
  {
   "cell_type": "code",
   "execution_count": 38,
   "id": "1c906a1f-94cb-4415-94ab-509aaebb66cf",
   "metadata": {},
   "outputs": [
    {
     "name": "stdout",
     "output_type": "stream",
     "text": [
      "{'USER ID': 'mUSH@87878'}\n"
     ]
    },
    {
     "data": {
      "text/plain": [
       "dict"
      ]
     },
     "execution_count": 38,
     "metadata": {},
     "output_type": "execute_result"
    }
   ],
   "source": [
    "print({\"USER ID\":\"mUSH@87878\"})\n",
    "type({\"USER ID\":\"mUSH@87878\"})                         "
   ]
  },
  {
   "cell_type": "code",
   "execution_count": 43,
   "id": "b5307ba1-fdf8-4090-aab6-cd3892d5df6a",
   "metadata": {},
   "outputs": [
    {
     "name": "stdout",
     "output_type": "stream",
     "text": [
      "{True, 'dear', 123}\n"
     ]
    },
    {
     "data": {
      "text/plain": [
       "set"
      ]
     },
     "execution_count": 43,
     "metadata": {},
     "output_type": "execute_result"
    }
   ],
   "source": [
    "print({123,\"dear\",True}) \n",
    "type({123,\"dear\",True}) "
   ]
  },
  {
   "cell_type": "code",
   "execution_count": 44,
   "id": "6df90625-e942-46b9-86b8-91de9ca208a3",
   "metadata": {},
   "outputs": [
    {
     "name": "stdout",
     "output_type": "stream",
     "text": [
      "inf\n"
     ]
    }
   ],
   "source": [
    "print(1e309)"
   ]
  },
  {
   "cell_type": "code",
   "execution_count": 50,
   "id": "d7f4702d-6a37-4d79-9864-231b9fe46055",
   "metadata": {},
   "outputs": [
    {
     "name": "stdout",
     "output_type": "stream",
     "text": [
      "inf\n"
     ]
    }
   ],
   "source": [
    "print(1.7e309)"
   ]
  },
  {
   "cell_type": "code",
   "execution_count": 51,
   "id": "146e836d-2b6a-4cb1-8252-1309d167d4bd",
   "metadata": {},
   "outputs": [
    {
     "name": "stdout",
     "output_type": "stream",
     "text": [
      "8671070.3545634\n"
     ]
    }
   ],
   "source": [
    "print(3434.3545634+8667636)"
   ]
  },
  {
   "cell_type": "code",
   "execution_count": 82,
   "id": "a8a401db-7325-43a3-9eaa-e15dc837e203",
   "metadata": {},
   "outputs": [
    {
     "name": "stdout",
     "output_type": "stream",
     "text": [
      "5\n",
      "6\n"
     ]
    }
   ],
   "source": [
    "name1 =5\n",
    "name2 = 6\n",
    "print(name1)\n",
    "print(name2)\n",
    "     "
   ]
  },
  {
   "cell_type": "code",
   "execution_count": 80,
   "id": "6f129ac0-f836-4057-9776-65b3fb331a45",
   "metadata": {},
   "outputs": [
    {
     "name": "stdout",
     "output_type": "stream",
     "text": [
      "-5\n",
      "6\n"
     ]
    }
   ],
   "source": [
    "name1=-5\n",
    "print(name1)\n",
    "name2=6\n",
    "print(name2)"
   ]
  },
  {
   "cell_type": "code",
   "execution_count": 64,
   "id": "78accdf3-3e48-4526-8411-37f790fcbad1",
   "metadata": {},
   "outputs": [
    {
     "name": "stdout",
     "output_type": "stream",
     "text": [
      "10 2 3\n"
     ]
    }
   ],
   "source": [
    "a,b,c = 10,2,3\n",
    "print(a,b,c)"
   ]
  },
  {
   "cell_type": "code",
   "execution_count": 65,
   "id": "8c761e3b-e3b7-4de1-b035-1c9da7ac6fd3",
   "metadata": {},
   "outputs": [
    {
     "name": "stdout",
     "output_type": "stream",
     "text": [
      "11 11 11\n"
     ]
    }
   ],
   "source": [
    "a=b=c= 11\n",
    "print(a,b,c)"
   ]
  },
  {
   "cell_type": "code",
   "execution_count": 66,
   "id": "ea6bebaa-b7f7-4b99-92d2-3819776a149e",
   "metadata": {},
   "outputs": [
    {
     "name": "stdout",
     "output_type": "stream",
     "text": [
      "5\n",
      "4\n"
     ]
    }
   ],
   "source": [
    "n1=5\n",
    "n2=4\n",
    "print(n1)\n",
    "print(n2)\n"
   ]
  },
  {
   "cell_type": "code",
   "execution_count": 88,
   "id": "bda8b6b8-c132-4332-b800-0ff337d22212",
   "metadata": {},
   "outputs": [
    {
     "name": "stdout",
     "output_type": "stream",
     "text": [
      "my name is Abdul rehman\n",
      "my name is Abdul rehman\n"
     ]
    }
   ],
   "source": [
    "print(\"my name is Abdul rehman\")\n",
    "\n",
    "print(\"my name is\"+ \" \"+\"Abdul rehman\")"
   ]
  },
  {
   "cell_type": "code",
   "execution_count": 91,
   "id": "0e50b9fe-2338-4ab2-ba26-e4a39c1ea12e",
   "metadata": {},
   "outputs": [
    {
     "name": "stdin",
     "output_type": "stream",
     "text": [
      " 56\n",
      " 54\n"
     ]
    },
    {
     "data": {
      "text/plain": [
       "str"
      ]
     },
     "execution_count": 91,
     "metadata": {},
     "output_type": "execute_result"
    }
   ],
   "source": [
    "input()\n",
    "input(type())"
   ]
  },
  {
   "cell_type": "code",
   "execution_count": 98,
   "id": "95cc72bc-9add-4148-b4e1-db51d0d48168",
   "metadata": {},
   "outputs": [
    {
     "name": "stdin",
     "output_type": "stream",
     "text": [
      "Enter the name of the input:... 34.55\n"
     ]
    },
    {
     "name": "stdout",
     "output_type": "stream",
     "text": [
      "34.55\n"
     ]
    },
    {
     "data": {
      "text/plain": [
       "float"
      ]
     },
     "execution_count": 98,
     "metadata": {},
     "output_type": "execute_result"
    }
   ],
   "source": [
    "name=float(input(\"Enter the name of the input:...\"))\n",
    "print(name)\n",
    "type(name)"
   ]
  },
  {
   "cell_type": "code",
   "execution_count": 99,
   "id": "cf348ada-1876-4761-bb9c-38cdce0be119",
   "metadata": {},
   "outputs": [
    {
     "name": "stdin",
     "output_type": "stream",
     "text": [
      "enter the number 1:... 45\n",
      "enter the number 2:... 45\n"
     ]
    },
    {
     "name": "stdout",
     "output_type": "stream",
     "text": [
      "90\n"
     ]
    }
   ],
   "source": [
    "num1 =int(input(\"enter the number 1:...\"))\n",
    "num2 =int(input(\"enter the number 2:...\"))\n",
    "result =num1+num2\n",
    "print(result)"
   ]
  },
  {
   "cell_type": "code",
   "execution_count": null,
   "id": "9f18b098-6b91-4424-911d-c81014b93b04",
   "metadata": {},
   "outputs": [],
   "source": []
  },
  {
   "cell_type": "code",
   "execution_count": null,
   "id": "f7860192-7d77-4958-93c5-de758d116e54",
   "metadata": {},
   "outputs": [],
   "source": []
  }
 ],
 "metadata": {
  "kernelspec": {
   "display_name": "Python 3 (ipykernel)",
   "language": "python",
   "name": "python3"
  },
  "language_info": {
   "codemirror_mode": {
    "name": "ipython",
    "version": 3
   },
   "file_extension": ".py",
   "mimetype": "text/x-python",
   "name": "python",
   "nbconvert_exporter": "python",
   "pygments_lexer": "ipython3",
   "version": "3.13.5"
  }
 },
 "nbformat": 4,
 "nbformat_minor": 5
}
