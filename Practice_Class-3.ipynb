{
 "cells": [
  {
   "cell_type": "markdown",
   "id": "93cf78e0-9665-4401-8b06-1a5f54f3890b",
   "metadata": {},
   "source": [
    "# Identity Operators"
   ]
  },
  {
   "cell_type": "code",
   "execution_count": 6,
   "id": "ea032109-7fb7-47c0-bcc9-2dca9fcfde29",
   "metadata": {},
   "outputs": [
    {
     "name": "stdout",
     "output_type": "stream",
     "text": [
      "140735118685384\n",
      "140735118685320\n",
      "False\n",
      "True\n"
     ]
    }
   ],
   "source": [
    "# identity operators\n",
    "# indentity matrix check condition is True of same location and having same value\n",
    "\n",
    "a= 10\n",
    "b=8\n",
    "\n",
    "print(id(a)) # memory Check\n",
    "print(id(b))\n",
    "\n",
    "print(a is b)\n",
    "print(a is not b)\n",
    "\n",
    "\n"
   ]
  },
  {
   "cell_type": "code",
   "execution_count": 19,
   "id": "d15ad3ea-ee45-465e-a4fe-2ab75012d46f",
   "metadata": {},
   "outputs": [
    {
     "name": "stdout",
     "output_type": "stream",
     "text": [
      "2604832187056\n",
      "2604832159792\n",
      "False\n",
      "True\n",
      "False\n",
      "False\n"
     ]
    }
   ],
   "source": [
    "x=\"hello-world\"\n",
    "y=\"hello-world\"\n",
    "print(id(x))\n",
    "print(id(y))\n",
    "\n",
    "print(x is y)\n",
    "print(x is not y)\n",
    "\n",
    "i=[1,2,3,4]\n",
    "j=[1,2,3,4]\n",
    "\n",
    "print(i is j)\n",
    "\n",
    "# complex\n",
    "a=4+6j\n",
    "b=4+6j\n",
    "print(a is b)\n"
   ]
  },
  {
   "cell_type": "code",
   "execution_count": 26,
   "id": "bd8a7729-b9a1-4f83-bf6e-6e14cefe60fd",
   "metadata": {},
   "outputs": [
    {
     "name": "stdout",
     "output_type": "stream",
     "text": [
      "True\n",
      "True\n",
      "False\n",
      "False\n"
     ]
    }
   ],
   "source": [
    "# Membership Operators\n",
    "x=\"Karachi\"\n",
    "print(\"K\" in x)\n",
    "print(\"i\" in x)\n",
    "print(\"I\" in x)\n",
    "print(\"K\" not in  x)\n"
   ]
  },
  {
   "cell_type": "code",
   "execution_count": 31,
   "id": "81a8b7f6-56e1-4f5d-930c-f997eed23872",
   "metadata": {},
   "outputs": [
    {
     "name": "stdout",
     "output_type": "stream",
     "text": [
      "True\n",
      "False\n",
      "True\n",
      "False\n"
     ]
    }
   ],
   "source": [
    "s=[4,5,6]\n",
    "print(6 in s)\n",
    "print(1 in s)\n",
    "print(2 not in s)\n",
    "print(5 not in s)"
   ]
  },
  {
   "cell_type": "code",
   "execution_count": 32,
   "id": "a3dd1e2c-167a-4f27-bb9d-8fd8d194ab7e",
   "metadata": {},
   "outputs": [
    {
     "name": "stdout",
     "output_type": "stream",
     "text": [
      "1\n"
     ]
    }
   ],
   "source": [
    "# bitwise operator\n",
    "# & operator (and)\n",
    "print(5 & 3)\n"
   ]
  },
  {
   "cell_type": "code",
   "execution_count": 33,
   "id": "a5d02ec0-4dd9-479d-a8e1-53490a0b9768",
   "metadata": {},
   "outputs": [
    {
     "name": "stdout",
     "output_type": "stream",
     "text": [
      "7\n"
     ]
    }
   ],
   "source": [
    "# | Operator (or)\n",
    "print(6 | 3)\n",
    "print(4| 8)\n"
   ]
  },
  {
   "cell_type": "code",
   "execution_count": 37,
   "id": "89b2ba3c-c4eb-4d81-9488-cc1e0c656edd",
   "metadata": {},
   "outputs": [
    {
     "name": "stdout",
     "output_type": "stream",
     "text": [
      "-4\n",
      "-6\n",
      "2\n"
     ]
    }
   ],
   "source": [
    "# ~ Operators (Not)\n",
    "print(~3)\n",
    "print(~5)\n",
    "print(~-3)\n",
    "\n",
    "\n"
   ]
  },
  {
   "cell_type": "code",
   "execution_count": 38,
   "id": "5fe71d70-1a60-4b65-b10e-a7e0527709f5",
   "metadata": {},
   "outputs": [
    {
     "name": "stdout",
     "output_type": "stream",
     "text": [
      "5\n",
      "7\n",
      "-9\n"
     ]
    }
   ],
   "source": [
    "print(5 & 7) # and\n",
    "print(7 or 3) # or\n",
    "print(~8) # Not\n"
   ]
  },
  {
   "cell_type": "markdown",
   "id": "f57b6f51-6ee7-42ec-bc8e-1dbe36650420",
   "metadata": {},
   "source": [
    "# If- Elif-Else"
   ]
  },
  {
   "cell_type": "code",
   "execution_count": 39,
   "id": "ab035a1e-c870-4519-8d24-cd05a2ba00e0",
   "metadata": {},
   "outputs": [
    {
     "data": {
      "text/plain": [
       "' \\nif condition:\\n\\nelse:\\n'"
      ]
     },
     "execution_count": 39,
     "metadata": {},
     "output_type": "execute_result"
    }
   ],
   "source": [
    "\"\"\" \n",
    "if condition:\n",
    "     code\n",
    "\n",
    "else:\n",
    "   code\n",
    "\"\"\""
   ]
  },
  {
   "cell_type": "code",
   "execution_count": 42,
   "id": "a4a0cfb4-702f-4929-99b4-5af2ad419e1b",
   "metadata": {},
   "outputs": [
    {
     "name": "stdout",
     "output_type": "stream",
     "text": [
      "y is greater than x\n"
     ]
    }
   ],
   "source": [
    "x = 20\n",
    "y = 40\n",
    "if x>y:\n",
    "    print(\"x is greater than y\")\n",
    "else:\n",
    "    print(\"y is greater than x\")"
   ]
  },
  {
   "cell_type": "code",
   "execution_count": 2,
   "id": "480519eb-95ae-42dd-a550-a1926abe34ea",
   "metadata": {},
   "outputs": [
    {
     "name": "stdin",
     "output_type": "stream",
     "text": [
      "enter the value 1.... 3\n",
      "enter the value 2.... 3\n"
     ]
    },
    {
     "name": "stdout",
     "output_type": "stream",
     "text": [
      "x is equal to y\n"
     ]
    }
   ],
   "source": [
    "x=int(input(\"enter the value 1....\"))\n",
    "y=int(input(\"enter the value 2....\"))\n",
    "if x>y:\n",
    "      print(\"x is greater than y\")\n",
    "elif x==y:\n",
    "      print(\"x is equal to y\")\n",
    "else:\n",
    "     print(\"y is greater than x\")\n",
    "\n",
    "\n",
    "    \n",
    "            "
   ]
  },
  {
   "cell_type": "code",
   "execution_count": 4,
   "id": "c3913ef9-7ca9-430c-9504-fa5c4de531c1",
   "metadata": {},
   "outputs": [
    {
     "name": "stdin",
     "output_type": "stream",
     "text": [
      "enter the name of a student Yasir\n",
      "enter the roll number 565\n",
      "enter the marks of mathematics 69\n",
      "enter the marks of english 98\n",
      "enter the marks of computer 98\n",
      "enter the marks of physic 60\n",
      "enter the marks of chemistry 79\n",
      "enter the marks of urdu 90\n"
     ]
    },
    {
     "name": "stdout",
     "output_type": "stream",
     "text": [
      "details of a student\n",
      "\n",
      "Name:Yasir\n",
      "Roll_num:565\n",
      "Percentage:82.33333333333334\n",
      "Grade:A\n",
      "\n"
     ]
    }
   ],
   "source": [
    "name=input(\"enter the name of a student\")\n",
    "roll_num=int(input(\"enter the roll number\"))\n",
    "math=float(input(\"enter the marks of mathematics\"))\n",
    "eng=float(input(\"enter the marks of english\"))\n",
    "comp=float(input(\"enter the marks of computer\"))\n",
    "phy=float(input(\"enter the marks of physic\"))\n",
    "chem=float(input(\"enter the marks of chemistry\"))\n",
    "urdu=float(input(\"enter the marks of urdu\"))\n",
    "Total_marks=600\n",
    "percentage=(math+eng+comp+chem+urdu+phy)/Total_marks*100\n",
    "grade= None\n",
    "if percentage>=90 and percentage<100:\n",
    "    grade=\"A+\"\n",
    "elif percentage>=80 and percentage<=90:\n",
    "    grade=\"A\"\n",
    "elif percentage>=70 and percentage<=60:\n",
    "    grade=\"B\"\n",
    "elif percentage>=60 and percentage<=50:\n",
    "    grade=\"C\"\n",
    "elif percentage>=50 and percentage<=40:\n",
    "    grade=\"E\"\n",
    "else:\n",
    "    grade=\"F\"\n",
    "    print(\"you fail in exam\")\n",
    "print(\"details of a student\")   \n",
    "print(f\"\"\"\n",
    "Name:{name}\n",
    "Roll_num:{roll_num}\n",
    "Percentage:{percentage}\n",
    "Grade:{grade}\n",
    "\"\"\")\n",
    "\n",
    "           "
   ]
  },
  {
   "cell_type": "markdown",
   "id": "32ee0b7a-4096-4e9c-8a1f-b999c7d27e3b",
   "metadata": {},
   "source": [
    "# Nested-If-Else"
   ]
  },
  {
   "cell_type": "code",
   "execution_count": 6,
   "id": "9c97fd08-db01-46bb-80c0-506454efcac2",
   "metadata": {},
   "outputs": [
    {
     "name": "stdin",
     "output_type": "stream",
     "text": [
      "Enter your Age 23\n"
     ]
    },
    {
     "name": "stdout",
     "output_type": "stream",
     "text": [
      "you are adult. so you can vote \n"
     ]
    }
   ],
   "source": [
    "# Nested If-Else\n",
    "age=int(input(\"Enter your Age\"))\n",
    "if age>=18:\n",
    "        if age>=21:\n",
    "            print(\"you are adult. so you can vote \")\n",
    "        else:\n",
    "            print(\"you are newly 18. you can vote too\")\n",
    "else:\n",
    "    print(\"you are under 18 you can not take vote\")\n",
    "\n"
   ]
  },
  {
   "cell_type": "code",
   "execution_count": 11,
   "id": "bee8af62-97bf-4971-bb27-4bf2d3b2c474",
   "metadata": {},
   "outputs": [
    {
     "name": "stdin",
     "output_type": "stream",
     "text": [
      "enter the user name Musharraf\n",
      "enter the password 123\n"
     ]
    },
    {
     "name": "stdout",
     "output_type": "stream",
     "text": [
      "invalid password\n"
     ]
    }
   ],
   "source": [
    "# user login\n",
    "user_name=\"Musharraf\"\n",
    "user_password=109\n",
    "name=input(\"enter the user name\")\n",
    "if user_name==name:\n",
    "    password=int(input(\"enter the password\"))\n",
    "    if password==user_password:\n",
    "        print(\"Login Approved\")\n",
    "    else:\n",
    "        print(\"invalid password\")\n",
    "else:\n",
    "    print(\"invalid user name\")\n",
    "\n",
    "\n",
    "\n",
    "\n"
   ]
  },
  {
   "cell_type": "code",
   "execution_count": null,
   "id": "93883bea-f5c9-4cdf-b02c-d4bf728ad9d9",
   "metadata": {},
   "outputs": [],
   "source": []
  }
 ],
 "metadata": {
  "kernelspec": {
   "display_name": "Python 3 (ipykernel)",
   "language": "python",
   "name": "python3"
  },
  "language_info": {
   "codemirror_mode": {
    "name": "ipython",
    "version": 3
   },
   "file_extension": ".py",
   "mimetype": "text/x-python",
   "name": "python",
   "nbconvert_exporter": "python",
   "pygments_lexer": "ipython3",
   "version": "3.13.5"
  }
 },
 "nbformat": 4,
 "nbformat_minor": 5
}
