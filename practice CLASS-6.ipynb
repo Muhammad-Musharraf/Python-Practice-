{
 "cells": [
  {
   "cell_type": "markdown",
   "id": "b9ee2598-c826-48b6-b536-f9008696b7d2",
   "metadata": {},
   "source": [
    "# DICTIONARY"
   ]
  },
  {
   "cell_type": "code",
   "execution_count": 2,
   "id": "2a7de546-2f6c-4e6c-9b77-0e55ae7ac04c",
   "metadata": {},
   "outputs": [],
   "source": [
    "#Syntax -----> {key_1:value_1, key_2:value_2, ...........,key_n:value_n}"
   ]
  },
  {
   "cell_type": "markdown",
   "id": "60307589-2a40-4eca-b431-806f03a9f844",
   "metadata": {},
   "source": [
    "## Rules of Dictionary\n",
    "\n",
    "1. Dictinary have no indexing\n",
    "2. Dictionary is mutable data type\n",
    "3. Keys should always be immutable, but Values can be mutable\n",
    "5. Keys should be unique\n",
    "\n",
    "#### Topics\n",
    "*   Create\n",
    "*   Access\n",
    "*   Edit\n",
    "*   Add\n",
    "*   Delete\n",
    "*   Operations\n",
    "*   **Functions**"
   ]
  },
  {
   "cell_type": "code",
   "execution_count": 11,
   "id": "310fd5b4-48c7-47cf-911b-48dc5760d083",
   "metadata": {},
   "outputs": [
    {
     "name": "stdout",
     "output_type": "stream",
     "text": [
      "{}\n",
      "<class 'dict'>\n",
      "{'name': 'Musharraf', 'Roll_No': 55663, 'Field': 'BSCS'}\n",
      "{'name': 'Musharraf', 'Roll_No': 55663, 'Field': 'BSCS', 'Marks': {'M1', 'M2', 'M3'}}\n",
      "{}\n",
      "{'name': 'Ali', 'Roll_no': 12345, 'Field': 'BSSE'}\n"
     ]
    }
   ],
   "source": [
    "#create dictionary\n",
    "d={}\n",
    "print(d)\n",
    "print(type(d))\n",
    "\n",
    "d1={\"name\":\"Musharraf\",\"Roll_No\":55663,\"Field\":\"BSCS\"}\n",
    "print(d1)\n",
    "\n",
    "d2={\"name\":\"Musharraf\",\"Roll_No\":55663,\"Field\":\"BSCS\",\"Marks\":{\"M1\":55,\"M2\":77,\"M3\":69}}\n",
    "print(d2)\n",
    "\n",
    "d3=dict()\n",
    "d4=dict([(\"name\",\"Ali\"),(\"Roll_no\",12345),(\"Field\",\"BSSE\")])\n",
    "print(d3)\n",
    "print(d4)\n",
    "\n"
   ]
  },
  {
   "cell_type": "code",
   "execution_count": 13,
   "id": "909e8b9f-f510-4db5-925e-9d7b086558b7",
   "metadata": {},
   "outputs": [
    {
     "name": "stdout",
     "output_type": "stream",
     "text": [
      "{(1, 2, 3): 'Abdullah'}\n"
     ]
    },
    {
     "ename": "TypeError",
     "evalue": "unhashable type: 'list'",
     "output_type": "error",
     "traceback": [
      "\u001b[1;31m---------------------------------------------------------------------------\u001b[0m",
      "\u001b[1;31mTypeError\u001b[0m                                 Traceback (most recent call last)",
      "Cell \u001b[1;32mIn[13], line 6\u001b[0m\n\u001b[0;32m      3\u001b[0m d5\u001b[38;5;241m=\u001b[39m{(\u001b[38;5;241m1\u001b[39m,\u001b[38;5;241m2\u001b[39m,\u001b[38;5;241m3\u001b[39m):\u001b[38;5;124m\"\u001b[39m\u001b[38;5;124mAbdullah\u001b[39m\u001b[38;5;124m\"\u001b[39m}\n\u001b[0;32m      4\u001b[0m \u001b[38;5;28mprint\u001b[39m(d5)\n\u001b[1;32m----> 6\u001b[0m d5\u001b[38;5;241m=\u001b[39m{[\u001b[38;5;241m1\u001b[39m,\u001b[38;5;241m2\u001b[39m,\u001b[38;5;241m3\u001b[39m]:\u001b[38;5;124m\"\u001b[39m\u001b[38;5;124mAbdullah\u001b[39m\u001b[38;5;124m\"\u001b[39m}\n\u001b[0;32m      7\u001b[0m \u001b[38;5;28mprint\u001b[39m(d5)\n",
      "\u001b[1;31mTypeError\u001b[0m: unhashable type: 'list'"
     ]
    }
   ],
   "source": [
    "#Rule3.------>  Keys should always be immutable, but Values can be mutable or immutable\n",
    "\n",
    "d5={(1,2,3):\"Abdullah\"} #It accept tuple as a key because tuple is immutable\n",
    "print(d5)\n",
    "\n",
    "d5={[1,2,3]:\"Abdullah\"} #It is not accepting list as a key because list is mutable\n",
    "print(d5)\n"
   ]
  },
  {
   "cell_type": "code",
   "execution_count": 14,
   "id": "03e86b36-6d43-4eef-9080-9ec67756f36c",
   "metadata": {},
   "outputs": [
    {
     "name": "stdout",
     "output_type": "stream",
     "text": [
      "{'name': 'Umme Hani'}\n"
     ]
    }
   ],
   "source": [
    "#Rule 5. ------> Keys should be unique\n",
    "d6={\"name\":\"Urhan\",\"name\":\"Umme Hani\"}  #It update the previous value of the key istead of giving error\n",
    "print(d6)"
   ]
  },
  {
   "cell_type": "code",
   "execution_count": 5,
   "id": "c8bbda8f-2a19-4c45-915d-0a364f630df6",
   "metadata": {},
   "outputs": [
    {
     "name": "stdout",
     "output_type": "stream",
     "text": [
      "Musharraf 55663 BSCS\n",
      "69\n",
      "{'M1': 55, 'M2': 77, 'M3': 69}\n"
     ]
    }
   ],
   "source": [
    "# Accessing values from dictionary ----> Access values from dictionary can be possible throught calling key, output(value)\n",
    "d7={\"name\":\"Musharraf\",\"Roll_No\":55663,\"Field\":\"BSCS\"}\n",
    "print(d7['name'],d7['Roll_No'],d7['Field'])\n",
    "\n",
    "d8={\"name\":\"Musharraf\",\"Roll_No\":55663,\"Field\":\"BSCS\",\"Marks\":{\"M1\":55,\"M2\":77,\"M3\":69}}\n",
    "\n",
    "print(d8[\"Marks\"]['M3'])\n",
    "\n",
    "#get ----> Fetchthe value of the key\n",
    "print(d8.get('Marks'))\n"
   ]
  },
  {
   "cell_type": "code",
   "execution_count": 14,
   "id": "c3988d91-f545-454b-926f-f00e02e17f0f",
   "metadata": {},
   "outputs": [
    {
     "name": "stdout",
     "output_type": "stream",
     "text": [
      "{'name': 'Saleem Khan', 'Roll_No': 55663, 'Field': 'BSCS'}\n",
      "{'name': 'Saleem Khan', 'Roll_No': 55663, 'Field': 'BSCS', 'Age': 70}\n",
      "{'name': 'Musharraf', 'Roll_No': 55663, 'Field': 'BSCS', 'Marks': {'M1': 55, 'M2': 77, 'M3': 69, 'M5': 89}}\n",
      "{'name': 'Ali', 'seat': 40}\n",
      "{'name': 'Ali', 'seat': 22}\n",
      "{'name': 'Ali', 'seat': 22, 'grade': 'A'}\n",
      "{'name': 'Ali', 'seat': 22, 'grade': 'A', 'roll': 5567, 'Section': 'B'}\n"
     ]
    }
   ],
   "source": [
    "#Edit values from dictionary ----> dictionary_name[key]=new_value\n",
    "d7={\"name\":\"Musharraf\",\"Roll_No\":55663,\"Field\":\"BSCS\"}\n",
    "d7['name']='Saleem Khan'\n",
    "print(d7)\n",
    "d7['Age']=70\n",
    "print(d7)\n",
    "\n",
    "\n",
    "\n",
    "# Add new items in dictionary\n",
    "\n",
    "# Add new key, value pairs in 2D dictionary\n",
    "d8={\"name\":\"Musharraf\",\"Roll_No\":55663,\"Field\":\"BSCS\",\"Marks\":{\"M1\":55,\"M2\":77,\"M3\":69}}\n",
    "d8['Marks']['M5']=89\n",
    "\n",
    "print(d8)\n",
    "\n",
    "#update ----> add or modify key-value pairs in the dictionary.\n",
    "students={'name':'Ali','seat':40}\n",
    "print(students)\n",
    "# Updating existing key\n",
    "students.update({'seat':22})\n",
    "print(students)\n",
    "\n",
    "# Adding new key\n",
    "students.update({'grade':'A'})\n",
    "print(students)\n",
    "\n",
    "\n",
    "# Merging another dictionary\n",
    "students.update({'roll':5567,'Section':'B'})\n",
    "\n",
    "print(students)\n"
   ]
  },
  {
   "cell_type": "code",
   "execution_count": 21,
   "id": "7cd14090-7585-4f4d-8869-f077ea645402",
   "metadata": {},
   "outputs": [
    {
     "name": "stdout",
     "output_type": "stream",
     "text": [
      "{'name': 'Abdul Rehman', 'Roll No': 123}\n",
      "{'name': 'Musharraf', 'Roll_No': 55663, 'Field': 'BSCS', 'Marks': {'M2': 77, 'M3': 69}}\n",
      "{}\n"
     ]
    }
   ],
   "source": [
    "# Delete Dictionary\n",
    "d={\"name\": \"Abdul Rehman\",\"Roll No\": 123, \"Field\": \"Computer Science\"}\n",
    "\n",
    "#del d\n",
    "#print(d)\n",
    "# Delete through key\n",
    "del d['Field']\n",
    "print(d)\n",
    "\n",
    "# Delete through key in 2D dictionary\n",
    "d={\"name\":\"Musharraf\",\"Roll_No\":55663,\"Field\":\"BSCS\",\"Marks\":{\"M1\":55,\"M2\":77,\"M3\":69}}\n",
    "del d['Marks']['M1']\n",
    "print(d)\n",
    "\n",
    "\n",
    "d12={1:'one',2:'two',3:'Three'}\n",
    "d12.clear()\n",
    "print(d12)\n",
    "\n",
    "\n"
   ]
  },
  {
   "cell_type": "code",
   "execution_count": 22,
   "id": "34b70c56-9bb1-4dba-b26f-d37c4ab7711c",
   "metadata": {},
   "outputs": [
    {
     "ename": "TypeError",
     "evalue": "unsupported operand type(s) for +: 'dict' and 'dict'",
     "output_type": "error",
     "traceback": [
      "\u001b[1;31m---------------------------------------------------------------------------\u001b[0m",
      "\u001b[1;31mTypeError\u001b[0m                                 Traceback (most recent call last)",
      "Cell \u001b[1;32mIn[22], line 7\u001b[0m\n\u001b[0;32m      3\u001b[0m d1\u001b[38;5;241m=\u001b[39m{\u001b[38;5;124m\"\u001b[39m\u001b[38;5;124mname\u001b[39m\u001b[38;5;124m\"\u001b[39m: \u001b[38;5;124m\"\u001b[39m\u001b[38;5;124mAbdul Rehman\u001b[39m\u001b[38;5;124m\"\u001b[39m,\u001b[38;5;124m\"\u001b[39m\u001b[38;5;124mRoll No\u001b[39m\u001b[38;5;124m\"\u001b[39m: \u001b[38;5;241m123\u001b[39m, \u001b[38;5;124m\"\u001b[39m\u001b[38;5;124mField\u001b[39m\u001b[38;5;124m\"\u001b[39m: \u001b[38;5;124m\"\u001b[39m\u001b[38;5;124mComputer Science\u001b[39m\u001b[38;5;124m\"\u001b[39m}\n\u001b[0;32m      4\u001b[0m d2\u001b[38;5;241m=\u001b[39m{\u001b[38;5;124m\"\u001b[39m\u001b[38;5;124mname\u001b[39m\u001b[38;5;124m\"\u001b[39m: \u001b[38;5;124m\"\u001b[39m\u001b[38;5;124mAbdulah\u001b[39m\u001b[38;5;124m\"\u001b[39m,\u001b[38;5;124m\"\u001b[39m\u001b[38;5;124mRoll No\u001b[39m\u001b[38;5;124m\"\u001b[39m: \u001b[38;5;241m456\u001b[39m, \u001b[38;5;124m\"\u001b[39m\u001b[38;5;124mField\u001b[39m\u001b[38;5;124m\"\u001b[39m: \u001b[38;5;124m\"\u001b[39m\u001b[38;5;124mEngineering\u001b[39m\u001b[38;5;124m\"\u001b[39m}\n\u001b[1;32m----> 7\u001b[0m d3\u001b[38;5;241m=\u001b[39md1\u001b[38;5;241m+\u001b[39md2\n\u001b[0;32m      8\u001b[0m \u001b[38;5;28mprint\u001b[39m(d3)\n\u001b[0;32m     10\u001b[0m d6\u001b[38;5;241m=\u001b[39md1\u001b[38;5;241m*\u001b[39m\u001b[38;5;241m3\u001b[39m\n",
      "\u001b[1;31mTypeError\u001b[0m: unsupported operand type(s) for +: 'dict' and 'dict'"
     ]
    }
   ],
   "source": [
    "# operations on dictionary\n",
    "\n",
    "d1={\"name\": \"Abdul Rehman\",\"Roll No\": 123, \"Field\": \"Computer Science\"}\n",
    "d2={\"name\": \"Abdulah\",\"Roll No\": 456, \"Field\": \"Engineering\"}\n",
    "\n",
    "\n",
    "d3=d1+d2\n",
    "print(d3)\n",
    "\n",
    "d6=d1*3\n",
    "print(d6)\n"
   ]
  },
  {
   "cell_type": "code",
   "execution_count": 25,
   "id": "1cb51626-ca29-4afc-88df-37f92899ffbd",
   "metadata": {},
   "outputs": [
    {
     "name": "stdout",
     "output_type": "stream",
     "text": [
      "name\n",
      "Roll No\n",
      "Field\n",
      "Abdul Rehman\n",
      "123\n",
      "Computer Science\n",
      "True\n",
      "False\n",
      "True\n"
     ]
    }
   ],
   "source": [
    "# operations on dictionary\n",
    "\n",
    "d1={\"name\": \"Abdul Rehman\",\"Roll No\": 123, \"Field\": \"Computer Science\"}\n",
    "\n",
    "for i in d1:# keys are return\n",
    "    print(i)\n",
    "\n",
    "for i in d1:\n",
    "    print(d1[i])\n",
    "\n",
    "# membership\n",
    "print('name' in d1) \n",
    "\n",
    "print('name' not in d1)\n",
    "print('Field' in d1)\n",
    "\n"
   ]
  },
  {
   "cell_type": "code",
   "execution_count": 30,
   "id": "e527cfa7-2ce1-4808-84f3-4995e25c1f96",
   "metadata": {},
   "outputs": [
    {
     "name": "stdout",
     "output_type": "stream",
     "text": [
      "3\n",
      "Field\n",
      "name\n",
      "['Field', 'Roll No', 'name']\n",
      "['name', 'Roll No', 'Field']\n",
      "dict_keys(['name', 'Roll No', 'Field'])\n",
      "dict_values(['Abdul Rehman', 123, 'Computer Science'])\n",
      "dict_items([('name', 'Abdul Rehman'), ('Roll No', 123), ('Field', 'Computer Science')])\n"
     ]
    }
   ],
   "source": [
    "# Functios of dictionary\n",
    "x={\"name\": \"Abdul Rehman\",\"Roll No\": 123, \"Field\": \"Computer Science\"}\n",
    "print(len(x))\n",
    "\n",
    "\n",
    "\n",
    "print(min(x))\n",
    "\n",
    "print(max(x))\n",
    "\n",
    "print(sorted(x))\n",
    "\n",
    "print(sorted(x,reverse=True))\n",
    "\n",
    "#keys\n",
    "print(x.keys())\n",
    "# values\n",
    "print(x.values())\n",
    "# items\n",
    "print(x.items())\n"
   ]
  },
  {
   "cell_type": "code",
   "execution_count": 31,
   "id": "709a7b63-bb5e-4f32-831f-96701e48dfe8",
   "metadata": {},
   "outputs": [
    {
     "name": "stdout",
     "output_type": "stream",
     "text": [
      "1\n",
      "2\n",
      "3\n"
     ]
    }
   ],
   "source": [
    "#print keys\n",
    "\n",
    "dictionary = {1: \"one\", 2: \"two\", 3: \"three\"}\n",
    "\n",
    "for i in dictionary:\n",
    "    print(i)"
   ]
  },
  {
   "cell_type": "code",
   "execution_count": 32,
   "id": "5448878a-d9a9-4f11-9fe2-77405ed0d6c2",
   "metadata": {},
   "outputs": [
    {
     "name": "stdout",
     "output_type": "stream",
     "text": [
      "1\n",
      "2\n",
      "3\n"
     ]
    }
   ],
   "source": [
    "\n",
    "for x in dictionary.keys():\n",
    "    print(x)\n",
    "    "
   ]
  },
  {
   "cell_type": "code",
   "execution_count": 33,
   "id": "a1b5886c-0141-458a-b178-3300fa521004",
   "metadata": {},
   "outputs": [
    {
     "name": "stdout",
     "output_type": "stream",
     "text": [
      "one\n",
      "two\n",
      "three\n"
     ]
    }
   ],
   "source": [
    "#print values\n",
    "for a in dictionary.values():\n",
    "    print(a)"
   ]
  },
  {
   "cell_type": "code",
   "execution_count": 34,
   "id": "e982f719-a87d-4488-94c4-b69efd91031e",
   "metadata": {},
   "outputs": [
    {
     "name": "stdout",
     "output_type": "stream",
     "text": [
      "(1, 'one')\n",
      "(2, 'two')\n",
      "(3, 'three')\n"
     ]
    }
   ],
   "source": [
    "#print items\n",
    "for a in dictionary.items():\n",
    "    print(a)\n"
   ]
  },
  {
   "cell_type": "markdown",
   "id": "b38edc26-438e-4a7d-82d6-94d8ba400a78",
   "metadata": {},
   "source": [
    "# Functions\n",
    "\n",
    "A block of code or a black box that have some code inside that have some usage purpose\n",
    "##Benifits:\n",
    "1. Every code is self contained and use to break up the entire login into pieces(Modularity).\n",
    "2. Works on philosophy of write once use forever! (Reusability).\n",
    "3. Code is well organized. (Readability).\n",
    "\n",
    "## Properties\n",
    "\n",
    "### 1. Abstraction:\n",
    "Hiding the internal details of how a task is performed and only showing a simple interface to the user, so the user can use the function without worrying about its internal complexity.\n",
    "\n",
    "### 2. Decomposition:\n",
    "Breaking a large and complex problem into smaller, manageable functions, where each function handles a specific task, making the program more organized, reusable, and easier to maintain.\n"
   ]
  },
  {
   "cell_type": "code",
   "execution_count": null,
   "id": "feed35f4-b9f7-4b08-bd88-753b084954e6",
   "metadata": {},
   "outputs": [],
   "source": [
    "#syntax\n",
    "\n",
    "'''\n",
    "def function_name(Parameters):\n",
    "\n",
    "  function doc (reading manual)\n",
    "  function work and Logic\n",
    "  return outputs\n",
    "\n",
    "  '''\n",
    "\n",
    "# Calling function\n",
    "'''\n",
    "function_name(Arguments)"
   ]
  },
  {
   "cell_type": "code",
   "execution_count": 18,
   "id": "0c2b5725-cbf8-447f-a6a0-7f2e2ae0cdbf",
   "metadata": {},
   "outputs": [],
   "source": [
    "def is_even(num):\n",
    "    if num%2==0:\n",
    "        return \"even\"\n",
    "    else:\n",
    "        return \"odd\""
   ]
  },
  {
   "cell_type": "code",
   "execution_count": 19,
   "id": "9c66b7d9-900f-486f-8277-1fd97ad27b17",
   "metadata": {},
   "outputs": [
    {
     "data": {
      "text/plain": [
       "'odd'"
      ]
     },
     "execution_count": 19,
     "metadata": {},
     "output_type": "execute_result"
    }
   ],
   "source": [
    "is_even(5)"
   ]
  },
  {
   "cell_type": "code",
   "execution_count": 20,
   "id": "45ece2d0-cee3-45a6-b97d-1d8c335ef769",
   "metadata": {},
   "outputs": [
    {
     "data": {
      "text/plain": [
       "'even'"
      ]
     },
     "execution_count": 20,
     "metadata": {},
     "output_type": "execute_result"
    }
   ],
   "source": [
    "is_even(10)"
   ]
  },
  {
   "cell_type": "code",
   "execution_count": 21,
   "id": "6b8c1295-5791-45c9-8d37-30c6bc448784",
   "metadata": {},
   "outputs": [
    {
     "name": "stdout",
     "output_type": "stream",
     "text": [
      "even\n",
      "odd\n",
      "even\n",
      "odd\n",
      "even\n",
      "odd\n",
      "even\n",
      "odd\n",
      "even\n",
      "odd\n"
     ]
    }
   ],
   "source": [
    "for i in range(10):\n",
    "    print(is_even(i))"
   ]
  },
  {
   "cell_type": "code",
   "execution_count": 24,
   "id": "594748c5-3b63-4593-b8f7-1973071e4e08",
   "metadata": {},
   "outputs": [],
   "source": [
    "# Calling fuction doc\n",
    "is_even.__doc__"
   ]
  },
  {
   "cell_type": "markdown",
   "id": "41b70e52-8c77-4180-a430-652f37cb74ef",
   "metadata": {},
   "source": [
    "#### Difference between return and print\n",
    "\n",
    "#####1. print\n",
    "simply displays the output on the screen. It doesn’t give anything back to the program. Once printed, the value cannot be reused by other parts of the code.\n",
    "\n",
    "#####2. return\n",
    "Gives the result back to the caller of the function. The returned value can be stored in a variable, reused, or passed to another function. It makes functions more flexible and powerful.\n",
    "\n",
    "#### Why do we use return more in functions?\n",
    "\n",
    "Because functions are usually written to perform a task and give back a result that can be used later in the program. **return** makes the function reusable, testable, and usable in larger programs, that's why return in functions."
   ]
  },
  {
   "cell_type": "markdown",
   "id": "033a56b9-455c-4104-ba8a-6343422edc13",
   "metadata": {},
   "source": [
    "#### Difference between Parameter & Argument\n",
    "\n",
    "* Parameter is a place holder (variable).\n",
    "* Argument is an actual value pass through the function when call.\n",
    "\n",
    "\n",
    "###Arguments\n",
    "\n",
    "1.   Default Arguments\n",
    "2.   Positional Arguments\n",
    "3.   Keyword Arguments\n",
    "4.   Arbitrary Arguments\n"
   ]
  },
  {
   "cell_type": "code",
   "execution_count": 30,
   "id": "659c9f9c-ca45-4e09-9004-c6b537b54e6e",
   "metadata": {},
   "outputs": [],
   "source": [
    "def power(a,b):\n",
    "    return a**b"
   ]
  },
  {
   "cell_type": "code",
   "execution_count": 31,
   "id": "7255302a-738e-4c6a-8035-9ba6bf32e72b",
   "metadata": {},
   "outputs": [
    {
     "data": {
      "text/plain": [
       "15625"
      ]
     },
     "execution_count": 31,
     "metadata": {},
     "output_type": "execute_result"
    }
   ],
   "source": [
    "power(5,6)"
   ]
  },
  {
   "cell_type": "code",
   "execution_count": 32,
   "id": "9e01fb5b-2675-4fc0-8207-3a524f70f476",
   "metadata": {},
   "outputs": [
    {
     "ename": "TypeError",
     "evalue": "power() missing 1 required positional argument: 'b'",
     "output_type": "error",
     "traceback": [
      "\u001b[1;31m---------------------------------------------------------------------------\u001b[0m",
      "\u001b[1;31mTypeError\u001b[0m                                 Traceback (most recent call last)",
      "Cell \u001b[1;32mIn[32], line 2\u001b[0m\n\u001b[0;32m      1\u001b[0m \u001b[38;5;66;03m# crashing function because of one argment\u001b[39;00m\n\u001b[1;32m----> 2\u001b[0m power(\u001b[38;5;241m5\u001b[39m)\n",
      "\u001b[1;31mTypeError\u001b[0m: power() missing 1 required positional argument: 'b'"
     ]
    }
   ],
   "source": [
    "# crashing function because of one argment\n",
    "power(5)"
   ]
  },
  {
   "cell_type": "markdown",
   "id": "8c9efd36-4089-4d5d-85c6-3feb01dfbb9e",
   "metadata": {},
   "source": [
    "**Note:** The best practise is to make function that avoid the crashing, To avoid crashing, use default argument concept"
   ]
  },
  {
   "cell_type": "code",
   "execution_count": 35,
   "id": "e1fc460a-a2ef-46e6-a9ac-a8f655fc3e28",
   "metadata": {},
   "outputs": [],
   "source": [
    "# Default Argument ----> A parameter that takes a pre-defined value if no value is provided by the caller when the function is called.\n",
    "\n",
    "def power(a=1,b=1):\n",
    "    return a**b\n",
    "    \n"
   ]
  },
  {
   "cell_type": "code",
   "execution_count": 37,
   "id": "3a83c250-287a-4d10-9291-66eef702ce4a",
   "metadata": {},
   "outputs": [
    {
     "data": {
      "text/plain": [
       "16"
      ]
     },
     "execution_count": 37,
     "metadata": {},
     "output_type": "execute_result"
    }
   ],
   "source": [
    "power(4,2)"
   ]
  },
  {
   "cell_type": "code",
   "execution_count": 38,
   "id": "4ebd7ee4-c3a5-43f1-89b4-b99fc8c7694c",
   "metadata": {},
   "outputs": [
    {
     "data": {
      "text/plain": [
       "7"
      ]
     },
     "execution_count": 38,
     "metadata": {},
     "output_type": "execute_result"
    }
   ],
   "source": [
    "power(7) # Now not making error because of default argument"
   ]
  },
  {
   "cell_type": "code",
   "execution_count": 39,
   "id": "5805b34f-4c62-42b3-8068-c291264a74af",
   "metadata": {},
   "outputs": [],
   "source": [
    "def greet(name='Guest'):\n",
    "    print(f\" hello {name} \")"
   ]
  },
  {
   "cell_type": "code",
   "execution_count": 40,
   "id": "7d4fdff5-f451-4a02-b780-fe0b41dcafb8",
   "metadata": {},
   "outputs": [
    {
     "name": "stdout",
     "output_type": "stream",
     "text": [
      " hello Ali \n"
     ]
    }
   ],
   "source": [
    "greet(\"Ali\")"
   ]
  },
  {
   "cell_type": "code",
   "execution_count": 41,
   "id": "b7b4e3a1-d860-432c-9507-c7e8e0d946f3",
   "metadata": {},
   "outputs": [
    {
     "name": "stdout",
     "output_type": "stream",
     "text": [
      " hello Rehman \n"
     ]
    }
   ],
   "source": [
    "greet(\"Rehman\")"
   ]
  },
  {
   "cell_type": "code",
   "execution_count": 42,
   "id": "4e81ca38-97b1-4728-a62f-0e761740d0cc",
   "metadata": {},
   "outputs": [
    {
     "data": {
      "text/plain": [
       "15625"
      ]
     },
     "execution_count": 42,
     "metadata": {},
     "output_type": "execute_result"
    }
   ],
   "source": [
    "# Positional Argument -----> It is argument that is passed to a function in the same order as the parameters are defined in the function.\n",
    "\n",
    "# Here a=2 , because given argument(2) is on the first position that is for parameter(a), similarly argument(3) for parameter(b).\n",
    "#Which shows the proper position of both arguments.\n",
    "power(5,6)"
   ]
  },
  {
   "cell_type": "code",
   "execution_count": 43,
   "id": "67f9d4ba-278c-4273-b82a-21e073e15e50",
   "metadata": {},
   "outputs": [
    {
     "data": {
      "text/plain": [
       "100000"
      ]
     },
     "execution_count": 43,
     "metadata": {},
     "output_type": "execute_result"
    }
   ],
   "source": [
    "# Keyword Arguments -----> It is an argument that is passed to a function by explicitly mentioning the parameter name along with its value, so the order of arguments doesn’t matter.\n",
    "\n",
    "power(b=5,a=10)\n",
    "\n",
    "\n"
   ]
  },
  {
   "cell_type": "code",
   "execution_count": 63,
   "id": "9e9d4382-fba8-4671-918d-2f32d6386368",
   "metadata": {},
   "outputs": [],
   "source": [
    "# Arbitrary Argumnts\n",
    "\n",
    "# 1. Arbitrary Positional Argumnts ----> A function that accept any number of positional arguments without defining them in advance. These arguments are collected into a tuple.\n",
    "def flexibity(*number):\n",
    "    print(number)\n",
    "    print(type(number))\n",
    "    \n",
    "    product=1\n",
    "    for i in number:\n",
    "        product=product*i\n",
    "    print(product)\n",
    "\n",
    "\n"
   ]
  },
  {
   "cell_type": "code",
   "execution_count": 65,
   "id": "a04cf78a-e86b-40ad-bb47-3699c52eeec6",
   "metadata": {},
   "outputs": [
    {
     "name": "stdout",
     "output_type": "stream",
     "text": [
      "6\n"
     ]
    }
   ],
   "source": [
    "flexibity(1,2,3)"
   ]
  },
  {
   "cell_type": "code",
   "execution_count": 68,
   "id": "612ba92b-c233-4bfe-8eb9-d8612806c724",
   "metadata": {},
   "outputs": [],
   "source": [
    "# 2. Arbitrary Keyword Argumnts ----> A function that accept any number of Keyword arguments without defining them in advance. These arguments are collected into a dictionary.\n",
    "\n",
    "def std_info(**info):\n",
    "    print(info)\n",
    "    print(type(info))\n",
    "\n",
    "    for key,value in info.items():\n",
    "        print(f\"{key} : {value}\")\n",
    "\n",
    "    \n"
   ]
  },
  {
   "cell_type": "code",
   "execution_count": 70,
   "id": "09d1e2fb-e00b-4adc-9e4d-4df5bc78894b",
   "metadata": {},
   "outputs": [
    {
     "name": "stdout",
     "output_type": "stream",
     "text": [
      "{'name': 'Abdullah', 'Roll_no': 67568, 'Section': 'D'}\n",
      "<class 'dict'>\n",
      "name : Abdullah\n",
      "Roll_no : 67568\n",
      "Section : D\n"
     ]
    }
   ],
   "source": [
    "std_info(name=\"Abdullah\",Roll_no=67568,Section=\"D\")"
   ]
  },
  {
   "cell_type": "markdown",
   "id": "0537a2e2-cab7-4bcc-a7ae-d0fd63f5a37a",
   "metadata": {},
   "source": [
    "### Functions As Objects"
   ]
  },
  {
   "cell_type": "code",
   "execution_count": 71,
   "id": "469aa7a9-100b-4abb-91b4-e5f338426eb3",
   "metadata": {},
   "outputs": [],
   "source": [
    "def f(num):\n",
    "    return num**2\n",
    "    "
   ]
  },
  {
   "cell_type": "code",
   "execution_count": 72,
   "id": "e15b5597-d337-4547-9d1d-86e24a718e08",
   "metadata": {},
   "outputs": [
    {
     "data": {
      "text/plain": [
       "16"
      ]
     },
     "execution_count": 72,
     "metadata": {},
     "output_type": "execute_result"
    }
   ],
   "source": [
    "f(4)"
   ]
  },
  {
   "cell_type": "code",
   "execution_count": 73,
   "id": "95d57229-3244-4b5e-94be-a9ece7170c0f",
   "metadata": {},
   "outputs": [
    {
     "data": {
      "text/plain": [
       "64"
      ]
     },
     "execution_count": 73,
     "metadata": {},
     "output_type": "execute_result"
    }
   ],
   "source": [
    "f(8)"
   ]
  },
  {
   "cell_type": "code",
   "execution_count": 74,
   "id": "65601712-3bde-4596-b82b-abeeef862288",
   "metadata": {},
   "outputs": [],
   "source": [
    "x=f"
   ]
  },
  {
   "cell_type": "code",
   "execution_count": 75,
   "id": "f360739a-2078-4327-a957-31803429fa18",
   "metadata": {},
   "outputs": [
    {
     "data": {
      "text/plain": [
       "81"
      ]
     },
     "execution_count": 75,
     "metadata": {},
     "output_type": "execute_result"
    }
   ],
   "source": [
    "x(9)"
   ]
  },
  {
   "cell_type": "code",
   "execution_count": 79,
   "id": "4cb1ac94-64dd-4dbb-a439-42d15a7b658c",
   "metadata": {},
   "outputs": [
    {
     "ename": "NameError",
     "evalue": "name 'f' is not defined",
     "output_type": "error",
     "traceback": [
      "\u001b[1;31m---------------------------------------------------------------------------\u001b[0m",
      "\u001b[1;31mNameError\u001b[0m                                 Traceback (most recent call last)",
      "Cell \u001b[1;32mIn[79], line 4\u001b[0m\n\u001b[0;32m      1\u001b[0m \u001b[38;5;66;03m# Deleting function\u001b[39;00m\n\u001b[0;32m      2\u001b[0m \u001b[38;5;66;03m#It is already stored in x\u001b[39;00m\n\u001b[1;32m----> 4\u001b[0m \u001b[38;5;28;01mdel\u001b[39;00m f\n\u001b[0;32m      5\u001b[0m \u001b[38;5;28mprint\u001b[39m(f)\n",
      "\u001b[1;31mNameError\u001b[0m: name 'f' is not defined"
     ]
    }
   ],
   "source": [
    "# Deleting function\n",
    "#It is already stored in x\n",
    "\n",
    "del f\n",
    "print(f)"
   ]
  },
  {
   "cell_type": "code",
   "execution_count": 81,
   "id": "801cfb23-27bc-464f-8327-bf11d1eb5af1",
   "metadata": {},
   "outputs": [
    {
     "name": "stdout",
     "output_type": "stream",
     "text": [
      "<class 'function'>\n"
     ]
    },
    {
     "data": {
      "text/plain": [
       "36"
      ]
     },
     "execution_count": 81,
     "metadata": {},
     "output_type": "execute_result"
    }
   ],
   "source": [
    "\n",
    "print(type(x))\n",
    "x(6)"
   ]
  },
  {
   "cell_type": "code",
   "execution_count": 83,
   "id": "98edc2b7-480f-4f89-ba22-b0b2a9fa19ff",
   "metadata": {},
   "outputs": [
    {
     "name": "stdout",
     "output_type": "stream",
     "text": [
      "[1, 2, 3, 4, 5, <function f at 0x000001BE86C0BB00>]\n"
     ]
    }
   ],
   "source": [
    "#Sorting function object in list\n",
    "l=[1,2,3,4,5,x]\n",
    "print(l)"
   ]
  },
  {
   "cell_type": "code",
   "execution_count": 85,
   "id": "d24665e6-3ce3-463a-aef1-fe3c9103f0e2",
   "metadata": {},
   "outputs": [
    {
     "data": {
      "text/plain": [
       "81"
      ]
     },
     "execution_count": 85,
     "metadata": {},
     "output_type": "execute_result"
    }
   ],
   "source": [
    "# input value to x which behaving as a function\n",
    "l[-1](9)"
   ]
  },
  {
   "cell_type": "code",
   "execution_count": 87,
   "id": "d4a726b4-b29f-4e1f-8321-4445f44a2c9d",
   "metadata": {},
   "outputs": [
    {
     "name": "stdout",
     "output_type": "stream",
     "text": [
      "[1, 2, 3, 4, 5, 49]\n"
     ]
    }
   ],
   "source": [
    "#similarly\n",
    "l=[1,2,3,4,5,x(7)]\n",
    "print(l)"
   ]
  },
  {
   "cell_type": "markdown",
   "id": "74d86568-46af-4aad-8e03-baa9b98983c7",
   "metadata": {},
   "source": [
    "# Exercises"
   ]
  },
  {
   "cell_type": "code",
   "execution_count": 89,
   "id": "a3fe2597-aee6-409b-aa54-b35ca7e14760",
   "metadata": {},
   "outputs": [
    {
     "data": {
      "text/plain": [
       "5.5"
      ]
     },
     "execution_count": 89,
     "metadata": {},
     "output_type": "execute_result"
    }
   ],
   "source": [
    "def mean(arr):\n",
    "    total=0\n",
    "    for val in arr:\n",
    "        total+=val\n",
    "    return total/len(arr)\n",
    "mean([2,3,4,5,6,7,8,9])    "
   ]
  },
  {
   "cell_type": "code",
   "execution_count": 2,
   "id": "aa399925-898d-47e3-a802-ec823269b09e",
   "metadata": {},
   "outputs": [
    {
     "name": "stdout",
     "output_type": "stream",
     "text": [
      "\n",
      "     Name:Ali\n",
      "     Roll_No:786867\n",
      "     Marks: 89\n",
      "     GRADE: A+\n",
      "     \n",
      "     \n"
     ]
    }
   ],
   "source": [
    "def data(name,roll_no,marks,grade):\n",
    "    print(f\"\"\"\n",
    "     Name:{name}\n",
    "     Roll_No:{roll_no}\n",
    "     Marks: {marks}\n",
    "     GRADE: {grade}\n",
    "     \n",
    "     \"\"\")\n",
    "data(\"Ali\",786867,89,\"A+\")"
   ]
  },
  {
   "cell_type": "code",
   "execution_count": 3,
   "id": "916167b3-fbbb-4dfb-8da9-a6e2de606b37",
   "metadata": {},
   "outputs": [
    {
     "name": "stdout",
     "output_type": "stream",
     "text": [
      "my name is dua\n",
      "My name is dua\n"
     ]
    }
   ],
   "source": [
    "def para(text):\n",
    "    print(text.lower())\n",
    "\n",
    "    print(text.capitalize())\n",
    "\n",
    "para(\"my name is dua\")"
   ]
  },
  {
   "cell_type": "code",
   "execution_count": 5,
   "id": "c2334ee3-d1f0-44c5-af05-1e94907ae3c4",
   "metadata": {},
   "outputs": [
    {
     "name": "stdout",
     "output_type": "stream",
     "text": [
      "1 6\n"
     ]
    }
   ],
   "source": [
    "def min_max(arr):\n",
    "    print(min(arr),max(arr))\n",
    "\n",
    "min_max([1,2,3,4,5,6])"
   ]
  },
  {
   "cell_type": "code",
   "execution_count": 9,
   "id": "92ae9e46-ba23-4795-b7b3-ec487b0fbaa2",
   "metadata": {},
   "outputs": [
    {
     "name": "stdout",
     "output_type": "stream",
     "text": [
      "Ali\n",
      "Aman\n",
      "Abdul Rehman\n",
      "Ameen\n",
      "Abdullah\n",
      "Owais\n"
     ]
    }
   ],
   "source": [
    "name={'Abdullah','Abdul Rehman','Ameen','Aman','Ali','Owais'}\n",
    "def person_name():\n",
    "    for i in name:\n",
    "        print(i)\n",
    "\n",
    "person_name()"
   ]
  },
  {
   "cell_type": "code",
   "execution_count": 15,
   "id": "5ac74e3c-24b7-464c-9daa-db7f7b3691e5",
   "metadata": {},
   "outputs": [
    {
     "data": {
      "text/plain": [
       "{'First_name': 'imad', 'last_name': 'waseem', 'age': 35}"
      ]
     },
     "execution_count": 15,
     "metadata": {},
     "output_type": "execute_result"
    }
   ],
   "source": [
    "def build_person(first_name,last_name,age=''):\n",
    "    person={\"First_name\":first_name,\"last_name\":last_name}\n",
    "    if age:\n",
    "        person['age']=age\n",
    "        return person\n",
    "\n",
    "\n",
    "build_person(\"imad\",\"waseem\",35)"
   ]
  },
  {
   "cell_type": "code",
   "execution_count": 18,
   "id": "4a87d5e4-e495-4f1e-8766-5b17a98b71ad",
   "metadata": {},
   "outputs": [
    {
     "name": "stdout",
     "output_type": "stream",
     "text": [
      "cheese\n",
      "garlic sauce\n",
      "doble chicken\n",
      "Mashroom\n"
     ]
    }
   ],
   "source": [
    "def pizza(*toping):\n",
    "    for top in toping:\n",
    "        print(top)\n",
    "\n",
    "pizza('cheese','garlic sauce','doble chicken')\n",
    "pizza('Mashroom')"
   ]
  },
  {
   "cell_type": "code",
   "execution_count": 33,
   "id": "dfdcd5cf-2ca7-42da-9f74-2f6a840990ef",
   "metadata": {},
   "outputs": [],
   "source": [
    "def build_profile(first,last,**user_id):\n",
    "    person={}\n",
    "    person[\"First_Name\"]=first\n",
    "    person[\"Last_Name\"]=last\n",
    "\n",
    "    for key,value in user_id.items():\n",
    "        person[key]=value\n",
    "\n",
    "    return person\n",
    "    \n",
    "    "
   ]
  },
  {
   "cell_type": "code",
   "execution_count": 34,
   "id": "b9360203-c482-4268-b2c0-7e9919634b82",
   "metadata": {},
   "outputs": [
    {
     "data": {
      "text/plain": [
       "{'First_Name': 'muhammad', 'Last_Name': 'Aleem'}"
      ]
     },
     "execution_count": 34,
     "metadata": {},
     "output_type": "execute_result"
    }
   ],
   "source": [
    "build_profile(\"muhammad\",\"Aleem\")"
   ]
  },
  {
   "cell_type": "code",
   "execution_count": 36,
   "id": "fdf029cb-8143-4ed5-9e11-69cc828fd1c2",
   "metadata": {},
   "outputs": [
    {
     "data": {
      "text/plain": [
       "{'First_Name': 'muhammad',\n",
       " 'Last_Name': 'Aleem',\n",
       " 'education': 'Graduation',\n",
       " 'university': 'Federal university',\n",
       " 'field': 'BSCS'}"
      ]
     },
     "execution_count": 36,
     "metadata": {},
     "output_type": "execute_result"
    }
   ],
   "source": [
    "build_profile(\"muhammad\",\"Aleem\",education=\"Graduation\",university=\"Federal university\",field=\"BSCS\")"
   ]
  },
  {
   "cell_type": "code",
   "execution_count": 61,
   "id": "702a803e-5a3f-4251-aeb5-9dc8cf982431",
   "metadata": {},
   "outputs": [],
   "source": [
    "def calculator(arr,task=''):\n",
    "    print(\"choose anyone to perform operaion on a list :Add,sub,mul,div,avg,exponent,even,odd \")\n",
    "    if task=='add':\n",
    "        total=0\n",
    "        for add in arr:\n",
    "            total=total+add\n",
    "\n",
    "        return total\n",
    "\n",
    "\n",
    "    elif task=='sub':\n",
    "        total=0\n",
    "        for sub in arr:\n",
    "            total= sub-total\n",
    "        return total\n",
    "\n",
    "\n",
    "    elif task=='mul':\n",
    "        \n",
    "        total=1\n",
    "        for mul in arr:\n",
    "            total=mul*total\n",
    "        return total\n",
    "\n",
    "    elif task=='div':\n",
    "        total=1\n",
    "        for div in arr:\n",
    "            total=div/total\n",
    "        return total\n",
    "\n",
    "    elif task=='avg':\n",
    "        total=1\n",
    "        for avg in arr:\n",
    "            total+=avg\n",
    "        return total/len(arr)\n",
    "    \n",
    "    elif task=='exponent':\n",
    "        power=int(input(\"Enter the number\"))\n",
    "        return [sqr**power for sqr in arr]\n",
    "        \n",
    "    elif task=='even':\n",
    "        evenlist=[]\n",
    "        for i in arr:\n",
    "            if i%2==0:\n",
    "                evenlist.append(i)\n",
    "        return evenlist\n",
    "\n",
    "    elif task=='odd':\n",
    "        oddlist=[]\n",
    "        for odd in arr:\n",
    "            if odd%2==1:\n",
    "                oddlist.append(odd)\n",
    "        return oddlist\n",
    "\n",
    "    else:\n",
    "        return arr\n",
    "\n",
    "         \n",
    "\n",
    "     \n",
    "\n",
    "\n",
    "\n",
    "\n",
    "\n",
    "\n",
    "        \n",
    "\n",
    "\n",
    "\n",
    "\n",
    "\n",
    "        \n",
    "    "
   ]
  },
  {
   "cell_type": "code",
   "execution_count": 63,
   "id": "df5de737-1545-4577-bbb2-b615019629e6",
   "metadata": {},
   "outputs": [
    {
     "name": "stdout",
     "output_type": "stream",
     "text": [
      "choose anyone to perform operaion on a list :Add,sub,mul,div,avg,exponent,even,odd \n",
      "27\n",
      "choose anyone to perform operaion on a list :Add,sub,mul,div,avg,exponent,even,odd \n",
      "4\n",
      "choose anyone to perform operaion on a list :Add,sub,mul,div,avg,exponent,even,odd \n",
      "5040\n",
      "choose anyone to perform operaion on a list :Add,sub,mul,div,avg,exponent,even,odd \n",
      "1.7999999999999998\n",
      "choose anyone to perform operaion on a list :Add,sub,mul,div,avg,exponent,even,odd \n"
     ]
    },
    {
     "name": "stdin",
     "output_type": "stream",
     "text": [
      "Enter the number 5\n"
     ]
    },
    {
     "name": "stdout",
     "output_type": "stream",
     "text": [
      "[32, 243, 1024, 3125, 7776, 16807]\n",
      "choose anyone to perform operaion on a list :Add,sub,mul,div,avg,exponent,even,odd \n",
      "4.666666666666667\n",
      "choose anyone to perform operaion on a list :Add,sub,mul,div,avg,exponent,even,odd \n",
      "[3, 5, 7]\n",
      "choose anyone to perform operaion on a list :Add,sub,mul,div,avg,exponent,even,odd \n",
      "[2, 4, 6]\n",
      "choose anyone to perform operaion on a list :Add,sub,mul,div,avg,exponent,even,odd \n",
      "[2, 3, 4, 5, 6, 7]\n"
     ]
    }
   ],
   "source": [
    "print(calculator([2,3,4,5,6,7],'add'))\n",
    "print(calculator([2,3,4,5,6],'sub'))\n",
    "print(calculator([2,3,4,5,6,7],'mul'))\n",
    "print(calculator([2,3,5,6,],'div'))\n",
    "print(calculator([2,3,4,5,6,7],'exponent'))\n",
    "print(calculator([2,3,4,5,6,7],'avg'))\n",
    "print(calculator([2,3,4,5,6,7],'odd'))\n",
    "print(calculator([2,3,4,5,6,7],'even'))\n",
    "print(calculator([2,3,4,5,6,7]))"
   ]
  },
  {
   "cell_type": "code",
   "execution_count": null,
   "id": "ddf937c4-595c-4a2d-b066-dd78b9098b10",
   "metadata": {},
   "outputs": [],
   "source": []
  }
 ],
 "metadata": {
  "kernelspec": {
   "display_name": "Python 3 (ipykernel)",
   "language": "python",
   "name": "python3"
  },
  "language_info": {
   "codemirror_mode": {
    "name": "ipython",
    "version": 3
   },
   "file_extension": ".py",
   "mimetype": "text/x-python",
   "name": "python",
   "nbconvert_exporter": "python",
   "pygments_lexer": "ipython3",
   "version": "3.13.5"
  }
 },
 "nbformat": 4,
 "nbformat_minor": 5
}
