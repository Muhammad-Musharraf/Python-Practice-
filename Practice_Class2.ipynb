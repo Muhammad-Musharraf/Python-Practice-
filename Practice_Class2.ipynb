{
 "cells": [
  {
   "cell_type": "markdown",
   "id": "6008a134-a8fa-412d-a61a-4570f74df0db",
   "metadata": {},
   "source": [
    "# String Formation"
   ]
  },
  {
   "cell_type": "code",
   "execution_count": 2,
   "id": "121bdd8a-5b6c-4e23-a17f-d45d853f2e84",
   "metadata": {},
   "outputs": [
    {
     "name": "stdin",
     "output_type": "stream",
     "text": [
      "enter the name Musharraf\n",
      "enter the age 20\n",
      "enter the field computer science\n"
     ]
    },
    {
     "name": "stdout",
     "output_type": "stream",
     "text": [
      "Dear Your Name  Musharraf , your age is 20, and you are student of  computer science \n"
     ]
    }
   ],
   "source": [
    "name = input(\"enter the name\")\n",
    "age = int(input(\"enter the age\"))\n",
    "field = input(\"enter the field\")\n",
    "print(\"Dear Your Name  {} . your age is {}.  and you are student of  {} \".format(name,age,field))"
   ]
  },
  {
   "cell_type": "code",
   "execution_count": 4,
   "id": "8b7820f2-0841-41d4-895a-9ea5a09f352b",
   "metadata": {},
   "outputs": [
    {
     "name": "stdin",
     "output_type": "stream",
     "text": [
      "enter the name Saleem\n"
     ]
    },
    {
     "name": "stdout",
     "output_type": "stream",
     "text": [
      "your name is Saleem \n"
     ]
    }
   ],
   "source": [
    "name = input(\"enter the name\")\n",
    "print(f\"your name is {name} \") "
   ]
  },
  {
   "cell_type": "code",
   "execution_count": 8,
   "id": "10bffb6d-f4cb-4d30-a5ce-b3f0dc4b6338",
   "metadata": {},
   "outputs": [
    {
     "name": "stdin",
     "output_type": "stream",
     "text": [
      "enter the number1:  40\n",
      "enter the number2:  60\n"
     ]
    },
    {
     "name": "stdout",
     "output_type": "stream",
     "text": [
      "the sum of 40 & 60 is 100 \n"
     ]
    }
   ],
   "source": [
    "a = int(input(\"enter the number1: \"))\n",
    "b = int(input(\"enter the number2: \"))\n",
    "print(f\"the sum of {a} & {b} is {a+b} \")"
   ]
  },
  {
   "cell_type": "code",
   "execution_count": 9,
   "id": "f5889ebb-da02-49a6-a7c1-5535cd340922",
   "metadata": {},
   "outputs": [
    {
     "name": "stdout",
     "output_type": "stream",
     "text": [
      " the price is 144 dollar\n"
     ]
    }
   ],
   "source": [
    "# perform a math operation in placeholder\n",
    "txt = (f\" the price is {12*12} dollar\")\n",
    "print(txt)"
   ]
  },
  {
   "cell_type": "code",
   "execution_count": 13,
   "id": "0603d31e-edde-461e-acb3-394dcc9ef3b5",
   "metadata": {},
   "outputs": [
    {
     "name": "stdout",
     "output_type": "stream",
     "text": [
      " the price is 0.0005787037037037037 dollar\n"
     ]
    }
   ],
   "source": [
    "txt = (f\" the price is {12/(144*144)} dollar\")\n",
    "print(txt)\n"
   ]
  },
  {
   "cell_type": "code",
   "execution_count": 14,
   "id": "735c4a5a-ea2a-40bb-bd6a-c769b1a3c257",
   "metadata": {},
   "outputs": [
    {
     "name": "stdout",
     "output_type": "stream",
     "text": [
      "9.4\n",
      "(12+6j)\n",
      "(7.5+4j)\n"
     ]
    }
   ],
   "source": [
    "#implicit ----> python automatically convert the data type after addition\n",
    "print(5+4.4) # int & float\n",
    "print(7+ 5+6j) # int & complex\n",
    "print(5.5+ 2+4j) # float & complex"
   ]
  },
  {
   "cell_type": "code",
   "execution_count": 22,
   "id": "f72ba3c2-38f4-42ff-9c0a-a9c54c8c5e59",
   "metadata": {},
   "outputs": [
    {
     "name": "stdout",
     "output_type": "stream",
     "text": [
      "7\n",
      "4.0\n",
      "45\n",
      "45\n",
      "35.0\n",
      "4.55\n",
      "False\n",
      "0\n",
      "(5+0j)\n"
     ]
    }
   ],
   "source": [
    "# Explicit ----> Where python can't perform implicit type conversion\n",
    "# float to int\n",
    "print(int(7.4))\n",
    "#int to float\n",
    "print(float(4))\n",
    "# string to int\n",
    "print(int('45'))\n",
    "# int to string\n",
    "print(str(45))\n",
    "#float to string\n",
    "print(float('35'))\n",
    "# string to float\n",
    "print(str(4.55))\n",
    "#int to bool\n",
    "print(bool(0))\n",
    "#bool to int\n",
    "print(int(False))\n",
    "#int to complex\n",
    "print(complex(5))"
   ]
  },
  {
   "cell_type": "code",
   "execution_count": 24,
   "id": "5f68b013-18b8-43b4-8332-afafa71ffa8e",
   "metadata": {},
   "outputs": [
    {
     "ename": "ValueError",
     "evalue": "invalid literal for int() with base 10: 'Karachi'",
     "output_type": "error",
     "traceback": [
      "\u001b[1;31m---------------------------------------------------------------------------\u001b[0m",
      "\u001b[1;31mValueError\u001b[0m                                Traceback (most recent call last)",
      "Cell \u001b[1;32mIn[24], line 2\u001b[0m\n\u001b[0;32m      1\u001b[0m \u001b[38;5;66;03m# not convertable\u001b[39;00m\n\u001b[1;32m----> 2\u001b[0m \u001b[38;5;28mprint\u001b[39m(\u001b[38;5;28mint\u001b[39m(\u001b[38;5;124m\"\u001b[39m\u001b[38;5;124mKarachi\u001b[39m\u001b[38;5;124m\"\u001b[39m))\n\u001b[0;32m      3\u001b[0m \u001b[38;5;28mprint\u001b[39m(\u001b[38;5;28mfloat\u001b[39m(\u001b[38;5;124m\"\u001b[39m\u001b[38;5;124mKarachi\u001b[39m\u001b[38;5;124m\"\u001b[39m))\n\u001b[0;32m      4\u001b[0m \u001b[38;5;28mprint\u001b[39m(\u001b[38;5;28mcomplex\u001b[39m(\u001b[38;5;124m\"\u001b[39m\u001b[38;5;124mKarachi\u001b[39m\u001b[38;5;124m\"\u001b[39m))\n",
      "\u001b[1;31mValueError\u001b[0m: invalid literal for int() with base 10: 'Karachi'"
     ]
    }
   ],
   "source": [
    "# not convertable\n",
    "print(int(\"Karachi\"))\n",
    "print(float(\"Karachi\"))\n",
    "print(complex(\"Karachi\")) \n",
    "\n",
    "\n"
   ]
  },
  {
   "cell_type": "markdown",
   "id": "1efd3d57-2b8c-4fdf-9e9d-4889fd6ea9b7",
   "metadata": {},
   "source": [
    "#Literals Raw Data given in a variable\n",
    "\n",
    "###4 types of literals\n",
    "\n",
    "* Numeric\n",
    "* String\n",
    "* Boolean\n",
    "* Special\n",
    "\n",
    "\n",
    "\n",
    "\n",
    "\n",
    "\n",
    "####1. Numeric Literals"
   ]
  },
  {
   "cell_type": "code",
   "execution_count": 27,
   "id": "8ba2ca4f-7500-4c91-9d5c-87ffbdf4ef8d",
   "metadata": {},
   "outputs": [
    {
     "name": "stdout",
     "output_type": "stream",
     "text": [
      "10 100 200 300\n",
      "100.22 150.0 0.0132\n",
      "2.4j 0.0 2.4\n"
     ]
    }
   ],
   "source": [
    "a = 0b1010 # Binary\n",
    "b = 100 # Decimal\n",
    "c = 0o310 # octa\n",
    "d = 0x12c # hexa\n",
    "\n",
    "# Float literals\n",
    "float_1= 100.22\n",
    "float_2= 1.5e2\n",
    "float_3= 13.2e-3\n",
    "\n",
    "# complex literals\n",
    "x = 2.4j\n",
    "\n",
    "print(a,b,c,d)\n",
    "print(float_1,float_2,float_3)\n",
    "print(x, x.real ,x.imag)"
   ]
  },
  {
   "cell_type": "markdown",
   "id": "6b57b062-2968-46f8-827c-715d6fe8f55f",
   "metadata": {},
   "source": [
    "### String literals"
   ]
  },
  {
   "cell_type": "code",
   "execution_count": 35,
   "id": "16338c16-99ad-45e9-b906-f8d549e1a070",
   "metadata": {},
   "outputs": [
    {
     "name": "stdout",
     "output_type": "stream",
     "text": [
      " my name is Musharraf\n",
      "I am 20 years old\n",
      "C\n",
      "This is a multiline with more than one line\n",
      "😀\n",
      "raw \n",
      " String \n"
     ]
    }
   ],
   "source": [
    "string =\" my name is Musharraf\"\n",
    "strings = \"I am 20 years old\"\n",
    "single_char = \"C\"\n",
    "multiline_str = \"\"\"This is a multiline with more than one line\"\"\"# multiline string\n",
    "unicode_str = u\"\\U0001f600\"\n",
    "\n",
    "raw_str=\"raw \\n String \"# Use when want to write html in python\n",
    "\n",
    "\n",
    "print(string)\n",
    "print(strings)\n",
    "print(single_char)\n",
    "print(multiline_str)\n",
    "print(unicode_str)\n",
    "\n",
    "print(raw_str)"
   ]
  },
  {
   "cell_type": "markdown",
   "id": "dc57deb2-f875-4716-9a8a-127f626aa1f2",
   "metadata": {},
   "source": [
    "### Boolean Literals"
   ]
  },
  {
   "cell_type": "code",
   "execution_count": 36,
   "id": "f38ddf73-300a-4adb-aa97-a2d711cf76f7",
   "metadata": {},
   "outputs": [
    {
     "name": "stdout",
     "output_type": "stream",
     "text": [
      "5 10\n"
     ]
    }
   ],
   "source": [
    "#implicit type conversion\n",
    "a = 4+True\n",
    "b = 10+False\n",
    "print(a,b)"
   ]
  },
  {
   "cell_type": "markdown",
   "id": "34f6f42f-2193-4f96-8d9e-5a84a4d488fe",
   "metadata": {},
   "source": [
    "4### special literals"
   ]
  },
  {
   "cell_type": "code",
   "execution_count": 39,
   "id": "8965c29a-1202-495c-b006-d137c45117b9",
   "metadata": {},
   "outputs": [
    {
     "name": "stdout",
     "output_type": "stream",
     "text": [
      "None\n"
     ]
    }
   ],
   "source": [
    "# there is no variable declaration mechnism in python . So as safe side for diclaration of variabe for any purpose we can use None which defines the emptiness of variable\n",
    "# we can use zero as place of none but it makes some mistake or blender in logic.\n",
    "a=None\n",
    "print(a)"
   ]
  },
  {
   "cell_type": "markdown",
   "id": "f4d34599-d7b3-45a3-a292-ec3659e46cbd",
   "metadata": {},
   "source": [
    "# Operators\n",
    "Operators are use to perform oerations on variables and values.Python has following operators\n",
    "\n",
    "*   Arthmatic Operators\n",
    "*   Comparison Operators\n",
    "*   Logical Opertors  \n",
    "*   Assignment Operator\n",
    "*   Identity Operators\n",
    "*   Membership Operators\n"
   ]
  },
  {
   "cell_type": "markdown",
   "id": "8d068b17-4ca2-48ff-ba72-6f8bf31dcbbd",
   "metadata": {},
   "source": []
  },
  {
   "cell_type": "code",
   "execution_count": 42,
   "id": "dd10115a-773e-49f8-8195-80b70920cbf8",
   "metadata": {},
   "outputs": [
    {
     "name": "stdout",
     "output_type": "stream",
     "text": [
      "14\n",
      "6\n",
      "2.5\n",
      "2\n",
      "40\n",
      "10000\n",
      "2\n"
     ]
    }
   ],
   "source": [
    "# Arthmatic Operators\n",
    "x = 10\n",
    "y = 4\n",
    "# Addition\n",
    "print(x+y)\n",
    "\n",
    "# Subraction\n",
    "print(x-y)\n",
    "\n",
    "# Division #output in float by default\n",
    "print(x/y)\n",
    "\n",
    "\n",
    "#Floor Division\n",
    "print(x//y)      #output in int by default\n",
    "\n",
    "\n",
    "# Multiplication\n",
    "print(x*y)\n",
    "\n",
    "# Power\n",
    "print(x**y)\n",
    "\n",
    "# percentage\n",
    "print(x%y)  # Modulus"
   ]
  },
  {
   "cell_type": "code",
   "execution_count": 43,
   "id": "f3dd5fe3-24eb-4e77-bbf3-e0fa7df3fc1a",
   "metadata": {},
   "outputs": [
    {
     "name": "stdout",
     "output_type": "stream",
     "text": [
      "True\n",
      "False\n",
      "True\n",
      "False\n",
      "False\n",
      "True\n"
     ]
    }
   ],
   "source": [
    "# Comparison Operators\n",
    "x = 15\n",
    "y = 10\n",
    "#greatr than , Less then\n",
    "print(x>y)\n",
    "print(x<y)\n",
    "\n",
    "# greater than or equal to , less than or equal to\n",
    "\n",
    "print(x>=y)\n",
    "print(x<=y)\n",
    "\n",
    "# Equal Equal to, Not Equal to\n",
    "print(x==y)\n",
    "print(x!=y)\n",
    "\n"
   ]
  },
  {
   "cell_type": "code",
   "execution_count": 47,
   "id": "a640f5a8-cb66-418e-91e9-619e299dda36",
   "metadata": {},
   "outputs": [
    {
     "name": "stdout",
     "output_type": "stream",
     "text": [
      "False\n",
      "True\n",
      "False\n",
      "True\n",
      "False\n"
     ]
    }
   ],
   "source": [
    "# Logicl Operators\n",
    "\n",
    "x=True\n",
    "y=False\n",
    "\n",
    "# And operator\n",
    "print(x and y)  # True, Flase = False\n",
    "# OR operators\n",
    "print(x or y) # True, Flase = True\n",
    "\n",
    "# Not Operators\n",
    "print(not x) #true = false\n",
    "\n",
    "a=12\n",
    "b=13\n",
    "c=14\n",
    "\n",
    "print(a<=b and c>=b)\n",
    "print(a>=b or  c<=b)\n"
   ]
  },
  {
   "cell_type": "code",
   "execution_count": 1,
   "id": "d0b57c7a-8423-46dc-9b01-1ae88fde31ec",
   "metadata": {},
   "outputs": [
    {
     "name": "stdout",
     "output_type": "stream",
     "text": [
      "3\n",
      "0.5\n",
      "1.5\n",
      "-0.5\n",
      "-2.0\n",
      "4.0\n",
      "0.0\n",
      "0.0\n"
     ]
    }
   ],
   "source": [
    "# Assignment Operators\n",
    "a = 3\n",
    "print(a)\n",
    "\n",
    "a/= 6 # a = = a/6 =3/6\n",
    "print(a)\n",
    "\n",
    "a+=1\n",
    "print(a) #a=a+3\n",
    "\n",
    "a-=2\n",
    "print(a)\n",
    "\n",
    "a*=4\n",
    "print(a)\n",
    "\n",
    "a**=2\n",
    "print(a)\n",
    "\n",
    "\n",
    "\n",
    "a//=10\n",
    "print(a)\n",
    "\n",
    "a%=3\n",
    "print(a)\n",
    "\n",
    "\n",
    "\n",
    "\n",
    "\n",
    "\n",
    "\n",
    "\n",
    "\n",
    "\n"
   ]
  },
  {
   "cell_type": "code",
   "execution_count": 59,
   "id": "e37dd450-7e7d-4285-bae7-db9c07ff28b3",
   "metadata": {},
   "outputs": [
    {
     "name": "stdout",
     "output_type": "stream",
     "text": [
      "0.6666666666666666\n"
     ]
    }
   ],
   "source": [
    "a = 2\n",
    "a = a/3\n",
    "print(a)"
   ]
  },
  {
   "cell_type": "code",
   "execution_count": null,
   "id": "6507a9f3-8998-483a-b860-86f8ab11eb8a",
   "metadata": {},
   "outputs": [],
   "source": []
  }
 ],
 "metadata": {
  "kernelspec": {
   "display_name": "Python 3 (ipykernel)",
   "language": "python",
   "name": "python3"
  },
  "language_info": {
   "codemirror_mode": {
    "name": "ipython",
    "version": 3
   },
   "file_extension": ".py",
   "mimetype": "text/x-python",
   "name": "python",
   "nbconvert_exporter": "python",
   "pygments_lexer": "ipython3",
   "version": "3.13.5"
  }
 },
 "nbformat": 4,
 "nbformat_minor": 5
}
