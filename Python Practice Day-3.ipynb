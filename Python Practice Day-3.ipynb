{
 "cells": [
  {
   "cell_type": "code",
   "execution_count": 7,
   "id": "19226fdf-57a6-4f57-9c9e-a4d45b6655d5",
   "metadata": {},
   "outputs": [
    {
     "name": "stdin",
     "output_type": "stream",
     "text": [
      "Enter the number of prime numbers required:  10\n"
     ]
    },
    {
     "name": "stdout",
     "output_type": "stream",
     "text": [
      "2 3 5 7 11 13 17 19 23 29 "
     ]
    }
   ],
   "source": [
    "#Q21 Create a Genarator to Produce first n Prime Number\n",
    "# def isprime(num):\n",
    "#     for i in range(2,num):\n",
    "#         if n%i==0:\n",
    "#             return False\n",
    "#     return True\n",
    "# def prime_genarator(n):\n",
    "#     num=2\n",
    "#     count=0\n",
    "#     while n:\n",
    "#         if isprime(num):\n",
    "#             yield num\n",
    "#             count+=1\n",
    "#         num+=1 \n",
    "\n",
    "# x=int(input(\"Enter the no. of prime number reqiured\"))\n",
    "# it = print(prime_genarator(x))\n",
    "# for e in it:\n",
    "#     print(e, end=\" \")\n",
    "#######################################\n",
    "def isprime(num):\n",
    "    if num < 2:\n",
    "        return False\n",
    "    for i in range(2, int(num ** 0.5) + 1):\n",
    "        if num % i == 0:\n",
    "            return False\n",
    "    return True\n",
    "\n",
    "def prime_generator(n):\n",
    "    num = 2\n",
    "    count = 0\n",
    "    while count < n:\n",
    "        if isprime(num):\n",
    "            yield num\n",
    "            count += 1\n",
    "        num += 1\n",
    "\n",
    "x = int(input(\"Enter the number of prime numbers required: \"))\n",
    "it = prime_generator(x)\n",
    "\n",
    "for e in it:\n",
    "    print(e, end=\" \")\n",
    "\n",
    "\n",
    "    \n",
    "    \n",
    "    \n",
    "    \n",
    "\n",
    "\n",
    "\n",
    "\n",
    "\n"
   ]
  },
  {
   "cell_type": "code",
   "execution_count": 12,
   "id": "e5c1cd03-336d-4b80-8295-b0efc36b8abd",
   "metadata": {},
   "outputs": [
    {
     "name": "stdin",
     "output_type": "stream",
     "text": [
      "Enter the number to Check it is prime or Not 56\n"
     ]
    },
    {
     "data": {
      "text/plain": [
       "False"
      ]
     },
     "execution_count": 12,
     "metadata": {},
     "output_type": "execute_result"
    }
   ],
   "source": [
    "#program to Check if number is prime or not\n",
    "def check_prime(n):\n",
    "    flag=False\n",
    "    if n<2:\n",
    "        return flag\n",
    "    else:\n",
    "        for i in range(2,n):\n",
    "            if n%i==0:\n",
    "                return flag\n",
    "            else:\n",
    "                flag=True\n",
    "                return flag\n",
    "x=int(input(\"Enter the number to Check it is prime or Not\"))\n",
    "check_prime(x)\n",
    "        \n",
    "        \n"
   ]
  },
  {
   "cell_type": "code",
   "execution_count": null,
   "id": "4be9c711-1173-4050-804c-b79882d7061a",
   "metadata": {},
   "outputs": [],
   "source": []
  },
  {
   "cell_type": "code",
   "execution_count": 6,
   "id": "8d8961b2-da2d-45e9-b6f2-f77a344f0729",
   "metadata": {},
   "outputs": [
    {
     "name": "stdout",
     "output_type": "stream",
     "text": [
      "Average is: 37.091\n",
      "Average is: 38.357\n"
     ]
    }
   ],
   "source": [
    "# Q22: Implementing Variable Length Argument in Python\n",
    "def average(*t):\n",
    "    avg=sum(t)/len(t)\n",
    "    return avg\n",
    "result1=average(32,5,7,65,34,22,44,56,78,53,12)\n",
    "result2=average(12,31,45,12,34,5,67,43,90,82,61,32,11,12)\n",
    "print(\"Average is:\",average(round(result1,3)))\n",
    "print(\"Average is:\",average(round(result2,3)))\n",
    "\n",
    "\n",
    "\n",
    "    "
   ]
  },
  {
   "cell_type": "code",
   "execution_count": 25,
   "id": "00110fba-3cc8-4f2f-a92a-65feb17a2d2b",
   "metadata": {},
   "outputs": [
    {
     "name": "stdout",
     "output_type": "stream",
     "text": [
      "{'a': 5, 'b': 10, 'c': 15}\n",
      "{'a': 5, 'b': 10}\n"
     ]
    }
   ],
   "source": [
    "# Q23 Creating instance Member Variable in python\n",
    "class Test:\n",
    "    def __init__(self):\n",
    "        # 1st instance Variable inside the init function\n",
    "        self.a=5\n",
    "    def f1(self):\n",
    "          # 2 instance Variable inside the f1 function\n",
    "        self.b=10\n",
    "t1=Test()\n",
    "t2=Test()\n",
    "t1.f1()\n",
    "t2.f1()\n",
    "t1.c=15 #3 instance Variable\n",
    "print(t1.__dict__)\n",
    "print(t2.__dict__)\n",
    "\n",
    "\n"
   ]
  },
  {
   "cell_type": "code",
   "execution_count": 18,
   "id": "367693b0-7a2a-4ce6-9e23-485b80acbd2f",
   "metadata": {},
   "outputs": [
    {
     "name": "stdout",
     "output_type": "stream",
     "text": [
      "9\n",
      "17\n"
     ]
    }
   ],
   "source": [
    "# Q24: Addition of a number using Lambda Function\n",
    "\n",
    "# lambda Function Add between Two Function\n",
    "x=lambda a,b:a+b\n",
    "y=x(4,5)\n",
    "print(y)\n",
    "#OR\n",
    "print((lambda a,b:a+b)(10,7))"
   ]
  },
  {
   "cell_type": "code",
   "execution_count": 19,
   "id": "f401ffd5-2781-4414-acae-053567ab1fba",
   "metadata": {},
   "outputs": [
    {
     "data": {
      "text/plain": [
       "5040"
      ]
     },
     "execution_count": 19,
     "metadata": {},
     "output_type": "execute_result"
    }
   ],
   "source": [
    "# Q25: Finding Fctorial using lambda fuction\n",
    "factorial=lambda n: 1 if n==0 else n*factorial(n-1)\n",
    "\n",
    "factorial(7)"
   ]
  },
  {
   "cell_type": "code",
   "execution_count": 22,
   "id": "70968765-0aed-444d-a8ae-90f381729c59",
   "metadata": {},
   "outputs": [
    {
     "name": "stdin",
     "output_type": "stream",
     "text": [
      "Enter the Number of factorial: -3\n"
     ]
    },
    {
     "name": "stdout",
     "output_type": "stream",
     "text": [
      "Sorry foctorial can not be a Negative Number\n"
     ]
    }
   ],
   "source": [
    "num=int(input(\"Enter the Number of factorial:\"))\n",
    "factorial=1\n",
    "if num<0:\n",
    "    print(\"Sorry foctorial can not be a Negative Number\")\n",
    "elif num==0:\n",
    "    print(\"Factorial of a number 0 is 1\")\n",
    "else:\n",
    "    for i in range(1,num+1):\n",
    "        factorial=factorial*i\n",
    "    print(f\"The Factotial  of a number is {num} and The Factorial is {factorial}\")"
   ]
  },
  {
   "cell_type": "code",
   "execution_count": 25,
   "id": "50c4805a-1376-475c-bccf-ee196a9ad8df",
   "metadata": {},
   "outputs": [
    {
     "name": "stdout",
     "output_type": "stream",
     "text": [
      "[2, 4, 6, 8, 10, 12, 14, 16, 18]\n",
      "[56, 62, 32, 76]\n"
     ]
    }
   ],
   "source": [
    "# Q26 List Compression\n",
    "#list of even number\n",
    "lst1=[2*e for e in range(1,10)]\n",
    "print(lst1)\n",
    "#create a list of even number of a given list\n",
    "list=[23,56,65,62,32,65,76,33,99]\n",
    "list2=[e for e in list if e%2==0]\n",
    "print(list2)\n",
    "'''\n",
    "list compression is a concise  Expessive way  to Create in python.\n",
    "It provide a more compact syntax for genarating a list compared to tradational loops \n",
    "\n",
    "'''"
   ]
  },
  {
   "cell_type": "code",
   "execution_count": 27,
   "id": "cf29b764-c5f8-4c4e-bb3d-4789baa794f3",
   "metadata": {},
   "outputs": [
    {
     "name": "stdout",
     "output_type": "stream",
     "text": [
      "['What', 'is', 'Right', 'in', 'your', 'mind', 'is', 'Right', 'in', 'your', 'World']\n",
      "['World', 'your', 'in', 'Right', 'is', 'mind', 'your', 'in', 'Right', 'is', 'What']\n",
      "What is Right in your mind is Right in your World\n"
     ]
    }
   ],
   "source": [
    "# Q27 what is use split and join function of str??\n",
    "s= \"What is Right in your mind is Right in your World\"\n",
    "s1=s.split(\" \")\n",
    "print(s1)\n",
    "s2=s1[::-1]\n",
    "print(s2)\n",
    "s3=\" \".join(s1)\n",
    "print(s3)"
   ]
  },
  {
   "cell_type": "code",
   "execution_count": 30,
   "id": "cd1fe362-7027-4346-b295-a87745196611",
   "metadata": {},
   "outputs": [
    {
     "name": "stdout",
     "output_type": "stream",
     "text": [
      "x=15 y=10\n",
      "15\n"
     ]
    }
   ],
   "source": [
    "# Q28 Gobal and Local Variable\n",
    "x=5 #global Variable\n",
    "def f1():\n",
    "    global x\n",
    "    x=15 #global variable is updated\n",
    "    y=10 # Local variable\n",
    "    #print(f\"x={x} y={y}\")\n",
    "    print(\"x=%d y=%d\"%(x,y))\n",
    "f1()\n",
    "print(x)\n",
    "    "
   ]
  },
  {
   "cell_type": "code",
   "execution_count": 32,
   "id": "39f46c26-77eb-4a2a-b7e3-6bd254a4042e",
   "metadata": {},
   "outputs": [
    {
     "name": "stdout",
     "output_type": "stream",
     "text": [
      "5\n",
      "local x=10 Global x=5\n"
     ]
    }
   ],
   "source": [
    "# Q29 Globals Function\n",
    "\n",
    "# Globals function returns dictionary\n",
    "# You can use the globals() function to access or modify global variables\n",
    "# within a function or code block.\n",
    "\n",
    "x=5 #global Variable\n",
    "def fun():\n",
    "    x=10 # local varialbe\n",
    "    d=globals() # d is dictionary\n",
    "    print(d['x']) # x is the key in Dictionary d which assign value in global Variable\n",
    "    \n",
    "    \n",
    "    \n",
    "    print(\"local x=%d Global x=%d\"%(x,d['x']))\n",
    "fun()\n",
    "    \n",
    "\n",
    "\n",
    "\n",
    "\n"
   ]
  },
  {
   "cell_type": "code",
   "execution_count": 35,
   "id": "9b6d3406-3485-4121-ae7c-399885af6d5b",
   "metadata": {},
   "outputs": [
    {
     "name": "stdout",
     "output_type": "stream",
     "text": [
      "1234\n",
      "124.33\n",
      "(3+4j)\n",
      "12\n",
      "True\n",
      "0b10100\n",
      "0o144\n",
      "0x64\n",
      "65\n",
      "H\n"
     ]
    }
   ],
   "source": [
    "# Q30 Type Conversion Basics\n",
    "x=int(\"1234\")\n",
    "a=float(\"124.33\")\n",
    "b=complex(\"3+4j\")\n",
    "c=str(12)\n",
    "d=bool('True')\n",
    "e=bin(20)#binary\n",
    "f=oct(100)\n",
    "g=hex(100) \n",
    "h=ord('A') #chr to unicode\n",
    "i=chr(72) # unicode to chr\n",
    "print(x,a,b,c,d,e,f,g,h,i,sep=\"\\n\")\n",
    "\n"
   ]
  },
  {
   "cell_type": "code",
   "execution_count": null,
   "id": "058f2535-0982-42d2-b489-c6f065bca5b7",
   "metadata": {},
   "outputs": [],
   "source": []
  }
 ],
 "metadata": {
  "kernelspec": {
   "display_name": "Python 3 (ipykernel)",
   "language": "python",
   "name": "python3"
  },
  "language_info": {
   "codemirror_mode": {
    "name": "ipython",
    "version": 3
   },
   "file_extension": ".py",
   "mimetype": "text/x-python",
   "name": "python",
   "nbconvert_exporter": "python",
   "pygments_lexer": "ipython3",
   "version": "3.13.5"
  }
 },
 "nbformat": 4,
 "nbformat_minor": 5
}
