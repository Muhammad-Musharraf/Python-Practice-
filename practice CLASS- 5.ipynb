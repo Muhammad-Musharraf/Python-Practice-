{
 "cells": [
  {
   "cell_type": "markdown",
   "id": "2801e650-416c-4e6b-8774-934f31f5ff1c",
   "metadata": {},
   "source": [
    "# OPERATION ON STRINGS"
   ]
  },
  {
   "cell_type": "code",
   "execution_count": 1,
   "id": "f0243b6b-39fd-4942-98b3-8540a5933523",
   "metadata": {},
   "outputs": [
    {
     "name": "stdout",
     "output_type": "stream",
     "text": [
      "A\n",
      "b\n",
      "d\n",
      "u\n",
      "l\n",
      " \n",
      "R\n",
      "e\n",
      "h\n",
      "m\n",
      "a\n",
      "n\n"
     ]
    }
   ],
   "source": [
    "# for loop on string\n",
    "name=\"Abdul Rehman\"\n",
    "for i in name:\n",
    "    print(i)"
   ]
  },
  {
   "cell_type": "code",
   "execution_count": 2,
   "id": "626e0a19-ecf7-4b7f-9e24-c27c3ac4828b",
   "metadata": {},
   "outputs": [
    {
     "name": "stdout",
     "output_type": "stream",
     "text": [
      "d\n",
      "u\n",
      "l\n",
      " \n",
      "R\n",
      "e\n",
      "h\n",
      "m\n",
      "a\n",
      "n\n"
     ]
    }
   ],
   "source": [
    "name=\"Abdul Rehman\"\n",
    "for i in name[2:]:\n",
    "    print(i)"
   ]
  },
  {
   "cell_type": "code",
   "execution_count": 4,
   "id": "ab91f50f-9038-4676-939c-aa7cf593dfd3",
   "metadata": {},
   "outputs": [
    {
     "name": "stdout",
     "output_type": "stream",
     "text": [
      "d\n",
      "l\n",
      "R\n",
      "h\n",
      "a\n"
     ]
    }
   ],
   "source": [
    "name=\"Abdul Rehman\"\n",
    "for i in name[2::2]:\n",
    "    print(i)"
   ]
  },
  {
   "cell_type": "code",
   "execution_count": 8,
   "id": "65f27212-6fd5-40e4-81ce-49ea3552ac19",
   "metadata": {},
   "outputs": [
    {
     "name": "stdout",
     "output_type": "stream",
     "text": [
      "A\n",
      "b\n",
      "d\n",
      "u\n",
      "l\n",
      " \n",
      "R\n",
      "e\n",
      "h\n",
      "m\n",
      "a\n",
      "n\n"
     ]
    }
   ],
   "source": [
    "name=\"Abdul Rehman\"\n",
    "i=0\n",
    "while i<len(name):\n",
    "    print(name[i])\n",
    "    i+=1"
   ]
  },
  {
   "cell_type": "code",
   "execution_count": 33,
   "id": "d561d4ad-c3d0-4c3c-9330-1da301bea36b",
   "metadata": {},
   "outputs": [
    {
     "name": "stdout",
     "output_type": "stream",
     "text": [
      "7\n",
      "r\n",
      "K\n",
      "['a', 'a', 'c', 'h', 'i', 'k', 'r']\n",
      "['5', '6', '7', '8']\n",
      "['8', '7', '6', '5', '4']\n",
      "Abdul rehman\n",
      "ABDUL REHMAN\n",
      "abdul rehman\n",
      "Abdul Rehman\n",
      "aBDUL rEHMAN\n",
      "1\n",
      "1\n",
      "0\n",
      "10\n",
      "9\n",
      "-1\n",
      "10\n",
      "9\n",
      "False\n",
      "True\n",
      "My name is Musharrraf and my age is 20 \n",
      "My name is 20 and my age is Musharrraf \n",
      "My name is Musharraf and my age is 20 \n",
      "True\n",
      "True\n",
      "True\n",
      "True\n",
      "['Abdul', 'Rehman']\n",
      "['Abdul Rehm', 'n']\n",
      "AbdulRehman\n",
      "Abdul-Rehman\n",
      "Abdul@Rehman\n",
      "Ali Rehman\n",
      "Abdul Rehman\n"
     ]
    }
   ],
   "source": [
    "# String Functions\n",
    "\n",
    "#len\n",
    "print(len(\"karachi\"))\n",
    "#max\n",
    "print(max(\"karachi\"))\n",
    "\n",
    "#min\n",
    "print(min(\"Karachi\"))\n",
    "\n",
    "#sort ----> Sort the values in list data type implicitly\n",
    "print(sorted(\"karachi\"))\n",
    "print(sorted(\"8765\"))\n",
    "print(sorted(\"87654\",reverse=True))\n",
    "\n",
    "string=\"Abdul Rehman\"\n",
    "#capitalize / upper / lower/ title / swapcase\n",
    "print(string.capitalize())\n",
    "print(string.upper())\n",
    "print(string.lower())\n",
    "print(string.title())\n",
    "print(string.swapcase())\n",
    "\n",
    "#count\n",
    "print(string.count(\"a\"))\n",
    "print(string.count(\"man\"))\n",
    "print(string.count(\"x\"))  # output(0) ----> if given string not present\n",
    "\n",
    "#find / index\n",
    "\n",
    "#find ---> give the position of the string\n",
    "print(string.find(\"a\"))\n",
    "print(string.find(\"man\"))\n",
    "print(string.find(\"x\"))  # output(-1) ---> if given string is not present\n",
    "\n",
    "#index ----> Return the output of index\n",
    "print(string.index(\"a\"))\n",
    "print(string.index(\"man\"))\n",
    "# print(string.index(\"x\")) Erorr\n",
    "\n",
    "# endswith / startswith\n",
    "\n",
    "print(string.startswith(\"a\"))\n",
    "\n",
    "print(string.endswith(\"man\"))\n",
    "\n",
    "#format\n",
    "print(\"My name is {} and my age is {} \".format(\"Musharrraf\",20))\n",
    "\n",
    "print(\"My name is {1} and my age is {0} \".format(\"Musharrraf\",20))#position based formation\n",
    "\n",
    "print(\"My name is {Name} and my age is {Age} \".format(Age=20,Name=\"Musharraf\"))  # variable based formation\n",
    "\n",
    "# isalpha / isdecimal / isdigit / isalnum\n",
    "print(\"Abdul\".isalpha())\n",
    "print(\"7f\".isalnum())\n",
    "print(\"1234\".isdecimal())\n",
    "print(\"200\".isdigit())\n",
    "\n",
    "#split\n",
    "print(string.split())\n",
    "\n",
    "print(string.split(\"a\"))\n",
    "\n",
    "\n",
    "\n",
    "#join\n",
    "print(\"\".join([\"Abdul\",\"Rehman\"]))\n",
    "print(\"-\".join([\"Abdul\",\"Rehman\"]))\n",
    "print(\"@\".join([\"Abdul\",\"Rehman\"]))\n",
    "\n",
    "\n",
    "#replace\n",
    "print(string.replace(\"Abdul\",\"Ali\"))\n",
    "\n",
    "#strip\n",
    "name = \"       Abdul Reham          \" \n",
    "print(string.strip()) \n",
    "\n",
    "\n",
    "\n"
   ]
  },
  {
   "cell_type": "markdown",
   "id": "743928dc-db8c-4cae-8a68-6e753f4b28e2",
   "metadata": {},
   "source": [
    "#Mutable & Immutable Data types:\n",
    "\n",
    "**Mutable**: Data types that can change, edit or delete\n",
    "\n",
    "1. list\n",
    "2. dict\n",
    "3. set\n",
    "   \n",
    "**Immutable**: Data types that can't change, edit or delete\n",
    "\n",
    "1. int\n",
    "2. float\n",
    "3. string (str)\n",
    "4. tuple"
   ]
  },
  {
   "cell_type": "markdown",
   "id": "31d30807-b76f-466b-8363-d9e7ced620a1",
   "metadata": {},
   "source": [
    "#List It is the data type in which you can store multiple types of data type values.\n",
    "\n",
    "List Vs Array\n",
    "\n",
    "1. Array is homogenous(must contain same data-type values) but list is hetrogenous(can contain different data-type values).\n",
    "2. Array store values on continuous memory location(store value one after one) but list store values on dis-continuous memory locations.\n",
    "3. Arrays are much faster than list because of the continuous value storation in memory.\n"
   ]
  },
  {
   "cell_type": "code",
   "execution_count": 34,
   "id": "1d315f52-a10d-4675-a3e8-6d470fa4e930",
   "metadata": {},
   "outputs": [
    {
     "name": "stdout",
     "output_type": "stream",
     "text": [
      "['asad', 'fawad', 'mehmmod', 'aleem', 'abdul rehman', 'ishaq', 'ameen', 'umer', 'ali']\n"
     ]
    }
   ],
   "source": [
    "# syntax:List[element1,element2,..........element n]\n",
    "students=[\"asad\",\"fawad\",\"mehmmod\",\"aleem\",\"abdul rehman\",\"ishaq\",\"ameen\",\"umer\",\"ali\"]\n",
    "#+ve index  0       1         2        3         4           5       6       7      8\n",
    "#-ve index -9      -8        -7       -6        -5          -4      -3      -2     -1\n",
    "\n",
    "\n",
    "print(students)\n"
   ]
  },
  {
   "cell_type": "markdown",
   "id": "989e552c-d5e7-4b6b-a564-7d9e6dcb79f8",
   "metadata": {},
   "source": [
    "# List"
   ]
  },
  {
   "cell_type": "markdown",
   "id": "4ded8f9d-c338-40be-ae0f-43bc080f945d",
   "metadata": {},
   "source": [
    "**Topics**\n",
    "* Create\n",
    "* Access\n",
    "* Edit\n",
    "* Add\n",
    "* Delete\n",
    "* Operations\n",
    "* Functions"
   ]
  },
  {
   "cell_type": "code",
   "execution_count": 43,
   "id": "5341dbce-0707-426d-a473-7b6e06b97155",
   "metadata": {},
   "outputs": [
    {
     "name": "stdout",
     "output_type": "stream",
     "text": [
      "[] [1, 2, 3, 4, 5, 6] ['Ali', 1, 2, 3, 4, 5, True, False, (4+6j)]\n",
      "[1, 2, 3, 4, 5, [6, 7, 8, 9, [10, 11, 12, 13, 14, 15]]] [] ['A', 'b', 'd', 'u', 'l', 'l', 'a', 'h']\n"
     ]
    }
   ],
   "source": [
    "# Create List\n",
    "a=[]\n",
    "b=[1,2,3,4,5,6]\n",
    "c=[\"Ali\",1,2,3,4,5,True, False,(4+6j)]\n",
    "#multidimensional list\n",
    "\n",
    "d=[1,2,3,4,5,[6,7,8,9]] #2d\n",
    "e = [1,2,3,4,5,[6,7,8,9,[10,11,12,13,14,15]]] #3d\n",
    "\n",
    "#List with type conversion\n",
    "f=list()\n",
    "g=list(\"Abdullah\")\n",
    "\n",
    "print(a,b,c,end=\"\\n\")\n",
    "print(e,f,g)\n",
    "\n",
    "\n"
   ]
  },
  {
   "cell_type": "code",
   "execution_count": 59,
   "id": "0d7ef393-f7cd-4116-936d-5747150017df",
   "metadata": {},
   "outputs": [
    {
     "name": "stdout",
     "output_type": "stream",
     "text": [
      "1\n",
      "2\n",
      "6\n",
      "4\n",
      "[1, 2, 3, 4, 5, 6]\n",
      "[1, 2, 3, 4, 5, 6]\n",
      "[2, 3, 4]\n",
      "[1, 3, 5]\n",
      "[6, 5, 4, 3, 2, 1]\n",
      "[3, 4]\n",
      "4\n",
      "6\n"
     ]
    }
   ],
   "source": [
    "#Access (Inexing & Slicing) ----> same as string\n",
    "l=[1,2,3,4,5,6]\n",
    "#indexing\n",
    "print(l[0])\n",
    "print(l[1])\n",
    "print(l[-1])\n",
    "print(l[-3])\n",
    "\n",
    "#slicing\n",
    "print(l[0:6])\n",
    "print(l[:])\n",
    "print(l[-5:-2])\n",
    "print(l[::2])\n",
    "print(l[::-1])\n",
    "print(l[-4:-2])\n",
    "\n",
    "#Mlutidimensional list\n",
    "x=[1,2,3,[4,5,6,7]]\n",
    "print(x[3][0])\n",
    "print(x[3][2])\n"
   ]
  },
  {
   "cell_type": "code",
   "execution_count": 63,
   "id": "889156eb-98ae-4975-b130-6ddd6ba9848b",
   "metadata": {},
   "outputs": [
    {
     "name": "stdout",
     "output_type": "stream",
     "text": [
      "[0, 2, 3, 4, 5, 6, 7, 8, 9]\n",
      "[0, 2, 3, 4, 5, 6, 7, 8, 100]\n",
      "[0, 2, 100, 200, 300, 400, 7, 8, 100]\n",
      "[0, 2, 100, 200, 10, 20, 30, 40, 8, 100]\n"
     ]
    }
   ],
   "source": [
    "#Edit list items ---> list is mutable in python (can edit the items of list)\n",
    "l=[1,2,3,4,5,6,7,8,9]\n",
    "#editing with indexing\n",
    "l[0]=0\n",
    "print(l)\n",
    "l[-1]=100\n",
    "print(l)\n",
    "#editing with slicing\n",
    "l[2:6]=[100,200,300,400]\n",
    "print(l)\n",
    "l[-5:-2]=[10,20,30,40]\n",
    "print(l)\n",
    "\n"
   ]
  },
  {
   "cell_type": "code",
   "execution_count": 67,
   "id": "b372f377-d5bb-4bfb-994b-f11053a64176",
   "metadata": {},
   "outputs": [
    {
     "name": "stdout",
     "output_type": "stream",
     "text": [
      "[1, 2, 3, 4, 5, 6, 7, 8, 9, 1000]\n",
      "[1, 2, 3, 4, 5, 6, 7, 8, 9, 1000, 'Musharraf']\n",
      "[1, 2, 3, 4, 5, 6, 7, 8, 9, 1000, 'Musharraf', 'hello', 'World', 123, True]\n",
      "[1, 2, 'Saleem', 3, 4, 5, 6, 7, 8, 9, 1000, 'Musharraf', 'hello', 'World', 123, True]\n"
     ]
    }
   ],
   "source": [
    "# Add items in list ----> Methods(append, extend, insert)\n",
    "\n",
    "l=[1,2,3,4,5,6,7,8,9]\n",
    "#append ---> add item in the last of the list\n",
    "l.append(1000)\n",
    "print(l)\n",
    "# entend\n",
    "#extend ---> can add one or more than one items in the last of the list\n",
    "\n",
    "l.extend([\"Musharraf\"])\n",
    "print(l)\n",
    "l.extend([\"hello\",\"World\",123,True])\n",
    "print(l)\n",
    "#insert ----> add the item in the list as your given index\n",
    "l.insert(2,\"Saleem\")\n",
    "print(l)\n",
    "\n"
   ]
  },
  {
   "cell_type": "code",
   "execution_count": 76,
   "id": "368a6c39-0d56-4037-bc87-42b8553ece6e",
   "metadata": {},
   "outputs": [
    {
     "name": "stdout",
     "output_type": "stream",
     "text": [
      "[20, 30, 40, 50, 60, 70, 80, 90, 100, 110, 120, 130, 140, 150]\n",
      "[20, 30, 40, 50, 60, 70, 80, 90, 100, 110, 120, 130, 140]\n",
      "[60, 70, 80, 90, 100, 110, 120, 130, 140]\n",
      "[60, 70, 80, 90, 130, 140]\n",
      "[60, 70, 80, 130, 140]\n",
      "[60, 70, 80, 130]\n",
      "[]\n"
     ]
    }
   ],
   "source": [
    "# Delete items from list ---> Methods(del, remove, pop, clear)\n",
    "\n",
    "l1=[10,20,30,40,50,60,70,80,90,100,110,120,130,140,150]\n",
    "#del ---> can delete the whole list or specific list item or specific list portion using indexing & slicing method\n",
    "# through indexing\n",
    "del(l1[0])\n",
    "print(l1)\n",
    "del(l1[-1])\n",
    "print(l1)\n",
    "# through sclicing\n",
    "del(l1[0:4])\n",
    "print(l1)\n",
    "del(l1[-5:-2])\n",
    "print(l1)\n",
    "\n",
    "#delete whole list\n",
    "# del l1\n",
    "# print(l1)\n",
    "\n",
    "#remove ----> delete the item through the actual item name\n",
    "l1.remove(90)\n",
    "print(l1)\n",
    "\n",
    "#pop ----> delete last item of the list\n",
    "\n",
    "l1.pop()\n",
    "print(l1)\n",
    "#clear ----> delete all items of the list\n",
    "l1.clear()\n",
    "print(l1)"
   ]
  },
  {
   "cell_type": "code",
   "execution_count": 80,
   "id": "d291bb23-06ed-4990-a59f-8b556efd5bd8",
   "metadata": {},
   "outputs": [
    {
     "name": "stdout",
     "output_type": "stream",
     "text": [
      "[1, 2, 3, 4, 5, 6]\n",
      "[1, 2, 3, 1, 2, 3, 1, 2, 3]\n",
      "True\n",
      "False\n",
      "True\n",
      "1\n",
      "2\n",
      "3\n",
      "4\n",
      "5\n",
      "[6, 7, 8]\n",
      "asad\n",
      "ali\n",
      "ameen\n",
      "muneeb\n",
      "rashid\n",
      "rasheed\n"
     ]
    }
   ],
   "source": [
    "# Operations with list\n",
    "#add ---> concatination\n",
    "l1=[1,2,3]\n",
    "l2=[4,5,6]\n",
    "print(l1+l2)\n",
    "\n",
    "#multiplication\n",
    "print(l1*3)\n",
    "\n",
    "\n",
    "#membership operator\n",
    "print(3 in l1)\n",
    "print(4 in l1)\n",
    "print(4 not in l1)\n",
    "\n",
    "#for loop\n",
    "l3=[1,2,3,4,5,[6,7,8]]\n",
    "for i in l3:\n",
    "    print(i)\n",
    "\n",
    "name=['asad','ali','ameen','muneeb','rashid','rasheed']\n",
    "for i in name:\n",
    "    print(i)\n"
   ]
  },
  {
   "cell_type": "code",
   "execution_count": 82,
   "id": "551ac51a-1d52-4159-accc-891785b65f6e",
   "metadata": {},
   "outputs": [
    {
     "name": "stdout",
     "output_type": "stream",
     "text": [
      "[2, 4, 6, 8, 10, 12, 14, 16, 18, 20, 22, 24, 26, 28, 30, 32, 34, 36, 38, 40, 42, 44, 46, 48]\n",
      "[1, 3, 5, 7, 9, 11, 13, 15, 17, 19, 21, 23, 25, 27, 29, 31, 33, 35, 37, 39, 41, 43, 45, 47, 49]\n"
     ]
    }
   ],
   "source": [
    "#loop with list\n",
    "even=[]\n",
    "odd=[]\n",
    "for i in range(1,50):\n",
    "    if i%2==0:\n",
    "        even.append(i)\n",
    "\n",
    "    if i%2!=0:\n",
    "        odd.append(i)\n",
    "\n",
    "print(even)\n",
    "print(odd)"
   ]
  },
  {
   "cell_type": "code",
   "execution_count": 83,
   "id": "ad2834d2-28c7-40f4-9154-368963140327",
   "metadata": {},
   "outputs": [
    {
     "name": "stdout",
     "output_type": "stream",
     "text": [
      "[2, 4, 6, 8, 12, 14, 16, 18, 22, 24, 26, 28, 32, 34, 36, 38, 42, 44, 46, 48]\n",
      "[1, 3, 7, 9, 11, 13, 17, 19, 21, 23, 27, 29, 31, 33, 37, 39, 41, 43, 47, 49]\n"
     ]
    }
   ],
   "source": [
    "#loop with list and nested coditions\n",
    "even=[]\n",
    "odd=[]\n",
    "for i in range(1,50):\n",
    "    if i%2==0:\n",
    "        if i%5!=0:\n",
    "            even.append(i)\n",
    "\n",
    "    if i%2!=0:\n",
    "         if i%5!=0:\n",
    "             odd.append(i)\n",
    "\n",
    "print(even)\n",
    "print(odd)"
   ]
  },
  {
   "cell_type": "code",
   "execution_count": 84,
   "id": "cdbbda49-0d2a-4002-afe1-9552b5a7dcd3",
   "metadata": {},
   "outputs": [
    {
     "name": "stdout",
     "output_type": "stream",
     "text": [
      "Thanks for coming asad\n",
      "Thanks for coming hammad\n",
      "Thanks for coming ali\n",
      "Thanks for coming bilal\n",
      "Thanks for coming abdul rehman\n",
      "Thanks for coming usman\n",
      "Thanks for coming ameen\n"
     ]
    }
   ],
   "source": [
    "#Iterating over a list using for loop\n",
    "list1=['asad','hammad','ali','bilal','abdul rehman','usman','ameen']\n",
    "for i in list1:\n",
    "    print(f\"Thanks for coming\",i)"
   ]
  },
  {
   "cell_type": "code",
   "execution_count": 85,
   "id": "b97977bc-6d5e-4838-a28a-ad6d76c07316",
   "metadata": {},
   "outputs": [
    {
     "name": "stdin",
     "output_type": "stream",
     "text": [
      "Enter the guess name Musharrf\n",
      "Enter the guess name saleem\n",
      "Enter the guess name asad\n",
      "Enter the guess name ali\n",
      "Enter the guess name ss\n",
      "Enter the guess name sam\n",
      "Enter the guess name bari\n",
      "Enter the guess name shubhan\n",
      "Enter the guess name sani\n",
      "Enter the guess name sami\n"
     ]
    },
    {
     "name": "stdout",
     "output_type": "stream",
     "text": [
      "['Musharrf', 'saleem', 'ali', 'ss', 'sam', 'bari', 'shubhan', 'sani', 'sami']\n"
     ]
    }
   ],
   "source": [
    "#list using for loop, condition and continue statement\n",
    "guest_list=[]\n",
    "for i in range(10):\n",
    "    guestname=input(\"Enter the guess name\")\n",
    "    if guestname==\"asad\":\n",
    "        continue\n",
    "    else:\n",
    "        guest_list.append(guestname)\n",
    "\n",
    "print(guest_list)"
   ]
  },
  {
   "cell_type": "code",
   "execution_count": 88,
   "id": "f845a04b-8b6a-494d-bc8a-16a5a5a68cb0",
   "metadata": {},
   "outputs": [
    {
     "name": "stdout",
     "output_type": "stream",
     "text": [
      "10\n",
      "1\n",
      "11\n",
      "[1, 2, 3, 4, 5, 6, 7, 8, 10, 11]\n",
      "[11, 10, 8, 7, 6, 5, 4, 3, 2, 1]\n",
      "8\n"
     ]
    }
   ],
   "source": [
    "#functions on list\n",
    "l=[1,2,4,5,7,8,6,10,11,3]\n",
    "print(len(l))\n",
    "\n",
    "print(min(l))\n",
    "\n",
    "\n",
    "print(max(l))\n",
    "\n",
    "print(sorted(l))\n",
    "print(sorted(l,reverse=True))\n",
    "\n",
    "#index -----> return the index of the value\n",
    "print(l.index(11))"
   ]
  },
  {
   "cell_type": "markdown",
   "id": "357eb6f3-85fb-4572-bffa-b40edd8e4682",
   "metadata": {},
   "source": [
    "# TASK-1"
   ]
  },
  {
   "cell_type": "code",
   "execution_count": 1,
   "id": "8f9fc1d6-20e6-4dff-b07f-8261f70f7346",
   "metadata": {},
   "outputs": [
    {
     "name": "stdout",
     "output_type": "stream",
     "text": [
      "Hello How Are You\n"
     ]
    }
   ],
   "source": [
    "# convert the string into capital without using title\n",
    "string=\"hello how are you\"\n",
    "lst=[]\n",
    "for i in string.split():\n",
    "    lst.append(i.capitalize())\n",
    "\n",
    "    \n",
    "string=\" \".join(lst)\n",
    "print(string)"
   ]
  },
  {
   "cell_type": "markdown",
   "id": "18acb60e-eaa1-46bc-9a52-33c1c85f33bb",
   "metadata": {},
   "source": [
    "# TASK-2"
   ]
  },
  {
   "cell_type": "code",
   "execution_count": 1,
   "id": "56cc3260-6768-42bd-8f8a-388f8ea7d8b3",
   "metadata": {},
   "outputs": [
    {
     "name": "stdout",
     "output_type": "stream",
     "text": [
      "abc\n"
     ]
    }
   ],
   "source": [
    "# Extract the exact e-mail part from the given e-mail\n",
    "email=\"abc@gmail.com\"\n",
    "email_part=email[:email.find(\"@\")]\n",
    "print(email_part)"
   ]
  },
  {
   "cell_type": "markdown",
   "id": "f318195f-fc63-475d-9bd4-11e28856fc5d",
   "metadata": {},
   "source": [
    "# TASK-3"
   ]
  },
  {
   "cell_type": "code",
   "execution_count": 3,
   "id": "bc9bdf6b-392a-429f-8dde-a505145e31d1",
   "metadata": {},
   "outputs": [
    {
     "name": "stdout",
     "output_type": "stream",
     "text": [
      "[1, 2, 4, 3, 6, 5, 8, 0, 7]\n"
     ]
    }
   ],
   "source": [
    "# Remove the dublicate items without using dublicate\n",
    "lst1=[1,2,4,3,3,6,5,5,8,2,1,0,7,8,6,7]\n",
    "lst2=[]\n",
    "for i in lst1:\n",
    "    #print(i)\n",
    "    if i not in lst2:\n",
    "        lst2.append(i)\n",
    "print(lst2)       "
   ]
  },
  {
   "cell_type": "markdown",
   "id": "d41f28ec-56ab-4ed2-87ed-c7d494b0776f",
   "metadata": {},
   "source": [
    "# Tuple"
   ]
  },
  {
   "cell_type": "code",
   "execution_count": 5,
   "id": "a1b6aeaa-04b0-4e26-82d7-7a5490336336",
   "metadata": {},
   "outputs": [
    {
     "name": "stdout",
     "output_type": "stream",
     "text": [
      "('asad', 'fawad', 'mehmmod', 'aleem', 'abdul rehman', 'ishaq', 'ameen', 'umer', 'ali')\n",
      "<class 'tuple'>\n"
     ]
    }
   ],
   "source": [
    "# Syntax\n",
    "\n",
    "# syntax:Tuple(element1,element2,..........element n)\n",
    "students=(\"asad\",\"fawad\",\"mehmmod\",\"aleem\",\"abdul rehman\",\"ishaq\",\"ameen\",\"umer\",\"ali\")\n",
    "#+ve index  0       1         2        3         4           5       6       7      8\n",
    "#-ve index -9      -8        -7       -6        -5          -4      -3      -2     -1\n",
    "\n",
    "\n",
    "print(students)\n",
    "print(type(students))\n"
   ]
  },
  {
   "cell_type": "markdown",
   "id": "51f78c67-5c19-40c7-b1e9-23957d45d669",
   "metadata": {},
   "source": [
    "#### List Vs Tuple\n",
    "\n",
    "1. Syntax difference\n",
    "2. Can't make tuple with one element\n",
    "3. List is mutable while Tuple is immutable\n",
    "4. List is the both read & write data type but Tuple is read only data type\n",
    "4. Can add, edit, delete elements in list but can't in tuples"
   ]
  },
  {
   "cell_type": "markdown",
   "id": "02640bd1-42f3-47dd-8bf8-e2ab957ae4ca",
   "metadata": {},
   "source": [
    "#### Topics\n",
    "\n",
    "\n",
    "*   Create\n",
    "*   Access\n",
    "*   Edit\n",
    "*   Add\n",
    "*   Delete\n",
    "*   Operations\n",
    "*   **Functions**"
   ]
  },
  {
   "cell_type": "code",
   "execution_count": 17,
   "id": "eca71ea5-410a-4e89-b091-cd57cfbda488",
   "metadata": {},
   "outputs": [
    {
     "name": "stdout",
     "output_type": "stream",
     "text": [
      "() (1, 2, 3, 4, 5, 6) ('Ali', True, 1, 2, 3, 4, 4.66, (5+6j))\n",
      "(1, 2, 3, 4, (5, 6, 7, 8)) (1, 2, 3, (4, 5, 6, (7, 8, 9)))\n",
      "('A', 'l', 'i', 'y', 'a', 'n') ('1',)\n",
      "()\n"
     ]
    }
   ],
   "source": [
    "#Create tuple\n",
    "t1=()\n",
    "t2=(1,2,3,4,5,6)\n",
    "t3=(\"Ali\",True,1,2,3,4,4.66,(5+6j))\n",
    "\n",
    "#Multidimensional tuple\n",
    "t4=(1,2,3,4,(5,6,7,8)) #2D\n",
    "t5=(1,2,3,(4,5,6,(7,8,9))) #3D\n",
    "print(t1,t2,t3)\n",
    "print(t4,t5)\n",
    "\n",
    "#tuple with type conversion\n",
    "t8=tuple()\n",
    "t6=tuple(\"Aliyan\")\n",
    "t7=tuple(\"1\")\n",
    "print(t6,t7)\n",
    "print(t8)"
   ]
  },
  {
   "cell_type": "code",
   "execution_count": 19,
   "id": "f61db303-dfc5-40c0-be90-850570928108",
   "metadata": {},
   "outputs": [
    {
     "name": "stdout",
     "output_type": "stream",
     "text": [
      "1\n",
      "<class 'int'>\n",
      "Hello\n",
      "<class 'str'>\n"
     ]
    }
   ],
   "source": [
    "a=(1)\n",
    "print(a)\n",
    "print(type(a))\n",
    "\n",
    "b=(\"Hello\")\n",
    "print(b)\n",
    "print(type(b))"
   ]
  },
  {
   "cell_type": "code",
   "execution_count": 20,
   "id": "862f87d6-23a6-441c-83ac-28e3782560df",
   "metadata": {},
   "outputs": [
    {
     "name": "stdout",
     "output_type": "stream",
     "text": [
      "(1,)\n",
      "<class 'tuple'>\n",
      "('Hello',)\n",
      "<class 'tuple'>\n"
     ]
    }
   ],
   "source": [
    "a=(1,)\n",
    "print(a)\n",
    "print(type(a))\n",
    "\n",
    "b=(\"Hello\",)\n",
    "print(b)\n",
    "print(type(b))"
   ]
  },
  {
   "cell_type": "code",
   "execution_count": 32,
   "id": "fd614bce-80b6-4473-9ea4-5f5b53f0e0cb",
   "metadata": {},
   "outputs": [
    {
     "name": "stdout",
     "output_type": "stream",
     "text": [
      "1\n",
      "6\n",
      "4\n",
      "3\n",
      "(1, 2, 3, 4)\n",
      "(1, 3)\n",
      "(1, 2, 3, 4, 5, 6)\n",
      "(3, 4, 5)\n",
      "(6, 5, 4, 3, 2, 1)\n",
      "(1, 3, 5)\n",
      "5\n",
      "6\n",
      "4\n",
      "(4, 5)\n",
      "(4, 5)\n",
      "6\n"
     ]
    }
   ],
   "source": [
    "#Access (Inexing & Slicing) ----> Similar with list\n",
    "t=(1,2,3,4,5,6)\n",
    "\n",
    "#indexing\n",
    "print(t[0])\n",
    "print(t[-1])\n",
    "print(t[3])\n",
    "print(t[-4])\n",
    "\n",
    "#sciling\n",
    "print(t[0:4])\n",
    "print(t[0:4:2])\n",
    "\n",
    "print(t[:])\n",
    "print(t[-4:-1])\n",
    "print(t[::-1])\n",
    "print(t[::2])\n",
    "\n",
    "x=(1,2,3,(4,5,6))\n",
    "print(x[3][1])\n",
    "print(x[3][-1])\n",
    "print(x[3][-3])\n",
    "\n",
    "\n",
    "\n",
    "\n",
    "\n",
    "\n"
   ]
  },
  {
   "cell_type": "code",
   "execution_count": 33,
   "id": "657cbeb9-7c16-4203-88ce-45d148c5fc2d",
   "metadata": {},
   "outputs": [
    {
     "ename": "TypeError",
     "evalue": "'tuple' object does not support item assignment",
     "output_type": "error",
     "traceback": [
      "\u001b[1;31m---------------------------------------------------------------------------\u001b[0m",
      "\u001b[1;31mTypeError\u001b[0m                                 Traceback (most recent call last)",
      "Cell \u001b[1;32mIn[33], line 3\u001b[0m\n\u001b[0;32m      1\u001b[0m \u001b[38;5;66;03m#Edit list items ---> tuple is immutable in python like string (can edit the existing items of tuple)\u001b[39;00m\n\u001b[0;32m      2\u001b[0m t\u001b[38;5;241m=\u001b[39m(\u001b[38;5;241m1\u001b[39m,\u001b[38;5;241m2\u001b[39m,\u001b[38;5;241m4\u001b[39m,\u001b[38;5;241m5\u001b[39m,\u001b[38;5;241m6\u001b[39m)\n\u001b[1;32m----> 3\u001b[0m t[\u001b[38;5;241m0\u001b[39m]\u001b[38;5;241m=\u001b[39m\u001b[38;5;241m100\u001b[39m\n\u001b[0;32m      4\u001b[0m \u001b[38;5;28mprint\u001b[39m(t)\n",
      "\u001b[1;31mTypeError\u001b[0m: 'tuple' object does not support item assignment"
     ]
    }
   ],
   "source": [
    " #Edit list items ---> tuple is immutable in python like string (can edit the existing items of tuple)\n",
    "t=(1,2,4,5,6)\n",
    "t[0]=100\n",
    "print(t)"
   ]
  },
  {
   "cell_type": "code",
   "execution_count": 34,
   "id": "a8d94e19-7404-454e-9256-ce71ade953bc",
   "metadata": {},
   "outputs": [],
   "source": [
    "# Add ----> Can't add elements to tuples because of immputable (can't edit the existing items of tuple)"
   ]
  },
  {
   "cell_type": "code",
   "execution_count": 39,
   "id": "fed5bafb-fe00-4406-aeec-14acc57858b6",
   "metadata": {},
   "outputs": [
    {
     "ename": "TypeError",
     "evalue": "'tuple' object doesn't support item deletion",
     "output_type": "error",
     "traceback": [
      "\u001b[1;31m---------------------------------------------------------------------------\u001b[0m",
      "\u001b[1;31mTypeError\u001b[0m                                 Traceback (most recent call last)",
      "Cell \u001b[1;32mIn[39], line 10\u001b[0m\n\u001b[0;32m      5\u001b[0m \u001b[38;5;66;03m#print(t)\u001b[39;00m\n\u001b[0;32m      6\u001b[0m \n\u001b[0;32m      7\u001b[0m \n\u001b[0;32m      8\u001b[0m \u001b[38;5;66;03m# Delete an element from the tuple -----> not possible because of immputable (can't edit the existing items of tuple)\u001b[39;00m\n\u001b[0;32m      9\u001b[0m t1\u001b[38;5;241m=\u001b[39m(\u001b[38;5;241m1\u001b[39m,\u001b[38;5;241m2\u001b[39m,\u001b[38;5;241m4\u001b[39m,\u001b[38;5;241m5\u001b[39m,\u001b[38;5;241m6\u001b[39m,\u001b[38;5;241m7\u001b[39m)\n\u001b[1;32m---> 10\u001b[0m \u001b[38;5;28;01mdel\u001b[39;00m t1[\u001b[38;5;241m3\u001b[39m]\n\u001b[0;32m     11\u001b[0m \u001b[38;5;28mprint\u001b[39m(t1)\n",
      "\u001b[1;31mTypeError\u001b[0m: 'tuple' object doesn't support item deletion"
     ]
    }
   ],
   "source": [
    "#Delete tuple\n",
    "t=(1,2,4,5,6)\n",
    "# delete the entire tuple\n",
    "del t\n",
    "#print(t)\n",
    "\n",
    "\n",
    "# Delete an element from the tuple -----> not possible because of immputable (can't edit the existing items of tuple)\n",
    "t1=(1,2,4,5,6,7)\n",
    "del t1[3]\n",
    "print(t1)\n",
    "\n",
    "\n",
    "\n",
    "\n",
    "\n",
    "\n",
    "\n",
    "\n"
   ]
  },
  {
   "cell_type": "code",
   "execution_count": 41,
   "id": "c666460e-b2c7-435f-822d-4a93f9b4657b",
   "metadata": {},
   "outputs": [
    {
     "name": "stdout",
     "output_type": "stream",
     "text": [
      "(1, 2, 3, 4, 5, 6)\n",
      "(1, 2, 3, 1, 2, 3, 1, 2, 3)\n",
      "True\n",
      "True\n",
      "1\n",
      "2\n",
      "3\n",
      "4\n",
      "(5, 6, 7, 8)\n",
      "asad\n",
      "ali\n",
      "ameen\n",
      "muneeb\n",
      "rashid\n",
      "rasheed\n"
     ]
    }
   ],
   "source": [
    "#operations with tuple ----> similar to list\n",
    "\n",
    "#add ---> concatination\n",
    "t1=(1,2,3)\n",
    "t2=(4,5,6)\n",
    "print(t1+t2)\n",
    "\n",
    "#multiplication\n",
    "print(t1*3)\n",
    "\n",
    "#membership operator\n",
    "print(3 in t1)\n",
    "print(4 not in t1)\n",
    "\n",
    "#for loop\n",
    "z=(1,2,3,4,(5,6,7,8))\n",
    "for i in z:\n",
    "    print(i)\n",
    "\n",
    "name=('asad','ali','ameen','muneeb','rashid','rasheed')\n",
    "for i in name:\n",
    "    print(i)\n",
    "\n"
   ]
  },
  {
   "cell_type": "code",
   "execution_count": 46,
   "id": "baebcb14-20ce-4c3b-bf6f-08ec121f232a",
   "metadata": {},
   "outputs": [
    {
     "name": "stdout",
     "output_type": "stream",
     "text": [
      "12\n",
      "1\n",
      "15\n",
      "[1, 2, 3, 4, 5, 6, 7, 8, 9, 10, 11, 15]\n",
      "[15, 11, 10, 9, 8, 7, 6, 5, 4, 3, 2, 1]\n",
      "81\n",
      "3\n"
     ]
    }
   ],
   "source": [
    "#Functions of Tuple ----> similar to list\n",
    "t=(1,2,3,4,5,7,8,9,6,10,11,15)\n",
    "print(len(t))\n",
    "\n",
    "print(min(t))\n",
    "print(max(t))\n",
    "print(sorted(t))\n",
    "print(sorted(t,reverse=True))\n",
    "\n",
    "print(sum(t))\n",
    "\n",
    "print(t.index(4))\n",
    "\n"
   ]
  },
  {
   "cell_type": "markdown",
   "id": "3843837f-db78-4697-bde2-c1eddca47051",
   "metadata": {},
   "source": [
    "# Sets"
   ]
  },
  {
   "cell_type": "code",
   "execution_count": 52,
   "id": "b552b484-bd84-439f-bdea-45e6d0abccf3",
   "metadata": {},
   "outputs": [
    {
     "name": "stdout",
     "output_type": "stream",
     "text": [
      "{1, 2, 3, 4, 5, 6}\n",
      "<class 'set'>\n"
     ]
    }
   ],
   "source": [
    "#syntax: # syntax:set{element1,element2,..........element n}\n",
    "s={1,2,3,4,5,6}\n",
    "print(s)\n",
    "print(type(s))"
   ]
  },
  {
   "cell_type": "markdown",
   "id": "b228fdb8-6449-4285-ae93-42637818dc79",
   "metadata": {},
   "source": [
    "## Sets Rules\n",
    "\n",
    "\n",
    "\n",
    "1.  Sets do not allow duplicates\n",
    "2.  Sets do not allow indexing & slicing\n",
    "4.  Sets itself is a mutable data type  \n",
    "3.  Sets do not allow mutable data types in the elements\n",
    "5.  Sets are un-ordered data type\n",
    "\n",
    "\n",
    "\n",
    "####Topics\n",
    "\n",
    "*   Create\n",
    "*   Access\n",
    "*   Edit\n",
    "*   Add\n",
    "*   Delete\n",
    "*   Operations\n",
    "*   Functions\n",
    "\n"
   ]
  },
  {
   "cell_type": "code",
   "execution_count": 56,
   "id": "7a325e46-59f7-4f4b-ac55-be6daf6a7973",
   "metadata": {},
   "outputs": [
    {
     "name": "stdout",
     "output_type": "stream",
     "text": [
      "{}\n",
      "<class 'dict'>\n",
      "{1}\n",
      "<class 'set'>\n",
      "{1, 2, 3, 4, 5, 6}\n",
      "{False, True, 2, 3, 4.888, 4, (5+6j), 'Ali'}\n",
      "set()\n",
      "{'A', 'u', 'b', 'a', 'h', 'd', 'l'}\n"
     ]
    }
   ],
   "source": [
    "# Create Sets\n",
    "s={}# this will make dictionary , not set because python make dictionary as implicit type conversion.\n",
    "print(s)\n",
    "print(type(s))\n",
    "\n",
    "s1={1,} # add comma after one variable can make it dictionary\n",
    "print(s1)\n",
    "print(type(s1))\n",
    "\n",
    "s2={1,2,3,4,5,6}\n",
    "s3={\"Ali\",True,4.888,(5+6j),1,2,3,4,False}\n",
    "print(s2)\n",
    "\n",
    "print(s3)\n",
    "\n",
    "s4=set()\n",
    "s5=set(\"Abdullah\")\n",
    "print(s4)\n",
    "print(s5)\n"
   ]
  },
  {
   "cell_type": "code",
   "execution_count": 57,
   "id": "ca6fec01-dfd5-4378-9f06-22386ed584da",
   "metadata": {},
   "outputs": [
    {
     "ename": "TypeError",
     "evalue": "unhashable type: 'set'",
     "output_type": "error",
     "traceback": [
      "\u001b[1;31m---------------------------------------------------------------------------\u001b[0m",
      "\u001b[1;31mTypeError\u001b[0m                                 Traceback (most recent call last)",
      "Cell \u001b[1;32mIn[57], line 2\u001b[0m\n\u001b[0;32m      1\u001b[0m \u001b[38;5;66;03m#multidimensional set  -----> Rule 4. Set don't allow mutable datatypes, so set also do not allow itself as a mutale datatype in itself\u001b[39;00m\n\u001b[1;32m----> 2\u001b[0m s6\u001b[38;5;241m=\u001b[39m{\u001b[38;5;241m1\u001b[39m,\u001b[38;5;241m2\u001b[39m,\u001b[38;5;241m3\u001b[39m,\u001b[38;5;241m4\u001b[39m,{\u001b[38;5;241m5\u001b[39m,\u001b[38;5;241m6\u001b[39m,\u001b[38;5;241m7\u001b[39m,\u001b[38;5;241m8\u001b[39m}}\n\u001b[0;32m      3\u001b[0m \u001b[38;5;28mprint\u001b[39m(s6)\n",
      "\u001b[1;31mTypeError\u001b[0m: unhashable type: 'set'"
     ]
    }
   ],
   "source": [
    "#multidimensional set  -----> Rule 4. Set don't allow mutable datatypes, so set also do not allow itself as a mutale datatype in itself\n",
    "s6={1,2,3,4,{5,6,7,8}}\n",
    "print(s6)\n"
   ]
  },
  {
   "cell_type": "code",
   "execution_count": 58,
   "id": "523ad0b6-2784-4b03-b24d-60ce5fe147d8",
   "metadata": {},
   "outputs": [
    {
     "name": "stdout",
     "output_type": "stream",
     "text": [
      "{1, 2, 3, 4, 5, 6, 7, 8}\n"
     ]
    }
   ],
   "source": [
    "# Duplicate ----> Rule 1. Set not allow duplicates in itself\n",
    "s8={1,2,2,3,4,4,5,6,7,8,8}\n",
    "print(s8)"
   ]
  },
  {
   "cell_type": "code",
   "execution_count": 59,
   "id": "e618915d-9ce3-46c5-a9d6-d4b34ce32c0f",
   "metadata": {},
   "outputs": [
    {
     "name": "stdout",
     "output_type": "stream",
     "text": [
      "{1, 2, 3, (5+6j), 'Hello'}\n"
     ]
    }
   ],
   "source": [
    "# Rule 5. ----> Set are unordered data type so it set the elements according to hashing algorithm\n",
    "s9={\"Hello\",1,2,3,True,5+6j}\n",
    "print(s9)"
   ]
  },
  {
   "cell_type": "code",
   "execution_count": 60,
   "id": "e54a7f12-3543-4ca8-abed-3a4789f143a4",
   "metadata": {},
   "outputs": [
    {
     "ename": "TypeError",
     "evalue": "'set' object is not subscriptable",
     "output_type": "error",
     "traceback": [
      "\u001b[1;31m---------------------------------------------------------------------------\u001b[0m",
      "\u001b[1;31mTypeError\u001b[0m                                 Traceback (most recent call last)",
      "Cell \u001b[1;32mIn[60], line 3\u001b[0m\n\u001b[0;32m      1\u001b[0m \u001b[38;5;66;03m# Access Items in Set ----> Rule 2. Set do not allow indexing and slicing\u001b[39;00m\n\u001b[0;32m      2\u001b[0m s10\u001b[38;5;241m=\u001b[39m{\u001b[38;5;241m10\u001b[39m,\u001b[38;5;241m20\u001b[39m,\u001b[38;5;241m30\u001b[39m,\u001b[38;5;241m40\u001b[39m,\u001b[38;5;241m50\u001b[39m,\u001b[38;5;241m60\u001b[39m}\n\u001b[1;32m----> 3\u001b[0m \u001b[38;5;28mprint\u001b[39m(s10[\u001b[38;5;241m0\u001b[39m])\n\u001b[0;32m      4\u001b[0m \u001b[38;5;28mprint\u001b[39m(s10[\u001b[38;5;241m0\u001b[39m:\u001b[38;5;241m5\u001b[39m])\n",
      "\u001b[1;31mTypeError\u001b[0m: 'set' object is not subscriptable"
     ]
    }
   ],
   "source": [
    "# Access Items in Set ----> Rule 2. Set do not allow indexing and slicing\n",
    "s10={10,20,30,40,50,60}\n",
    "print(s10[0])\n",
    "print(s10[0:5])\n"
   ]
  },
  {
   "cell_type": "code",
   "execution_count": 63,
   "id": "109bc0ae-13ef-452d-b68d-788ae9c182ae",
   "metadata": {},
   "outputs": [
    {
     "name": "stdout",
     "output_type": "stream",
     "text": [
      "{1, 2, 3, 4, 5, 6, 7, 8}\n",
      "{False, 1, 2, 3, 4, 5, 6, 7, 8, 66, 12, 77, 22, 35, 48, 55, 'Hello'}\n"
     ]
    }
   ],
   "source": [
    "# Add items in Set  -----> Reule 3. Sets itself is a mutable data type\n",
    "s11={1,2,3,4,5,6,7}\n",
    "s11.add(8)\n",
    "print(s11)\n",
    "\n",
    "#update ----> It accept any iterale like list, tuple ,set.\n",
    "#({4,5} was not added as a whole single object, but instead its inner elements (4 and 5) were extracted and inserted into the set.)\n",
    "s11.update([\"Hello\",12,22,35,48],{77,55,66},(True,False))\n",
    "print(s11)"
   ]
  },
  {
   "cell_type": "code",
   "execution_count": 1,
   "id": "2300b596-04d4-4f5a-a19d-f041919ec319",
   "metadata": {},
   "outputs": [
    {
     "name": "stdout",
     "output_type": "stream",
     "text": [
      "{50, 40, 10, 30}\n",
      "{40, 10, 30}\n",
      "set()\n"
     ]
    },
    {
     "ename": "TypeError",
     "evalue": "'set' object doesn't support item deletion",
     "output_type": "error",
     "traceback": [
      "\u001b[1;31m---------------------------------------------------------------------------\u001b[0m",
      "\u001b[1;31mTypeError\u001b[0m                                 Traceback (most recent call last)",
      "Cell \u001b[1;32mIn[1], line 14\u001b[0m\n\u001b[0;32m     12\u001b[0m \u001b[38;5;66;03m# Rule 2. Set do not allow indexing and slicing (so not allow delete on basis of indexing)\u001b[39;00m\n\u001b[0;32m     13\u001b[0m s\u001b[38;5;241m=\u001b[39m{\u001b[38;5;241m100\u001b[39m,\u001b[38;5;241m200\u001b[39m,\u001b[38;5;241m300\u001b[39m,\u001b[38;5;241m400\u001b[39m}\n\u001b[1;32m---> 14\u001b[0m \u001b[38;5;28;01mdel\u001b[39;00m s[\u001b[38;5;241m2\u001b[39m]\n\u001b[0;32m     15\u001b[0m \u001b[38;5;28mprint\u001b[39m(s)\n",
      "\u001b[1;31mTypeError\u001b[0m: 'set' object doesn't support item deletion"
     ]
    }
   ],
   "source": [
    "# Delete Sets\n",
    "s={10,20,30,40,50}\n",
    "s.remove(20)\n",
    "print(s) \n",
    "\n",
    "s.pop()\n",
    "print(s) \n",
    "\n",
    "s.clear()\n",
    "print(s) \n",
    "\n",
    "# Rule 2. Set do not allow indexing and slicing (so not allow delete on basis of indexing)\n",
    "s={100,200,300,400}\n",
    "del s[2]\n",
    "print(s)"
   ]
  },
  {
   "cell_type": "code",
   "execution_count": 4,
   "id": "a1a007c4-d7a3-4fd0-8dc2-dfdce69202e8",
   "metadata": {},
   "outputs": [
    {
     "name": "stdout",
     "output_type": "stream",
     "text": [
      "1\n",
      "2\n",
      "3\n",
      "4\n",
      "5\n",
      "True\n"
     ]
    },
    {
     "ename": "TypeError",
     "evalue": "unsupported operand type(s) for *: 'set' and 'int'",
     "output_type": "error",
     "traceback": [
      "\u001b[1;31m---------------------------------------------------------------------------\u001b[0m",
      "\u001b[1;31mTypeError\u001b[0m                                 Traceback (most recent call last)",
      "Cell \u001b[1;32mIn[4], line 7\u001b[0m\n\u001b[0;32m      5\u001b[0m     \u001b[38;5;28mprint\u001b[39m(i)\n\u001b[0;32m      6\u001b[0m \u001b[38;5;28mprint\u001b[39m(\u001b[38;5;241m4\u001b[39m \u001b[38;5;129;01min\u001b[39;00m s)\n\u001b[1;32m----> 7\u001b[0m \u001b[38;5;28mprint\u001b[39m(s\u001b[38;5;241m*\u001b[39m\u001b[38;5;241m2\u001b[39m)\n\u001b[0;32m      9\u001b[0m a\u001b[38;5;241m=\u001b[39m{\u001b[38;5;241m1\u001b[39m,\u001b[38;5;241m2\u001b[39m,\u001b[38;5;241m3\u001b[39m,\u001b[38;5;241m4\u001b[39m,\u001b[38;5;241m5\u001b[39m}\n\u001b[0;32m     10\u001b[0m b\u001b[38;5;241m=\u001b[39m{\u001b[38;5;241m11\u001b[39m,\u001b[38;5;241m12\u001b[39m,\u001b[38;5;241m13\u001b[39m,\u001b[38;5;241m14\u001b[39m,\u001b[38;5;241m15\u001b[39m}\n",
      "\u001b[1;31mTypeError\u001b[0m: unsupported operand type(s) for *: 'set' and 'int'"
     ]
    }
   ],
   "source": [
    "# operations on set\n",
    "\n",
    "s={1,2,3,4,5}\n",
    "for i in s:\n",
    "    print(i)\n",
    "print(4 in s)\n",
    "#product ----> Not allow in sets because it makes duplicate, Rule 1. Set not allow duplicates in itself\n",
    "print(s*2)\n",
    "\n",
    "a={1,2,3,4,5}\n",
    "b={11,12,13,14,15}\n",
    "print(a+b) #addition of sets also (conctination) not exist in sets, instead set have union function"
   ]
  },
  {
   "cell_type": "code",
   "execution_count": 13,
   "id": "a863906e-fe54-4913-a316-feced041a51f",
   "metadata": {},
   "outputs": [
    {
     "name": "stdout",
     "output_type": "stream",
     "text": [
      "9\n",
      "99\n",
      "1\n",
      "408\n",
      "[1, 11, 22, 33, 44, 55, 66, 77, 99]\n",
      "[99, 77, 66, 55, 44, 33, 22, 11, 1]\n",
      "{1, 2, 3, 4, 5, 6, 7, 8, 10, 11}\n",
      "{5, 6}\n",
      "{1, 2, 3, 4}\n"
     ]
    }
   ],
   "source": [
    "# Fuctions on set\n",
    "a={22,33,44,55,66,77,11,99,1}\n",
    "print(len(a))\n",
    "\n",
    "print(max(a))\n",
    "print(min(a))\n",
    "print(sum(a))\n",
    "print(sorted(a))\n",
    "print(sorted(a,reverse=True))\n",
    "\n",
    "#union ----> it make a new set from another  set without change in the original set\n",
    "s1={1,2,3,4,5,6}\n",
    "s2={7,6,10,11,5,8}\n",
    "\n",
    "s3=s1.union(s2)\n",
    "print(s3)\n",
    "#intersection ----> Return the same elements in both sets\n",
    "\n",
    "s4=s1.intersection(s2)\n",
    "print(s4)\n",
    "\n",
    "#difference ----> Return the elemnts that are in s1 but not in s2\n",
    "\n",
    "s5=s1.difference(s2)\n",
    "print(s5)\n",
    "\n",
    "\n",
    "\n",
    "\n"
   ]
  },
  {
   "cell_type": "code",
   "execution_count": null,
   "id": "426bb041-f2e9-4bc6-839c-08cef920ec99",
   "metadata": {},
   "outputs": [],
   "source": []
  }
 ],
 "metadata": {
  "kernelspec": {
   "display_name": "Python 3 (ipykernel)",
   "language": "python",
   "name": "python3"
  },
  "language_info": {
   "codemirror_mode": {
    "name": "ipython",
    "version": 3
   },
   "file_extension": ".py",
   "mimetype": "text/x-python",
   "name": "python",
   "nbconvert_exporter": "python",
   "pygments_lexer": "ipython3",
   "version": "3.13.5"
  }
 },
 "nbformat": 4,
 "nbformat_minor": 5
}
